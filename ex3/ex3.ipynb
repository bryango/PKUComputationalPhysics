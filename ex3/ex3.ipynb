{
 "cells": [
  {
   "cell_type": "code",
   "execution_count": 1,
   "metadata": {},
   "outputs": [
    {
     "data": {
      "text/markdown": [
       "$\\newcommand{\\mbb}[1]{\\mathbb{#1}}\n",
       "\\newcommand{\\mrm}[1]{\\mathrm{#1}}\n",
       "\\newcommand{\\mcal}[1]{\\mathcal{#1}}\n",
       "\\newcommand{\\tup}[1]{\\textup{#1}}\n",
       "\\newcommand{\\idty}{\\mathds{1}}\n",
       "%Specials\n",
       "\\newcommand{\\hodgedual}{\\operatorname{\\star}}\n",
       "\\newcommand{\\dual}{\\ \\xlongleftrightarrow{\\ \\textrm{dual}\\ }\\ }\n",
       "\\newcommand{\\abs}[1]{\\left|#1\\right|}\n",
       "\\newcommand{\\norm}[1]{\\left\\|#1\\right\\|}\n",
       "\\newcommand{\\pqty}[1]{\\left(#1\\right)}\n",
       "\\renewcommand{\\idty}{\\mathbf{1}}\n",
       "$\n",
       "        <style>\n",
       "            img.inline_img {\n",
       "                display: unset;\n",
       "                margin-top: unset;\n",
       "            }\n",
       "            .MathJax_Display {\n",
       "                margin: 6px;\n",
       "            }\n",
       "            .dataframe td {\n",
       "                white-space: nowrap;\n",
       "            }\n",
       "        </style>\n",
       "        <script>\n",
       "            IPython.OutputArea.prototype._should_scroll = function(lines) {\n",
       "                return false;\n",
       "            }\n",
       "        </script>\n",
       "    <script src=\"assets/frame_loaded.js\"></script>`< Initialization cell >`"
      ],
      "text/plain": [
       "<IPython.core.display.Markdown object>"
      ]
     },
     "metadata": {},
     "output_type": "display_data"
    }
   ],
   "source": [
    "from assets.pdfshow import pdfshowOption, pdfGet\n",
    "from assets.startup import startupOption, display_whitespace, clear_output, initialize, goodbye\n",
    "pdfshowOption['mini'] = False\n",
    "startupOption['debug'] = False\n",
    "initialize()"
   ]
  },
  {
   "cell_type": "markdown",
   "metadata": {},
   "source": [
    "### README\n",
    "> 姓名：Bryan &nbsp;&nbsp; 学号：1500066666\n",
    ">\n",
    "> ** 请首先阅读该目录下的 `README.md` 文档！** <br/>\n",
    "> ** 完整运行本文档需要大概半分多钟！ **\n",
    ">\n",
    "> 助教老师好～ 本人不用 `\\usepackage` 无法生存 <img class=\"inline_img\" src=\"https://bryango.github.io/assets/coolemoji/d_erha.png\" width=\"24px\" />, 但又难以拒绝 jupyter 的交互式环境，于是捣鼓出了一个解决方案：先用 (Xe) $\\mathrm{\\LaTeX}$ 编译成 PDF, 再用 [PDF.js](https://github.com/mozilla/pdf.js/) 嵌入到此文档当中。**若想运行文档中的代码，务必先 `restart & run all` 一下**。相应的实现过程与格式优化置于 `assets/` 目录内，不属于作业的核心内容。\n",
    ">\n",
    "> 若 PDF.js 不能正常调用，可以尝试 mini 模式；只需将初始化单元中的 `mini` 选项改为 `True` 即可：\n",
    "```python\n",
    "pdfshow_option['mini'] = True\n",
    "```\n",
    "此时 PDF 将由浏览器的内置阅读器打开。这样显示的 PDF 将被限制在一定高度的输出框内，无法展开；`exN_mini.html` 即在此模式下生成。\n",
    "此外，文中的理论分析整合为文档：[`document.pdf`](latex/document.pdf), 便于打印、独立阅读。\n",
    ">\n",
    "> ----------------\n",
    "> 另外，本次作业中的部分代码与作业核心内容关系紧密，但终究不是重点；这些代码要么来源于前面的作业、要么是函数作图命令（`matplotlib` 的一些操作）等等。它们往往冗长而无趣，故隐于 module 当中；它们位于目录 `pycode/` 之下。\n",
    ">\n",
    "> 核心代码均显示在了文档当中，但实际也多是自成 module, 通过 `some_function??` 显示；这里采用了[一个 hack](http://nbviewer.jupyter.org/gist/minrk/7715212), 使 pager 显示在行内。如果觉得太长碍事，只需将 `some_function??` 注释掉即可。在前面的初始化单元之 `assets.startup` 中，已通过命令：\n",
    "```python\n",
    "sys.path.append('pycode')\n",
    "```\n",
    "将引用目录加入到了 `sys.path` 当中，因此下文中的引用并未出现 `pycode` 前缀。\n",
    ">\n",
    "> ----------------\n",
    "> 此外，本人刚入门 python, js 和 css 也是现学的，上述系统（以及下面的作业）显然还有许多 bug, 如使用 PDF.js 时无法导出 html 文档；此处只得暂时搁置，由此造成的麻烦，本人深表歉意...\n",
    ">\n",
    "> 万分感谢～"
   ]
  },
  {
   "cell_type": "code",
   "execution_count": 2,
   "metadata": {
    "scrolled": true
   },
   "outputs": [
    {
     "data": {
      "text/html": [
       "\n",
       "            <p style=\"font-size: 2px; font-style: italic; \">\n",
       "                See no PDF below?\n",
       "                Go to <a href=\"latex/sections/0.title.pdf\">latex/sections/0.title.pdf</a> directly! </p>\n",
       "            <iframe class=\"PDFframe\" src='assets/embed.html?file=latex/sections/0.title.pdf'\n",
       "                width=\"100%\" frameborder=\"0\" onload=\"PDFframeLoaded()\" >\n",
       "            </iframe>\n",
       "        "
      ],
      "text/plain": [
       "<IPython.core.display.HTML object>"
      ]
     },
     "metadata": {},
     "output_type": "display_data"
    }
   ],
   "source": [
    "pdfGet('latex/sections/0.title.pdf').show()"
   ]
  },
  {
   "cell_type": "code",
   "execution_count": 3,
   "metadata": {},
   "outputs": [],
   "source": [
    "import numpy as np\n",
    "import pandas as pd\n",
    "import matplotlib.pyplot as plt\n",
    "from IPython.display import display, HTML, Markdown\n",
    "\n",
    "# If u DON'T HAVE LaTeX, change this to `FALSE`!\n",
    "# But it would look much better if u use LaTeX...\n",
    "tex_status = True\n",
    "plt.rc('text', usetex=tex_status)\n",
    "plt.rc('text.latex', unicode=tex_status)"
   ]
  },
  {
   "cell_type": "markdown",
   "metadata": {},
   "source": [
    "## 1. QR 分解\n",
    "下面比较两种 QR 分解方法。首先，理论估计：\n",
    "### (a) QR 分解的算法复杂度"
   ]
  },
  {
   "cell_type": "code",
   "execution_count": 4,
   "metadata": {
    "scrolled": true
   },
   "outputs": [
    {
     "data": {
      "text/html": [
       "\n",
       "            <p style=\"font-size: 2px; font-style: italic; \">\n",
       "                See no PDF below?\n",
       "                Go to <a href=\"latex/sections/1.qr_complexity.pdf\">latex/sections/1.qr_complexity.pdf</a> directly! </p>\n",
       "            <iframe class=\"PDFframe\" src='assets/embed.html?file=latex/sections/1.qr_complexity.pdf'\n",
       "                width=\"100%\" frameborder=\"0\" onload=\"PDFframeLoaded()\" >\n",
       "            </iframe>\n",
       "        "
      ],
      "text/plain": [
       "<IPython.core.display.HTML object>"
      ]
     },
     "metadata": {},
     "output_type": "display_data"
    }
   ],
   "source": [
    "pdfGet('latex/sections/1.qr_complexity.pdf').show()"
   ]
  },
  {
   "cell_type": "markdown",
   "metadata": {},
   "source": [
    "### (b) Householder 变换法求 QR 分解\n",
    "为实现完整的 Householder 约化，这里首先编写一个子程序，以实现子空间中的 Householder 约化（将矢量 $x$ 的所有分量转移到第一个分量上）："
   ]
  },
  {
   "cell_type": "code",
   "execution_count": 5,
   "metadata": {},
   "outputs": [
    {
     "name": "stdout",
     "output_type": "stream",
     "text": [
      "\u001b[0;32mdef\u001b[0m \u001b[0mhouseholder_vector\u001b[0m\u001b[0;34m(\u001b[0m\u001b[0minput_vector\u001b[0m\u001b[0;34m:\u001b[0m \u001b[0mlist\u001b[0m\u001b[0;34m,\u001b[0m \u001b[0mround_accuracy\u001b[0m\u001b[0;34m=\u001b[0m\u001b[0;36m16\u001b[0m\u001b[0;34m)\u001b[0m \\\n",
      "        \u001b[0;34m->\u001b[0m \u001b[0;34m(\u001b[0m\u001b[0mfloat\u001b[0m\u001b[0;34m,\u001b[0m \u001b[0mlist\u001b[0m\u001b[0;34m)\u001b[0m\u001b[0;34m:\u001b[0m\u001b[0;34m\u001b[0m\n",
      "\u001b[0;34m\u001b[0m    \u001b[0;34m\"\"\" Construct aHouseholder reduction,\u001b[0m\n",
      "\u001b[0;34m        which move all components of `input_vector` to its 1st entry;\u001b[0m\n",
      "\u001b[0;34m        :return: Householder vector v (normal vector of reflection) & its norm,\u001b[0m\n",
      "\u001b[0;34m            as in (v_square, v).\u001b[0m\n",
      "\u001b[0;34m    \"\"\"\u001b[0m\u001b[0;34m\u001b[0m\n",
      "\u001b[0;34m\u001b[0m    \u001b[0;31m# Normalize input_vector by inf-norm to prevent overflow; DEEPCOPY\u001b[0m\u001b[0;34m\u001b[0m\n",
      "\u001b[0;34m\u001b[0m    \u001b[0mx_max\u001b[0m \u001b[0;34m=\u001b[0m \u001b[0mmax\u001b[0m\u001b[0;34m(\u001b[0m\u001b[0mmap\u001b[0m\u001b[0;34m(\u001b[0m\u001b[0mabs\u001b[0m\u001b[0;34m,\u001b[0m \u001b[0minput_vector\u001b[0m\u001b[0;34m)\u001b[0m\u001b[0;34m)\u001b[0m\u001b[0;34m\u001b[0m\n",
      "\u001b[0;34m\u001b[0m    \u001b[0mv\u001b[0m \u001b[0;34m=\u001b[0m \u001b[0mlist\u001b[0m\u001b[0;34m(\u001b[0m\u001b[0mmap\u001b[0m\u001b[0;34m(\u001b[0m\u001b[0;32mlambda\u001b[0m \u001b[0mx\u001b[0m\u001b[0;34m:\u001b[0m \u001b[0mx\u001b[0m \u001b[0;34m/\u001b[0m \u001b[0mx_max\u001b[0m\u001b[0;34m,\u001b[0m \u001b[0minput_vector\u001b[0m\u001b[0;34m)\u001b[0m\u001b[0;34m)\u001b[0m\u001b[0;34m\u001b[0m\n",
      "\u001b[0;34m\u001b[0m    \u001b[0;31m# Euclidean norm\u001b[0m\u001b[0;34m\u001b[0m\n",
      "\u001b[0;34m\u001b[0m    \u001b[0mres_square\u001b[0m \u001b[0;34m=\u001b[0m \u001b[0msum\u001b[0m\u001b[0;34m(\u001b[0m\u001b[0mx_i\u001b[0m\u001b[0;34m**\u001b[0m\u001b[0;36m2\u001b[0m \u001b[0;32mfor\u001b[0m \u001b[0mx_i\u001b[0m \u001b[0;32min\u001b[0m \u001b[0mv\u001b[0m\u001b[0;34m[\u001b[0m\u001b[0;36m1\u001b[0m\u001b[0;34m:\u001b[0m\u001b[0;34m]\u001b[0m\u001b[0;34m)\u001b[0m\u001b[0;34m\u001b[0m\n",
      "\u001b[0;34m\u001b[0m    \u001b[0mx_norm\u001b[0m \u001b[0;34m=\u001b[0m \u001b[0msqrt\u001b[0m\u001b[0;34m(\u001b[0m\u001b[0mres_square\u001b[0m \u001b[0;34m+\u001b[0m \u001b[0mv\u001b[0m\u001b[0;34m[\u001b[0m\u001b[0;36m0\u001b[0m\u001b[0;34m]\u001b[0m\u001b[0;34m**\u001b[0m\u001b[0;36m2\u001b[0m\u001b[0;34m)\u001b[0m\u001b[0;34m\u001b[0m\n",
      "\u001b[0;34m\u001b[0m\u001b[0;34m\u001b[0m\n",
      "\u001b[0;34m\u001b[0m    \u001b[0;32mif\u001b[0m \u001b[0mround\u001b[0m\u001b[0;34m(\u001b[0m\u001b[0mres_square\u001b[0m\u001b[0;34m,\u001b[0m \u001b[0mround_accuracy\u001b[0m\u001b[0;34m)\u001b[0m \u001b[0;34m!=\u001b[0m \u001b[0;36m0\u001b[0m\u001b[0;34m:\u001b[0m\u001b[0;34m\u001b[0m\n",
      "\u001b[0;34m\u001b[0m        \u001b[0;32mif\u001b[0m \u001b[0mv\u001b[0m\u001b[0;34m[\u001b[0m\u001b[0;36m0\u001b[0m\u001b[0;34m]\u001b[0m \u001b[0;34m<=\u001b[0m \u001b[0;36m0\u001b[0m\u001b[0;34m:\u001b[0m\u001b[0;34m\u001b[0m\n",
      "\u001b[0;34m\u001b[0m            \u001b[0mv\u001b[0m\u001b[0;34m[\u001b[0m\u001b[0;36m0\u001b[0m\u001b[0;34m]\u001b[0m \u001b[0;34m-=\u001b[0m \u001b[0mx_norm\u001b[0m  \u001b[0;31m# Minus so that end result is positive\u001b[0m\u001b[0;34m\u001b[0m\n",
      "\u001b[0;34m\u001b[0m        \u001b[0;32melse\u001b[0m\u001b[0;34m:\u001b[0m\u001b[0;34m\u001b[0m\n",
      "\u001b[0;34m\u001b[0m            \u001b[0mv\u001b[0m\u001b[0;34m[\u001b[0m\u001b[0;36m0\u001b[0m\u001b[0;34m]\u001b[0m \u001b[0;34m=\u001b[0m \u001b[0;34m-\u001b[0m \u001b[0mres_square\u001b[0m \u001b[0;34m/\u001b[0m \u001b[0;34m(\u001b[0m\u001b[0mv\u001b[0m\u001b[0;34m[\u001b[0m\u001b[0;36m0\u001b[0m\u001b[0;34m]\u001b[0m \u001b[0;34m+\u001b[0m \u001b[0mx_norm\u001b[0m\u001b[0;34m)\u001b[0m  \u001b[0;31m# Better accuracy\u001b[0m\u001b[0;34m\u001b[0m\n",
      "\u001b[0;34m\u001b[0m        \u001b[0mv_square\u001b[0m \u001b[0;34m=\u001b[0m \u001b[0mv\u001b[0m\u001b[0;34m[\u001b[0m\u001b[0;36m0\u001b[0m\u001b[0;34m]\u001b[0m\u001b[0;34m**\u001b[0m\u001b[0;36m2\u001b[0m \u001b[0;34m+\u001b[0m \u001b[0mres_square\u001b[0m\u001b[0;34m\u001b[0m\n",
      "\u001b[0;34m\u001b[0m        \u001b[0;32mreturn\u001b[0m \u001b[0;34m(\u001b[0m\u001b[0mv_square\u001b[0m\u001b[0;34m,\u001b[0m \u001b[0mv\u001b[0m\u001b[0;34m)\u001b[0m\u001b[0;34m\u001b[0m\n",
      "\u001b[0;34m\u001b[0m    \u001b[0;32melse\u001b[0m\u001b[0;34m:\u001b[0m\u001b[0;34m\u001b[0m\n",
      "\u001b[0;34m\u001b[0m        \u001b[0;32mreturn\u001b[0m \u001b[0;34m(\u001b[0m\u001b[0;36m0.\u001b[0m\u001b[0;34m,\u001b[0m \u001b[0;34m[\u001b[0m\u001b[0;36m0.\u001b[0m\u001b[0;34m]\u001b[0m \u001b[0;34m*\u001b[0m \u001b[0mlen\u001b[0m\u001b[0;34m(\u001b[0m\u001b[0mv\u001b[0m\u001b[0;34m)\u001b[0m\u001b[0;34m)\u001b[0m\u001b[0;34m\u001b[0m\u001b[0m\n"
     ]
    }
   ],
   "source": [
    "from toolkit.qrdecomp import householder_vector\n",
    "householder_vector??"
   ]
  },
  {
   "cell_type": "markdown",
   "metadata": {},
   "source": [
    "** 与朴素的 Householder 变换相比，跟据[参考教材](http://www.bookask.com/book/13300.html)， 这里额外进行了一些优化： **\n",
    "* 为避免求模方时发生上、下溢，对 $x$ 按最大分量进行了缩放（注释为 `# Normalize input_vector ... ` , 见上）；\n",
    "* Householder 矢量 $v$ 的选取有一定的自由度；具体而言，$v$ 作为镜面反射的法向量，可选：\n",
    "$$ v = x \\pm \\norm{x}e_0 $$\n",
    "这里统一使 $H = \\idty - 2vv^\\mrm{T}/\\norm{v}^2$ 的作用结果为正，则相应地应取 $v = x - \\norm{x}e_0$ . \n",
    "* 计算 $v = x - \\norm{x}e_0$ 时，还得当心大数相消；对首个分量 $x_0 > 0$, 注意到相应的：\n",
    "$$ v_0 = x_0 - \\norm{x}\n",
    "= \\frac{x_0^2 - \\norm{x}^2}{x_0 + \\norm{x}}\n",
    "= - \\frac{1}{x_0 + \\norm{x}} \\pqty{x_1^2 + x_2^2 + \\cdots}$$\n",
    "这样即可避免大数相消。程序实现时，额外定义了 `res_square` $= \\pqty{x_1^2 + x_2^2 + \\cdots}$, 以避免重复计算。\n",
    "\n",
    "利用这一子程序，可以更为简洁地写出完整的 Householder 约化："
   ]
  },
  {
   "cell_type": "code",
   "execution_count": 6,
   "metadata": {},
   "outputs": [
    {
     "name": "stdout",
     "output_type": "stream",
     "text": [
      "\u001b[0;32mdef\u001b[0m \u001b[0mqr_householder\u001b[0m\u001b[0;34m(\u001b[0m\u001b[0mmatrix_input\u001b[0m\u001b[0;34m:\u001b[0m \u001b[0mlist\u001b[0m\u001b[0;34m,\u001b[0m\u001b[0;34m\u001b[0m\n",
      "\u001b[0;34m\u001b[0m                   \u001b[0mround_accuracy\u001b[0m\u001b[0;34m=\u001b[0m\u001b[0;36m16\u001b[0m\u001b[0;34m,\u001b[0m\u001b[0;34m\u001b[0m\n",
      "\u001b[0;34m\u001b[0m                   \u001b[0mmatrix_check\u001b[0m\u001b[0;34m=\u001b[0m\u001b[0;34m'notChecked'\u001b[0m\u001b[0;34m)\u001b[0m \u001b[0;34m->\u001b[0m \u001b[0;34m(\u001b[0m\u001b[0mlist\u001b[0m\u001b[0;34m,\u001b[0m \u001b[0mlist\u001b[0m\u001b[0;34m)\u001b[0m\u001b[0;34m:\u001b[0m\u001b[0;34m\u001b[0m\n",
      "\u001b[0;34m\u001b[0m    \u001b[0;34m\"\"\" QR decomposition by Householder;\u001b[0m\n",
      "\u001b[0;34m        :return: Q, R matrices.\u001b[0m\n",
      "\u001b[0;34m    \"\"\"\u001b[0m\u001b[0;34m\u001b[0m\n",
      "\u001b[0;34m\u001b[0m    \u001b[0mr_mat\u001b[0m \u001b[0;34m=\u001b[0m \u001b[0mdeepcopy\u001b[0m\u001b[0;34m(\u001b[0m\u001b[0mmatrix_input\u001b[0m\u001b[0;34m)\u001b[0m\u001b[0;34m\u001b[0m\n",
      "\u001b[0;34m\u001b[0m    \u001b[0mn\u001b[0m \u001b[0;34m=\u001b[0m \u001b[0mmatrix_check_dim\u001b[0m\u001b[0;34m(\u001b[0m\u001b[0mr_mat\u001b[0m\u001b[0;34m,\u001b[0m \u001b[0mcheck\u001b[0m\u001b[0;34m=\u001b[0m\u001b[0mmatrix_check\u001b[0m\u001b[0;34m,\u001b[0m \u001b[0mspec\u001b[0m\u001b[0;34m=\u001b[0m\u001b[0;34m'square'\u001b[0m\u001b[0;34m)\u001b[0m\u001b[0;34m[\u001b[0m\u001b[0;36m0\u001b[0m\u001b[0;34m]\u001b[0m\u001b[0;34m\u001b[0m\n",
      "\u001b[0;34m\u001b[0m\u001b[0;34m\u001b[0m\n",
      "\u001b[0;34m\u001b[0m    \u001b[0mv_list\u001b[0m \u001b[0;34m=\u001b[0m \u001b[0;34m[\u001b[0m\u001b[0;34m]\u001b[0m  \u001b[0;31m# List of Householder vectors, as in (v_square, v)\u001b[0m\u001b[0;34m\u001b[0m\n",
      "\u001b[0;34m\u001b[0m    \u001b[0mq_mat\u001b[0m \u001b[0;34m=\u001b[0m \u001b[0midentity_matrix\u001b[0m\u001b[0;34m(\u001b[0m\u001b[0mn\u001b[0m\u001b[0;34m)\u001b[0m  \u001b[0;31m# Initialize Q as identity matrix\u001b[0m\u001b[0;34m\u001b[0m\n",
      "\u001b[0;34m\u001b[0m\u001b[0;34m\u001b[0m\n",
      "\u001b[0;34m\u001b[0m    \u001b[0;31m# k as column index\u001b[0m\u001b[0;34m\u001b[0m\n",
      "\u001b[0;34m\u001b[0m    \u001b[0;32mfor\u001b[0m \u001b[0mk\u001b[0m \u001b[0;32min\u001b[0m \u001b[0mrange\u001b[0m\u001b[0;34m(\u001b[0m\u001b[0mn\u001b[0m \u001b[0;34m-\u001b[0m \u001b[0;36m1\u001b[0m\u001b[0;34m)\u001b[0m\u001b[0;34m:\u001b[0m\u001b[0;34m\u001b[0m\n",
      "\u001b[0;34m\u001b[0m        \u001b[0;31m# Take diagonal, and elements below\u001b[0m\u001b[0;34m\u001b[0m\n",
      "\u001b[0;34m\u001b[0m        \u001b[0mv_square\u001b[0m\u001b[0;34m,\u001b[0m \u001b[0mv\u001b[0m \u001b[0;34m=\u001b[0m \u001b[0mhouseholder_vector\u001b[0m\u001b[0;34m(\u001b[0m\u001b[0;34m\u001b[0m\n",
      "\u001b[0;34m\u001b[0m            \u001b[0;34m[\u001b[0m \u001b[0mr_i\u001b[0m\u001b[0;34m[\u001b[0m\u001b[0mk\u001b[0m\u001b[0;34m]\u001b[0m \u001b[0;32mfor\u001b[0m \u001b[0mr_i\u001b[0m \u001b[0;32min\u001b[0m \u001b[0mr_mat\u001b[0m\u001b[0;34m[\u001b[0m\u001b[0mk\u001b[0m\u001b[0;34m:\u001b[0m\u001b[0;34m]\u001b[0m \u001b[0;34m]\u001b[0m\u001b[0;34m,\u001b[0m \u001b[0mround_accuracy\u001b[0m\u001b[0;34m\u001b[0m\n",
      "\u001b[0;34m\u001b[0m        \u001b[0;34m)\u001b[0m\u001b[0;34m\u001b[0m\n",
      "\u001b[0;34m\u001b[0m        \u001b[0mv_list\u001b[0m\u001b[0;34m.\u001b[0m\u001b[0mappend\u001b[0m\u001b[0;34m(\u001b[0m\u001b[0;34m(\u001b[0m\u001b[0mv_square\u001b[0m\u001b[0;34m,\u001b[0m \u001b[0mv\u001b[0m\u001b[0;34m)\u001b[0m\u001b[0;34m)\u001b[0m\u001b[0;34m\u001b[0m\n",
      "\u001b[0;34m\u001b[0m\u001b[0;34m\u001b[0m\n",
      "\u001b[0;34m\u001b[0m        \u001b[0mvt_dot_r\u001b[0m \u001b[0;34m=\u001b[0m \u001b[0;34m[\u001b[0m \u001b[0msum\u001b[0m\u001b[0;34m(\u001b[0m\u001b[0mv\u001b[0m\u001b[0;34m[\u001b[0m\u001b[0ml\u001b[0m \u001b[0;34m-\u001b[0m \u001b[0mk\u001b[0m\u001b[0;34m]\u001b[0m \u001b[0;34m*\u001b[0m \u001b[0mr_mat\u001b[0m\u001b[0;34m[\u001b[0m\u001b[0ml\u001b[0m\u001b[0;34m]\u001b[0m\u001b[0;34m[\u001b[0m\u001b[0mj\u001b[0m\u001b[0;34m]\u001b[0m \u001b[0;32mfor\u001b[0m \u001b[0ml\u001b[0m \u001b[0;32min\u001b[0m \u001b[0mrange\u001b[0m\u001b[0;34m(\u001b[0m\u001b[0mk\u001b[0m\u001b[0;34m,\u001b[0m \u001b[0mn\u001b[0m\u001b[0;34m)\u001b[0m\u001b[0;34m)\u001b[0m\u001b[0;34m\u001b[0m\n",
      "\u001b[0;34m\u001b[0m                     \u001b[0;32mfor\u001b[0m \u001b[0mj\u001b[0m \u001b[0;32min\u001b[0m \u001b[0mrange\u001b[0m\u001b[0;34m(\u001b[0m\u001b[0mk\u001b[0m\u001b[0;34m,\u001b[0m \u001b[0mn\u001b[0m\u001b[0;34m)\u001b[0m \u001b[0;34m]\u001b[0m\u001b[0;34m\u001b[0m\n",
      "\u001b[0;34m\u001b[0m        \u001b[0;32mfor\u001b[0m \u001b[0mi\u001b[0m \u001b[0;32min\u001b[0m \u001b[0mrange\u001b[0m\u001b[0;34m(\u001b[0m\u001b[0mk\u001b[0m\u001b[0;34m,\u001b[0m \u001b[0mn\u001b[0m\u001b[0;34m)\u001b[0m\u001b[0;34m:\u001b[0m\u001b[0;34m\u001b[0m\n",
      "\u001b[0;34m\u001b[0m            \u001b[0mcoefficient\u001b[0m \u001b[0;34m=\u001b[0m \u001b[0;36m2\u001b[0m \u001b[0;34m*\u001b[0m \u001b[0mv\u001b[0m\u001b[0;34m[\u001b[0m\u001b[0mi\u001b[0m \u001b[0;34m-\u001b[0m \u001b[0mk\u001b[0m\u001b[0;34m]\u001b[0m \u001b[0;34m/\u001b[0m \u001b[0mv_square\u001b[0m\u001b[0;34m\u001b[0m\n",
      "\u001b[0;34m\u001b[0m            \u001b[0;32mfor\u001b[0m \u001b[0mj\u001b[0m \u001b[0;32min\u001b[0m \u001b[0mrange\u001b[0m\u001b[0;34m(\u001b[0m\u001b[0mk\u001b[0m\u001b[0;34m,\u001b[0m \u001b[0mn\u001b[0m\u001b[0;34m)\u001b[0m\u001b[0;34m:\u001b[0m\u001b[0;34m\u001b[0m\n",
      "\u001b[0;34m\u001b[0m                \u001b[0mr_mat\u001b[0m\u001b[0;34m[\u001b[0m\u001b[0mi\u001b[0m\u001b[0;34m]\u001b[0m\u001b[0;34m[\u001b[0m\u001b[0mj\u001b[0m\u001b[0;34m]\u001b[0m \u001b[0;34m-=\u001b[0m \u001b[0mcoefficient\u001b[0m \u001b[0;34m*\u001b[0m \u001b[0mvt_dot_r\u001b[0m\u001b[0;34m[\u001b[0m\u001b[0mj\u001b[0m \u001b[0;34m-\u001b[0m \u001b[0mk\u001b[0m\u001b[0;34m]\u001b[0m\u001b[0;34m\u001b[0m\n",
      "\u001b[0;34m\u001b[0m\u001b[0;34m\u001b[0m\n",
      "\u001b[0;34m\u001b[0m    \u001b[0;32mfor\u001b[0m \u001b[0mv_square\u001b[0m\u001b[0;34m,\u001b[0m \u001b[0mv\u001b[0m \u001b[0;32min\u001b[0m \u001b[0mreversed\u001b[0m\u001b[0;34m(\u001b[0m\u001b[0mv_list\u001b[0m\u001b[0;34m)\u001b[0m\u001b[0;34m:\u001b[0m\u001b[0;34m\u001b[0m\n",
      "\u001b[0;34m\u001b[0m        \u001b[0mk\u001b[0m \u001b[0;34m=\u001b[0m \u001b[0mn\u001b[0m \u001b[0;34m-\u001b[0m \u001b[0mlen\u001b[0m\u001b[0;34m(\u001b[0m\u001b[0mv\u001b[0m\u001b[0;34m)\u001b[0m\u001b[0;34m\u001b[0m\n",
      "\u001b[0;34m\u001b[0m        \u001b[0mv_dot_q\u001b[0m \u001b[0;34m=\u001b[0m \u001b[0;34m[\u001b[0m \u001b[0msum\u001b[0m\u001b[0;34m(\u001b[0m\u001b[0mv\u001b[0m\u001b[0;34m[\u001b[0m\u001b[0ml\u001b[0m \u001b[0;34m-\u001b[0m \u001b[0mk\u001b[0m\u001b[0;34m]\u001b[0m \u001b[0;34m*\u001b[0m \u001b[0mq_mat\u001b[0m\u001b[0;34m[\u001b[0m\u001b[0ml\u001b[0m\u001b[0;34m]\u001b[0m\u001b[0;34m[\u001b[0m\u001b[0mj\u001b[0m\u001b[0;34m]\u001b[0m \u001b[0;32mfor\u001b[0m \u001b[0ml\u001b[0m \u001b[0;32min\u001b[0m \u001b[0mrange\u001b[0m\u001b[0;34m(\u001b[0m\u001b[0mk\u001b[0m\u001b[0;34m,\u001b[0m \u001b[0mn\u001b[0m\u001b[0;34m)\u001b[0m\u001b[0;34m)\u001b[0m\u001b[0;34m\u001b[0m\n",
      "\u001b[0;34m\u001b[0m                    \u001b[0;32mfor\u001b[0m \u001b[0mj\u001b[0m \u001b[0;32min\u001b[0m \u001b[0mrange\u001b[0m\u001b[0;34m(\u001b[0m\u001b[0mk\u001b[0m\u001b[0;34m,\u001b[0m \u001b[0mn\u001b[0m\u001b[0;34m)\u001b[0m \u001b[0;34m]\u001b[0m\u001b[0;34m\u001b[0m\n",
      "\u001b[0;34m\u001b[0m        \u001b[0;32mfor\u001b[0m \u001b[0mi\u001b[0m \u001b[0;32min\u001b[0m \u001b[0mrange\u001b[0m\u001b[0;34m(\u001b[0m\u001b[0mk\u001b[0m\u001b[0;34m,\u001b[0m \u001b[0mn\u001b[0m\u001b[0;34m)\u001b[0m\u001b[0;34m:\u001b[0m\u001b[0;34m\u001b[0m\n",
      "\u001b[0;34m\u001b[0m            \u001b[0mcoefficient\u001b[0m \u001b[0;34m=\u001b[0m \u001b[0;36m2\u001b[0m \u001b[0;34m*\u001b[0m \u001b[0mv\u001b[0m\u001b[0;34m[\u001b[0m\u001b[0mi\u001b[0m \u001b[0;34m-\u001b[0m \u001b[0mk\u001b[0m\u001b[0;34m]\u001b[0m \u001b[0;34m/\u001b[0m \u001b[0mv_square\u001b[0m\u001b[0;34m\u001b[0m\n",
      "\u001b[0;34m\u001b[0m            \u001b[0;32mfor\u001b[0m \u001b[0mj\u001b[0m \u001b[0;32min\u001b[0m \u001b[0mrange\u001b[0m\u001b[0;34m(\u001b[0m\u001b[0mk\u001b[0m\u001b[0;34m,\u001b[0m \u001b[0mn\u001b[0m\u001b[0;34m)\u001b[0m\u001b[0;34m:\u001b[0m\u001b[0;34m\u001b[0m\n",
      "\u001b[0;34m\u001b[0m                \u001b[0mq_mat\u001b[0m\u001b[0;34m[\u001b[0m\u001b[0mi\u001b[0m\u001b[0;34m]\u001b[0m\u001b[0;34m[\u001b[0m\u001b[0mj\u001b[0m\u001b[0;34m]\u001b[0m \u001b[0;34m-=\u001b[0m \u001b[0mcoefficient\u001b[0m \u001b[0;34m*\u001b[0m \u001b[0mv_dot_q\u001b[0m\u001b[0;34m[\u001b[0m\u001b[0mj\u001b[0m \u001b[0;34m-\u001b[0m \u001b[0mk\u001b[0m\u001b[0;34m]\u001b[0m\u001b[0;34m\u001b[0m\n",
      "\u001b[0;34m\u001b[0m\u001b[0;34m\u001b[0m\n",
      "\u001b[0;34m\u001b[0m    \u001b[0;32mreturn\u001b[0m \u001b[0mq_mat\u001b[0m\u001b[0;34m,\u001b[0m \u001b[0mr_mat\u001b[0m\u001b[0;34m\u001b[0m\u001b[0m\n"
     ]
    }
   ],
   "source": [
    "from toolkit.qrdecomp import qr_householder\n",
    "qr_householder??"
   ]
  },
  {
   "cell_type": "markdown",
   "metadata": {},
   "source": [
    "### (c) Givens 变换法求 QR 分解\n",
    "Givens 变换在程序操作上实际更为简单，实现如下："
   ]
  },
  {
   "cell_type": "code",
   "execution_count": 7,
   "metadata": {},
   "outputs": [
    {
     "name": "stdout",
     "output_type": "stream",
     "text": [
      "\u001b[0;32mdef\u001b[0m \u001b[0mqr_givens\u001b[0m\u001b[0;34m(\u001b[0m\u001b[0mmatrix_input\u001b[0m\u001b[0;34m:\u001b[0m \u001b[0mlist\u001b[0m\u001b[0;34m,\u001b[0m\u001b[0;34m\u001b[0m\n",
      "\u001b[0;34m\u001b[0m              \u001b[0mround_accuracy\u001b[0m\u001b[0;34m=\u001b[0m\u001b[0;36m16\u001b[0m\u001b[0;34m,\u001b[0m\u001b[0;34m\u001b[0m\n",
      "\u001b[0;34m\u001b[0m              \u001b[0mmatrix_check\u001b[0m\u001b[0;34m=\u001b[0m\u001b[0;34m'notChecked'\u001b[0m\u001b[0;34m)\u001b[0m \u001b[0;34m->\u001b[0m \u001b[0;34m(\u001b[0m\u001b[0mlist\u001b[0m\u001b[0;34m,\u001b[0m \u001b[0mlist\u001b[0m\u001b[0;34m)\u001b[0m\u001b[0;34m:\u001b[0m\u001b[0;34m\u001b[0m\n",
      "\u001b[0;34m\u001b[0m    \u001b[0;34m\"\"\" QR decomposition by Givens;\u001b[0m\n",
      "\u001b[0;34m        :return: Q, R matrices.\u001b[0m\n",
      "\u001b[0;34m    \"\"\"\u001b[0m\u001b[0;34m\u001b[0m\n",
      "\u001b[0;34m\u001b[0m    \u001b[0mr_mat\u001b[0m \u001b[0;34m=\u001b[0m \u001b[0mdeepcopy\u001b[0m\u001b[0;34m(\u001b[0m\u001b[0mmatrix_input\u001b[0m\u001b[0;34m)\u001b[0m\u001b[0;34m\u001b[0m\n",
      "\u001b[0;34m\u001b[0m    \u001b[0mn\u001b[0m \u001b[0;34m=\u001b[0m \u001b[0mmatrix_check_dim\u001b[0m\u001b[0;34m(\u001b[0m\u001b[0mr_mat\u001b[0m\u001b[0;34m,\u001b[0m \u001b[0mcheck\u001b[0m\u001b[0;34m=\u001b[0m\u001b[0mmatrix_check\u001b[0m\u001b[0;34m,\u001b[0m \u001b[0mspec\u001b[0m\u001b[0;34m=\u001b[0m\u001b[0;34m'square'\u001b[0m\u001b[0;34m)\u001b[0m\u001b[0;34m[\u001b[0m\u001b[0;36m0\u001b[0m\u001b[0;34m]\u001b[0m\u001b[0;34m\u001b[0m\n",
      "\u001b[0;34m\u001b[0m\u001b[0;34m\u001b[0m\n",
      "\u001b[0;34m\u001b[0m    \u001b[0mq_mat\u001b[0m \u001b[0;34m=\u001b[0m \u001b[0midentity_matrix\u001b[0m\u001b[0;34m(\u001b[0m\u001b[0mn\u001b[0m\u001b[0;34m)\u001b[0m\u001b[0;34m\u001b[0m\n",
      "\u001b[0;34m\u001b[0m    \u001b[0;32mfor\u001b[0m \u001b[0mi\u001b[0m \u001b[0;32min\u001b[0m \u001b[0mrange\u001b[0m\u001b[0;34m(\u001b[0m\u001b[0;36m1\u001b[0m\u001b[0;34m,\u001b[0m \u001b[0mn\u001b[0m\u001b[0;34m)\u001b[0m\u001b[0;34m:\u001b[0m\u001b[0;34m\u001b[0m\n",
      "\u001b[0;34m\u001b[0m        \u001b[0;32mfor\u001b[0m \u001b[0mj\u001b[0m \u001b[0;32min\u001b[0m \u001b[0mrange\u001b[0m\u001b[0;34m(\u001b[0m\u001b[0mi\u001b[0m\u001b[0;34m)\u001b[0m\u001b[0;34m:\u001b[0m\u001b[0;34m\u001b[0m\n",
      "\u001b[0;34m\u001b[0m            \u001b[0;31m# Eliminate (i, j), for j < i\u001b[0m\u001b[0;34m\u001b[0m\n",
      "\u001b[0;34m\u001b[0m            \u001b[0;32mif\u001b[0m \u001b[0mround\u001b[0m\u001b[0;34m(\u001b[0m\u001b[0mr_mat\u001b[0m\u001b[0;34m[\u001b[0m\u001b[0mi\u001b[0m\u001b[0;34m]\u001b[0m\u001b[0;34m[\u001b[0m\u001b[0mj\u001b[0m\u001b[0;34m]\u001b[0m\u001b[0;34m,\u001b[0m \u001b[0mround_accuracy\u001b[0m\u001b[0;34m)\u001b[0m \u001b[0;34m!=\u001b[0m \u001b[0;36m0.\u001b[0m\u001b[0;34m:\u001b[0m\u001b[0;34m\u001b[0m\n",
      "\u001b[0;34m\u001b[0m                \u001b[0msmaller\u001b[0m\u001b[0;34m,\u001b[0m \u001b[0mlarger\u001b[0m \u001b[0;34m=\u001b[0m \u001b[0msorted\u001b[0m\u001b[0;34m(\u001b[0m\u001b[0;34m\u001b[0m\n",
      "\u001b[0;34m\u001b[0m                    \u001b[0mmap\u001b[0m\u001b[0;34m(\u001b[0m\u001b[0mabs\u001b[0m\u001b[0;34m,\u001b[0m \u001b[0;34m(\u001b[0m\u001b[0mr_mat\u001b[0m\u001b[0;34m[\u001b[0m\u001b[0mj\u001b[0m\u001b[0;34m]\u001b[0m\u001b[0;34m[\u001b[0m\u001b[0mj\u001b[0m\u001b[0;34m]\u001b[0m\u001b[0;34m,\u001b[0m \u001b[0mr_mat\u001b[0m\u001b[0;34m[\u001b[0m\u001b[0mi\u001b[0m\u001b[0;34m]\u001b[0m\u001b[0;34m[\u001b[0m\u001b[0mj\u001b[0m\u001b[0;34m]\u001b[0m\u001b[0;34m)\u001b[0m\u001b[0;34m)\u001b[0m\u001b[0;34m\u001b[0m\n",
      "\u001b[0;34m\u001b[0m                \u001b[0;34m)\u001b[0m\u001b[0;34m\u001b[0m\n",
      "\u001b[0;34m\u001b[0m                \u001b[0mscale\u001b[0m \u001b[0;34m=\u001b[0m \u001b[0mlarger\u001b[0m \u001b[0;34m*\u001b[0m \u001b[0msqrt\u001b[0m\u001b[0;34m(\u001b[0m\u001b[0;36m1\u001b[0m \u001b[0;34m+\u001b[0m \u001b[0;34m(\u001b[0m\u001b[0msmaller\u001b[0m \u001b[0;34m/\u001b[0m \u001b[0mlarger\u001b[0m\u001b[0;34m)\u001b[0m \u001b[0;34m**\u001b[0m \u001b[0;36m2\u001b[0m\u001b[0;34m)\u001b[0m\u001b[0;34m\u001b[0m\n",
      "\u001b[0;34m\u001b[0m\u001b[0;34m\u001b[0m\n",
      "\u001b[0;34m\u001b[0m                \u001b[0mc\u001b[0m \u001b[0;34m=\u001b[0m \u001b[0mr_mat\u001b[0m\u001b[0;34m[\u001b[0m\u001b[0mj\u001b[0m\u001b[0;34m]\u001b[0m\u001b[0;34m[\u001b[0m\u001b[0mj\u001b[0m\u001b[0;34m]\u001b[0m \u001b[0;34m/\u001b[0m \u001b[0mscale\u001b[0m  \u001b[0;31m# Cosine\u001b[0m\u001b[0;34m\u001b[0m\n",
      "\u001b[0;34m\u001b[0m                \u001b[0ms\u001b[0m \u001b[0;34m=\u001b[0m \u001b[0mr_mat\u001b[0m\u001b[0;34m[\u001b[0m\u001b[0mi\u001b[0m\u001b[0;34m]\u001b[0m\u001b[0;34m[\u001b[0m\u001b[0mj\u001b[0m\u001b[0;34m]\u001b[0m \u001b[0;34m/\u001b[0m \u001b[0mscale\u001b[0m  \u001b[0;31m# Sine\u001b[0m\u001b[0;34m\u001b[0m\n",
      "\u001b[0;34m\u001b[0m\u001b[0;34m\u001b[0m\n",
      "\u001b[0;34m\u001b[0m                \u001b[0;31m# Previous iterations have ensured that for k < j < i,\u001b[0m\u001b[0;34m\u001b[0m\n",
      "\u001b[0;34m\u001b[0m                \u001b[0;31m#   r_mat[i][k] = 0, r_mat[j][k] = 0.\u001b[0m\u001b[0;34m\u001b[0m\n",
      "\u001b[0;34m\u001b[0m                \u001b[0;31m# Therefore, summations need not go all the way from 1 to n.\u001b[0m\u001b[0;34m\u001b[0m\n",
      "\u001b[0;34m\u001b[0m                \u001b[0;32mfor\u001b[0m \u001b[0mk\u001b[0m \u001b[0;32min\u001b[0m \u001b[0mrange\u001b[0m\u001b[0;34m(\u001b[0m\u001b[0mj\u001b[0m\u001b[0;34m,\u001b[0m \u001b[0mn\u001b[0m\u001b[0;34m)\u001b[0m\u001b[0;34m:\u001b[0m\u001b[0;34m\u001b[0m\n",
      "\u001b[0;34m\u001b[0m                    \u001b[0mr_mat\u001b[0m\u001b[0;34m[\u001b[0m\u001b[0mj\u001b[0m\u001b[0;34m]\u001b[0m\u001b[0;34m[\u001b[0m\u001b[0mk\u001b[0m\u001b[0;34m]\u001b[0m\u001b[0;34m,\u001b[0m \u001b[0mr_mat\u001b[0m\u001b[0;34m[\u001b[0m\u001b[0mi\u001b[0m\u001b[0;34m]\u001b[0m\u001b[0;34m[\u001b[0m\u001b[0mk\u001b[0m\u001b[0;34m]\u001b[0m \\\n",
      "                        \u001b[0;34m=\u001b[0m \u001b[0mc\u001b[0m \u001b[0;34m*\u001b[0m \u001b[0mr_mat\u001b[0m\u001b[0;34m[\u001b[0m\u001b[0mj\u001b[0m\u001b[0;34m]\u001b[0m\u001b[0;34m[\u001b[0m\u001b[0mk\u001b[0m\u001b[0;34m]\u001b[0m \u001b[0;34m+\u001b[0m \u001b[0ms\u001b[0m \u001b[0;34m*\u001b[0m \u001b[0mr_mat\u001b[0m\u001b[0;34m[\u001b[0m\u001b[0mi\u001b[0m\u001b[0;34m]\u001b[0m\u001b[0;34m[\u001b[0m\u001b[0mk\u001b[0m\u001b[0;34m]\u001b[0m\u001b[0;34m,\u001b[0m \\\n",
      "                        \u001b[0;34m-\u001b[0m \u001b[0ms\u001b[0m \u001b[0;34m*\u001b[0m \u001b[0mr_mat\u001b[0m\u001b[0;34m[\u001b[0m\u001b[0mj\u001b[0m\u001b[0;34m]\u001b[0m\u001b[0;34m[\u001b[0m\u001b[0mk\u001b[0m\u001b[0;34m]\u001b[0m \u001b[0;34m+\u001b[0m \u001b[0mc\u001b[0m \u001b[0;34m*\u001b[0m \u001b[0mr_mat\u001b[0m\u001b[0;34m[\u001b[0m\u001b[0mi\u001b[0m\u001b[0;34m]\u001b[0m\u001b[0;34m[\u001b[0m\u001b[0mk\u001b[0m\u001b[0;34m]\u001b[0m\u001b[0;34m\u001b[0m\n",
      "\u001b[0;34m\u001b[0m                \u001b[0;32mfor\u001b[0m \u001b[0mk\u001b[0m \u001b[0;32min\u001b[0m \u001b[0mrange\u001b[0m\u001b[0;34m(\u001b[0m\u001b[0mi\u001b[0m \u001b[0;34m+\u001b[0m \u001b[0;36m1\u001b[0m\u001b[0;34m)\u001b[0m\u001b[0;34m:\u001b[0m\u001b[0;34m\u001b[0m\n",
      "\u001b[0;34m\u001b[0m                    \u001b[0mq_mat\u001b[0m\u001b[0;34m[\u001b[0m\u001b[0mk\u001b[0m\u001b[0;34m]\u001b[0m\u001b[0;34m[\u001b[0m\u001b[0mj\u001b[0m\u001b[0;34m]\u001b[0m\u001b[0;34m,\u001b[0m \u001b[0mq_mat\u001b[0m\u001b[0;34m[\u001b[0m\u001b[0mk\u001b[0m\u001b[0;34m]\u001b[0m\u001b[0;34m[\u001b[0m\u001b[0mi\u001b[0m\u001b[0;34m]\u001b[0m \\\n",
      "                        \u001b[0;34m=\u001b[0m \u001b[0mc\u001b[0m \u001b[0;34m*\u001b[0m \u001b[0mq_mat\u001b[0m\u001b[0;34m[\u001b[0m\u001b[0mk\u001b[0m\u001b[0;34m]\u001b[0m\u001b[0;34m[\u001b[0m\u001b[0mj\u001b[0m\u001b[0;34m]\u001b[0m \u001b[0;34m+\u001b[0m \u001b[0ms\u001b[0m \u001b[0;34m*\u001b[0m \u001b[0mq_mat\u001b[0m\u001b[0;34m[\u001b[0m\u001b[0mk\u001b[0m\u001b[0;34m]\u001b[0m\u001b[0;34m[\u001b[0m\u001b[0mi\u001b[0m\u001b[0;34m]\u001b[0m\u001b[0;34m,\u001b[0m \\\n",
      "                        \u001b[0;34m-\u001b[0m \u001b[0ms\u001b[0m \u001b[0;34m*\u001b[0m \u001b[0mq_mat\u001b[0m\u001b[0;34m[\u001b[0m\u001b[0mk\u001b[0m\u001b[0;34m]\u001b[0m\u001b[0;34m[\u001b[0m\u001b[0mj\u001b[0m\u001b[0;34m]\u001b[0m \u001b[0;34m+\u001b[0m \u001b[0mc\u001b[0m \u001b[0;34m*\u001b[0m \u001b[0mq_mat\u001b[0m\u001b[0;34m[\u001b[0m\u001b[0mk\u001b[0m\u001b[0;34m]\u001b[0m\u001b[0;34m[\u001b[0m\u001b[0mi\u001b[0m\u001b[0;34m]\u001b[0m\u001b[0;34m\u001b[0m\n",
      "\u001b[0;34m\u001b[0m    \u001b[0;32mreturn\u001b[0m \u001b[0mq_mat\u001b[0m\u001b[0;34m,\u001b[0m \u001b[0mr_mat\u001b[0m\u001b[0;34m\u001b[0m\u001b[0m\n"
     ]
    }
   ],
   "source": [
    "from toolkit.qrdecomp import qr_givens\n",
    "qr_givens??"
   ]
  },
  {
   "cell_type": "markdown",
   "metadata": {},
   "source": [
    "### (d) 两种方法运行速度比较\n",
    "生成随机矩阵，\n",
    "```python\n",
    "from qr_benchmark import random_matrices\n",
    "```\n",
    "利用 `timeit` 比较两种算法的运行速度，得平均耗时（以秒记）如下："
   ]
  },
  {
   "cell_type": "code",
   "execution_count": 8,
   "metadata": {},
   "outputs": [
    {
     "data": {
      "text/html": [
       "<div>\n",
       "<style scoped>\n",
       "    .dataframe tbody tr th:only-of-type {\n",
       "        vertical-align: middle;\n",
       "    }\n",
       "\n",
       "    .dataframe tbody tr th {\n",
       "        vertical-align: top;\n",
       "    }\n",
       "\n",
       "    .dataframe thead th {\n",
       "        text-align: right;\n",
       "    }\n",
       "</style>\n",
       "<table border=\"1\" class=\"dataframe\">\n",
       "  <thead>\n",
       "    <tr style=\"text-align: right;\">\n",
       "      <th>$n$ as dim</th>\n",
       "      <th>Householder</th>\n",
       "      <th>Givens</th>\n",
       "      <th>ratio</th>\n",
       "    </tr>\n",
       "  </thead>\n",
       "  <tbody>\n",
       "    <tr>\n",
       "      <th>6</th>\n",
       "      <td>0.000261</td>\n",
       "      <td>0.000206</td>\n",
       "      <td>0.788998</td>\n",
       "    </tr>\n",
       "  </tbody>\n",
       "</table>\n",
       "</div>"
      ],
      "text/plain": [
       "$n$ as dim  Householder    Givens     ratio\n",
       "6              0.000261  0.000206  0.788998"
      ]
     },
     "execution_count": 8,
     "metadata": {},
     "output_type": "execute_result"
    }
   ],
   "source": [
    "from backstage import QRBench\n",
    "qr_data = QRBench()\n",
    "qr_data.add(dim=6, sample_size=20, runs=20)"
   ]
  },
  {
   "cell_type": "markdown",
   "metadata": {},
   "source": [
    "表中还给出了两者耗时之比（ratio）；有趣的是，与预估不同，Householder 方法似乎更慢一些！增加随机矩阵的维度（$n$ as dim），重复实验，可得："
   ]
  },
  {
   "cell_type": "code",
   "execution_count": 9,
   "metadata": {},
   "outputs": [
    {
     "data": {
      "text/html": [
       "<div>\n",
       "<style scoped>\n",
       "    .dataframe tbody tr th:only-of-type {\n",
       "        vertical-align: middle;\n",
       "    }\n",
       "\n",
       "    .dataframe tbody tr th {\n",
       "        vertical-align: top;\n",
       "    }\n",
       "\n",
       "    .dataframe thead th {\n",
       "        text-align: right;\n",
       "    }\n",
       "</style>\n",
       "<table border=\"1\" class=\"dataframe\">\n",
       "  <thead>\n",
       "    <tr style=\"text-align: right;\">\n",
       "      <th>$n$ as dim</th>\n",
       "      <th>Householder</th>\n",
       "      <th>Givens</th>\n",
       "      <th>ratio</th>\n",
       "    </tr>\n",
       "  </thead>\n",
       "  <tbody>\n",
       "    <tr>\n",
       "      <th>6</th>\n",
       "      <td>0.000261</td>\n",
       "      <td>0.000206</td>\n",
       "      <td>0.788998</td>\n",
       "    </tr>\n",
       "    <tr>\n",
       "      <th>12</th>\n",
       "      <td>0.000775</td>\n",
       "      <td>0.000996</td>\n",
       "      <td>1.284362</td>\n",
       "    </tr>\n",
       "    <tr>\n",
       "      <th>24</th>\n",
       "      <td>0.005057</td>\n",
       "      <td>0.004949</td>\n",
       "      <td>0.978479</td>\n",
       "    </tr>\n",
       "    <tr>\n",
       "      <th>48</th>\n",
       "      <td>0.031866</td>\n",
       "      <td>0.040193</td>\n",
       "      <td>1.261314</td>\n",
       "    </tr>\n",
       "    <tr>\n",
       "      <th>96</th>\n",
       "      <td>0.199642</td>\n",
       "      <td>0.256594</td>\n",
       "      <td>1.285267</td>\n",
       "    </tr>\n",
       "  </tbody>\n",
       "</table>\n",
       "</div>"
      ],
      "text/plain": [
       "$n$ as dim  Householder    Givens     ratio\n",
       "6              0.000261  0.000206  0.788998\n",
       "12             0.000775  0.000996  1.284362\n",
       "24             0.005057  0.004949  0.978479\n",
       "48             0.031866  0.040193  1.261314\n",
       "96             0.199642  0.256594  1.285267"
      ]
     },
     "execution_count": 9,
     "metadata": {},
     "output_type": "execute_result"
    }
   ],
   "source": [
    "qr_data.add(dim=12, sample_size=10, runs=20)\n",
    "qr_data.add(dim=24, sample_size=10, runs=10)\n",
    "qr_data.add(dim=48, sample_size=5, runs=3)\n",
    "qr_data.add(dim=96, sample_size=3, runs=2)"
   ]
  },
  {
   "cell_type": "markdown",
   "metadata": {},
   "source": [
    "*大 $n$ 的数值实验中，为缩短程序运行时间，相应地减少了测试样本数量（由参数 `sample_size` 和运行次数 `runs` 决定）。*"
   ]
  },
  {
   "cell_type": "markdown",
   "metadata": {},
   "source": [
    "可见，在更大 $n$ 的情形下，确实是 Givens 方法更慢，与理论计算一致（理论给出两者的计算量之比 $\\sim \\pqty{4n^3} \\big/ \\pqty{\\frac{8}{3}n^3} = 1.5$, 和上述结果相比，还是比较相近的）。注意到 Householder 方法的程序实现比较复杂，即计算量的 $n^2$ 阶余项比较显著，这大概是小 $n$ 情况下 Householder 更慢的主要原因。"
   ]
  },
  {
   "cell_type": "code",
   "execution_count": 10,
   "metadata": {},
   "outputs": [
    {
     "data": {
      "text/html": [
       "<p style=\"margin-top: 0.5ex\"></p>"
      ],
      "text/plain": [
       "<IPython.core.display.HTML object>"
      ]
     },
     "metadata": {},
     "output_type": "display_data"
    },
    {
     "data": {
      "image/png": "[encoded data removed]",
      "text/plain": [
       "<matplotlib.figure.Figure at 0x7f7ac43b8d68>"
      ]
     },
     "metadata": {},
     "output_type": "display_data"
    }
   ],
   "source": [
    "%matplotlib inline\n",
    "display_whitespace(.5)\n",
    "qr_data.plot()"
   ]
  },
  {
   "cell_type": "markdown",
   "metadata": {},
   "source": [
    "运算量随 $n$ 的增大规律如上图所示；注意图像为对数标度，可见对大 $n$ 而言，近似有计算量 $\\sim n^3$. 具体而言，作线性回归，考虑 $n^2$ 等低阶项的贡献，应当有斜率 $\\sim 2.\\mrm{xxx}$ 接近 3. 事实确是如此；弃去 $n = 6$ 数据点，回归分析给出："
   ]
  },
  {
   "cell_type": "code",
   "execution_count": 11,
   "metadata": {},
   "outputs": [
    {
     "name": "stdout",
     "output_type": "stream",
     "text": [
      "Estimated order: n = [12, 24, 48, 96], \n",
      "  -> Householder:  2.668097494978451\n",
      "  -> Givens:       2.7050336897714837\n"
     ]
    }
   ],
   "source": [
    "qr_data.fit(start_index=1)"
   ]
  },
  {
   "cell_type": "markdown",
   "metadata": {},
   "source": [
    "大 $n$ 极限下，数值实验给出的阶数应当渐趋于 3 ; 例如，取上述最后两点数据，将给出明显更接近 3 的结果："
   ]
  },
  {
   "cell_type": "code",
   "execution_count": 12,
   "metadata": {},
   "outputs": [
    {
     "name": "stdout",
     "output_type": "stream",
     "text": [
      "Estimated order: n = [48, 96], \n",
      "  -> Householder:  2.6473185616404025\n",
      "  -> Givens:       2.6744593473811413\n"
     ]
    }
   ],
   "source": [
    "qr_data.fit(start_index=3)"
   ]
  },
  {
   "cell_type": "markdown",
   "metadata": {},
   "source": [
    "## 2. 幂次法求本征值\n",
    "### (a) 物理背景"
   ]
  },
  {
   "cell_type": "code",
   "execution_count": 13,
   "metadata": {
    "scrolled": true
   },
   "outputs": [
    {
     "data": {
      "text/html": [
       "\n",
       "            <p style=\"font-size: 2px; font-style: italic; \">\n",
       "                See no PDF below?\n",
       "                Go to <a href=\"latex/sections/2.lattice_vibration.pdf\">latex/sections/2.lattice_vibration.pdf</a> directly! </p>\n",
       "            <iframe class=\"PDFframe\" src='assets/embed.html?file=latex/sections/2.lattice_vibration.pdf'\n",
       "                width=\"100%\" frameborder=\"0\" onload=\"PDFframeLoaded()\" >\n",
       "            </iframe>\n",
       "        "
      ],
      "text/plain": [
       "<IPython.core.display.HTML object>"
      ]
     },
     "metadata": {},
     "output_type": "display_data"
    }
   ],
   "source": [
    "pdfGet('latex/sections/2.lattice_vibration.pdf').show()"
   ]
  },
  {
   "cell_type": "markdown",
   "metadata": {},
   "source": [
    "### (b) 幂次法数值求解"
   ]
  },
  {
   "cell_type": "markdown",
   "metadata": {},
   "source": [
    "幂次法适用于一般的复矩阵，这里有必要实现相应的复数运算。幸运的是，Python 原生支持复数，虚单位记为 `j` . 由此，即可实现幂次法迭代："
   ]
  },
  {
   "cell_type": "code",
   "execution_count": 14,
   "metadata": {},
   "outputs": [
    {
     "name": "stdout",
     "output_type": "stream",
     "text": [
      "\u001b[0;32mdef\u001b[0m \u001b[0mmax_eigensystem\u001b[0m\u001b[0;34m(\u001b[0m\u001b[0mcoefficient_matrix\u001b[0m\u001b[0;34m,\u001b[0m \u001b[0maccuarcy\u001b[0m\u001b[0;34m=\u001b[0m\u001b[0;36m10\u001b[0m\u001b[0;34m**\u001b[0m\u001b[0;34m-\u001b[0m\u001b[0;36m16\u001b[0m\u001b[0;34m,\u001b[0m \u001b[0mmax_runs\u001b[0m\u001b[0;34m=\u001b[0m\u001b[0;36m10\u001b[0m\u001b[0;34m,\u001b[0m\u001b[0;34m\u001b[0m\n",
      "\u001b[0;34m\u001b[0m                    \u001b[0mnotify\u001b[0m\u001b[0;34m=\u001b[0m\u001b[0;32mTrue\u001b[0m\u001b[0;34m)\u001b[0m\u001b[0;34m:\u001b[0m\u001b[0;34m\u001b[0m\n",
      "\u001b[0;34m\u001b[0m    \u001b[0;34m\"\"\" Find maximum eigenvalue & corresponding eigenvector,\u001b[0m\n",
      "\u001b[0;34m        using power iteration.\u001b[0m\n",
      "\u001b[0;34m        :param max_runs: max attempts,\u001b[0m\n",
      "\u001b[0;34m            for random generations of initial eigenvector\u001b[0m\n",
      "\u001b[0;34m        :return: (eigenvalue, eigenvector)\u001b[0m\n",
      "\u001b[0;34m    \"\"\"\u001b[0m\u001b[0;34m\u001b[0m\n",
      "\u001b[0;34m\u001b[0m    \u001b[0ma_mat\u001b[0m \u001b[0;34m=\u001b[0m \u001b[0mdeepcopy\u001b[0m\u001b[0;34m(\u001b[0m\u001b[0mcoefficient_matrix\u001b[0m\u001b[0;34m)\u001b[0m\u001b[0;34m\u001b[0m\n",
      "\u001b[0;34m\u001b[0m    \u001b[0mn\u001b[0m \u001b[0;34m=\u001b[0m \u001b[0mmatrix_check_dim\u001b[0m\u001b[0;34m(\u001b[0m\u001b[0ma_mat\u001b[0m\u001b[0;34m,\u001b[0m \u001b[0mspec\u001b[0m\u001b[0;34m=\u001b[0m\u001b[0;34m'square'\u001b[0m\u001b[0;34m)\u001b[0m\u001b[0;34m[\u001b[0m\u001b[0;36m0\u001b[0m\u001b[0;34m]\u001b[0m\u001b[0;34m\u001b[0m\n",
      "\u001b[0;34m\u001b[0m\u001b[0;34m\u001b[0m\n",
      "\u001b[0;34m\u001b[0m    \u001b[0;31m# Initial eigenvalue\u001b[0m\u001b[0;34m\u001b[0m\n",
      "\u001b[0;34m\u001b[0m    \u001b[0mv\u001b[0m \u001b[0;34m=\u001b[0m \u001b[0;36m0.\u001b[0m\u001b[0;34m\u001b[0m\n",
      "\u001b[0;34m\u001b[0m    \u001b[0mattempts\u001b[0m \u001b[0;34m=\u001b[0m \u001b[0;36m0\u001b[0m\u001b[0;34m\u001b[0m\n",
      "\u001b[0;34m\u001b[0m    \u001b[0mstuck\u001b[0m \u001b[0;34m=\u001b[0m \u001b[0;32mFalse\u001b[0m\u001b[0;34m\u001b[0m\n",
      "\u001b[0;34m\u001b[0m    \u001b[0mever_stuck\u001b[0m \u001b[0;34m=\u001b[0m \u001b[0;32mFalse\u001b[0m\u001b[0;34m\u001b[0m\n",
      "\u001b[0;34m\u001b[0m\u001b[0;34m\u001b[0m\n",
      "\u001b[0;34m\u001b[0m    \u001b[0;31m# Iteration starts from a random real vector\u001b[0m\u001b[0;34m\u001b[0m\n",
      "\u001b[0;34m\u001b[0m    \u001b[0;31m# Regenerate! If eigenvalue v falls back to 0,\u001b[0m\u001b[0;34m\u001b[0m\n",
      "\u001b[0;34m\u001b[0m    \u001b[0;31m# ... or stuck in loop\u001b[0m\u001b[0;34m\u001b[0m\n",
      "\u001b[0;34m\u001b[0m    \u001b[0;32mwhile\u001b[0m \u001b[0mattempts\u001b[0m \u001b[0;34m<\u001b[0m \u001b[0mmax_runs\u001b[0m \u001b[0;32mand\u001b[0m \u001b[0many\u001b[0m\u001b[0;34m(\u001b[0m\u001b[0;34m[\u001b[0m\u001b[0;34m\u001b[0m\n",
      "\u001b[0;34m\u001b[0m        \u001b[0mround\u001b[0m\u001b[0;34m(\u001b[0m\u001b[0mv\u001b[0m\u001b[0;34m,\u001b[0m \u001b[0mint\u001b[0m\u001b[0;34m(\u001b[0m\u001b[0;34m-\u001b[0m\u001b[0mlog10\u001b[0m\u001b[0;34m(\u001b[0m\u001b[0maccuarcy\u001b[0m\u001b[0;34m)\u001b[0m\u001b[0;34m)\u001b[0m\u001b[0;34m)\u001b[0m \u001b[0;34m==\u001b[0m \u001b[0;36m0\u001b[0m\u001b[0;34m,\u001b[0m\u001b[0;34m\u001b[0m\n",
      "\u001b[0;34m\u001b[0m        \u001b[0mstuck\u001b[0m \u001b[0;32mis\u001b[0m \u001b[0;32mTrue\u001b[0m\u001b[0;34m\u001b[0m\n",
      "\u001b[0;34m\u001b[0m    \u001b[0;34m]\u001b[0m\u001b[0;34m)\u001b[0m\u001b[0;34m:\u001b[0m\u001b[0;34m\u001b[0m\n",
      "\u001b[0;34m\u001b[0m        \u001b[0mattempts\u001b[0m \u001b[0;34m+=\u001b[0m \u001b[0;36m1\u001b[0m\u001b[0;34m\u001b[0m\n",
      "\u001b[0;34m\u001b[0m\u001b[0;34m\u001b[0m\n",
      "\u001b[0;34m\u001b[0m        \u001b[0;31m# Notation: liuchuan's Numerical.pdf, ver 0.98\u001b[0m\u001b[0;34m\u001b[0m\n",
      "\u001b[0;34m\u001b[0m        \u001b[0mz_vec\u001b[0m \u001b[0;34m=\u001b[0m \u001b[0;34m[\u001b[0m \u001b[0mrandom\u001b[0m\u001b[0;34m.\u001b[0m\u001b[0muniform\u001b[0m\u001b[0;34m(\u001b[0m\u001b[0;34m-\u001b[0m\u001b[0;36m1\u001b[0m\u001b[0;34m,\u001b[0m \u001b[0;36m1\u001b[0m\u001b[0;34m)\u001b[0m \u001b[0;32mfor\u001b[0m \u001b[0m_\u001b[0m \u001b[0;32min\u001b[0m \u001b[0mrange\u001b[0m\u001b[0;34m(\u001b[0m\u001b[0mn\u001b[0m\u001b[0;34m)\u001b[0m \u001b[0;34m]\u001b[0m\u001b[0;34m\u001b[0m\n",
      "\u001b[0;34m\u001b[0m        \u001b[0mq_vec\u001b[0m \u001b[0;34m=\u001b[0m \u001b[0mnormalize_max\u001b[0m\u001b[0;34m(\u001b[0m\u001b[0mz_vec\u001b[0m\u001b[0;34m)\u001b[0m\u001b[0;34m\u001b[0m\n",
      "\u001b[0;34m\u001b[0m        \u001b[0;31m# Arbitrary `diff` to kickstart iteration\u001b[0m\u001b[0;34m\u001b[0m\n",
      "\u001b[0;34m\u001b[0m        \u001b[0mdiff\u001b[0m \u001b[0;34m=\u001b[0m \u001b[0;36m10\u001b[0m \u001b[0;34m*\u001b[0m \u001b[0maccuarcy\u001b[0m\u001b[0;34m\u001b[0m\n",
      "\u001b[0;34m\u001b[0m\u001b[0;34m\u001b[0m\n",
      "\u001b[0;34m\u001b[0m        \u001b[0;31m# timeout: give up when iteration does not converge\u001b[0m\u001b[0;34m\u001b[0m\n",
      "\u001b[0;34m\u001b[0m        \u001b[0mtimeout\u001b[0m \u001b[0;34m=\u001b[0m \u001b[0mtime\u001b[0m\u001b[0;34m.\u001b[0m\u001b[0mtime\u001b[0m\u001b[0;34m(\u001b[0m\u001b[0;34m)\u001b[0m \u001b[0;34m+\u001b[0m \u001b[0;36m1\u001b[0m\u001b[0;34m\u001b[0m\n",
      "\u001b[0;34m\u001b[0m\u001b[0;34m\u001b[0m\n",
      "\u001b[0;34m\u001b[0m        \u001b[0;32mwhile\u001b[0m \u001b[0mdiff\u001b[0m \u001b[0;34m>\u001b[0m \u001b[0maccuarcy\u001b[0m\u001b[0;34m:\u001b[0m\u001b[0;34m\u001b[0m\n",
      "\u001b[0;34m\u001b[0m            \u001b[0mq_vec0\u001b[0m \u001b[0;34m=\u001b[0m \u001b[0mq_vec\u001b[0m\u001b[0;34m\u001b[0m\n",
      "\u001b[0;34m\u001b[0m            \u001b[0mz_vec\u001b[0m \u001b[0;34m=\u001b[0m \u001b[0;34m[\u001b[0m \u001b[0msum\u001b[0m\u001b[0;34m(\u001b[0m \u001b[0ma_mat\u001b[0m\u001b[0;34m[\u001b[0m\u001b[0mi\u001b[0m\u001b[0;34m]\u001b[0m\u001b[0;34m[\u001b[0m\u001b[0mj\u001b[0m\u001b[0;34m]\u001b[0m \u001b[0;34m*\u001b[0m \u001b[0mq_vec\u001b[0m\u001b[0;34m[\u001b[0m\u001b[0mj\u001b[0m\u001b[0;34m]\u001b[0m\u001b[0;34m\u001b[0m\n",
      "\u001b[0;34m\u001b[0m                           \u001b[0;32mfor\u001b[0m \u001b[0mj\u001b[0m \u001b[0;32min\u001b[0m \u001b[0mrange\u001b[0m\u001b[0;34m(\u001b[0m\u001b[0mn\u001b[0m\u001b[0;34m)\u001b[0m \u001b[0;34m)\u001b[0m\u001b[0;34m\u001b[0m\n",
      "\u001b[0;34m\u001b[0m                      \u001b[0;32mfor\u001b[0m \u001b[0mi\u001b[0m \u001b[0;32min\u001b[0m \u001b[0mrange\u001b[0m\u001b[0;34m(\u001b[0m\u001b[0mn\u001b[0m\u001b[0;34m)\u001b[0m\u001b[0;34m]\u001b[0m\u001b[0;34m\u001b[0m\n",
      "\u001b[0;34m\u001b[0m            \u001b[0mq_vec\u001b[0m \u001b[0;34m=\u001b[0m \u001b[0mnormalize_max\u001b[0m\u001b[0;34m(\u001b[0m\u001b[0mz_vec\u001b[0m\u001b[0;34m)\u001b[0m\u001b[0;34m\u001b[0m\n",
      "\u001b[0;34m\u001b[0m\u001b[0;34m\u001b[0m\n",
      "\u001b[0;34m\u001b[0m            \u001b[0;31m# Relative error,\u001b[0m\u001b[0;34m\u001b[0m\n",
      "\u001b[0;34m\u001b[0m            \u001b[0;31m# ... by maximun difference in components\u001b[0m\u001b[0;34m\u001b[0m\n",
      "\u001b[0;34m\u001b[0m            \u001b[0mdiff\u001b[0m \u001b[0;34m=\u001b[0m \u001b[0mmax\u001b[0m\u001b[0;34m(\u001b[0m\u001b[0mmap\u001b[0m\u001b[0;34m(\u001b[0m\u001b[0;34m\u001b[0m\n",
      "\u001b[0;34m\u001b[0m                \u001b[0;32mlambda\u001b[0m \u001b[0mx\u001b[0m\u001b[0;34m:\u001b[0m \u001b[0mabs\u001b[0m\u001b[0;34m(\u001b[0m\u001b[0mrelative_error\u001b[0m\u001b[0;34m(\u001b[0m\u001b[0;34m*\u001b[0m\u001b[0mx\u001b[0m\u001b[0;34m)\u001b[0m\u001b[0;34m)\u001b[0m\u001b[0;34m,\u001b[0m\u001b[0;34m\u001b[0m\n",
      "\u001b[0;34m\u001b[0m                \u001b[0mxtranspose\u001b[0m\u001b[0;34m(\u001b[0m\u001b[0;34m[\u001b[0m\u001b[0mq_vec\u001b[0m\u001b[0;34m,\u001b[0m \u001b[0mq_vec0\u001b[0m\u001b[0;34m]\u001b[0m\u001b[0;34m)\u001b[0m\u001b[0;34m\u001b[0m\n",
      "\u001b[0;34m\u001b[0m            \u001b[0;34m)\u001b[0m\u001b[0;34m)\u001b[0m\u001b[0;34m\u001b[0m\n",
      "\u001b[0;34m\u001b[0m            \u001b[0;32mif\u001b[0m \u001b[0mtime\u001b[0m\u001b[0;34m.\u001b[0m\u001b[0mtime\u001b[0m\u001b[0;34m(\u001b[0m\u001b[0;34m)\u001b[0m \u001b[0;34m>\u001b[0m \u001b[0mtimeout\u001b[0m\u001b[0;34m:\u001b[0m\u001b[0;34m\u001b[0m\n",
      "\u001b[0;34m\u001b[0m                \u001b[0mstuck\u001b[0m \u001b[0;34m=\u001b[0m \u001b[0;32mTrue\u001b[0m\u001b[0;34m\u001b[0m\n",
      "\u001b[0;34m\u001b[0m                \u001b[0mever_stuck\u001b[0m \u001b[0;34m=\u001b[0m \u001b[0;32mTrue\u001b[0m\u001b[0;34m\u001b[0m\n",
      "\u001b[0;34m\u001b[0m                \u001b[0;32mif\u001b[0m \u001b[0mnotify\u001b[0m\u001b[0;34m:\u001b[0m\u001b[0;34m\u001b[0m\n",
      "\u001b[0;34m\u001b[0m                    \u001b[0mprint\u001b[0m\u001b[0;34m(\u001b[0m\u001b[0;34m'`max_eigensystem`: Iteration did not converge! '\u001b[0m\u001b[0;34m\u001b[0m\n",
      "\u001b[0;34m\u001b[0m                          \u001b[0;34mf'dim = {n}, Re-trying ...'\u001b[0m\u001b[0;34m)\u001b[0m\u001b[0;34m\u001b[0m\n",
      "\u001b[0;34m\u001b[0m                \u001b[0;32mbreak\u001b[0m\u001b[0;34m\u001b[0m\n",
      "\u001b[0;34m\u001b[0m            \u001b[0;32melse\u001b[0m\u001b[0;34m:\u001b[0m\u001b[0;34m\u001b[0m\n",
      "\u001b[0;34m\u001b[0m                \u001b[0mstuck\u001b[0m \u001b[0;34m=\u001b[0m \u001b[0;32mFalse\u001b[0m\u001b[0;34m\u001b[0m\n",
      "\u001b[0;34m\u001b[0m\u001b[0;34m\u001b[0m\n",
      "\u001b[0;34m\u001b[0m        \u001b[0;31m# Rayleigh quotient\u001b[0m\u001b[0;34m\u001b[0m\n",
      "\u001b[0;34m\u001b[0m        \u001b[0mv\u001b[0m \u001b[0;34m=\u001b[0m \u001b[0msum\u001b[0m\u001b[0;34m(\u001b[0m\u001b[0mq_vec0\u001b[0m\u001b[0;34m[\u001b[0m\u001b[0mi\u001b[0m\u001b[0;34m]\u001b[0m\u001b[0;34m.\u001b[0m\u001b[0mconjugate\u001b[0m\u001b[0;34m(\u001b[0m\u001b[0;34m)\u001b[0m \u001b[0;34m*\u001b[0m \u001b[0mz_vec\u001b[0m\u001b[0;34m[\u001b[0m\u001b[0mi\u001b[0m\u001b[0;34m]\u001b[0m \u001b[0;32mfor\u001b[0m \u001b[0mi\u001b[0m \u001b[0;32min\u001b[0m \u001b[0mrange\u001b[0m\u001b[0;34m(\u001b[0m\u001b[0mn\u001b[0m\u001b[0;34m)\u001b[0m\u001b[0;34m)\u001b[0m \\\n",
      "            \u001b[0;34m/\u001b[0m \u001b[0mvec_square\u001b[0m\u001b[0;34m(\u001b[0m\u001b[0mq_vec0\u001b[0m\u001b[0;34m)\u001b[0m\u001b[0;34m\u001b[0m\n",
      "\u001b[0;34m\u001b[0m\u001b[0;34m\u001b[0m\n",
      "\u001b[0;34m\u001b[0m    \u001b[0;32mif\u001b[0m \u001b[0mattempts\u001b[0m \u001b[0;34m==\u001b[0m \u001b[0mmax_runs\u001b[0m\u001b[0;34m:\u001b[0m\u001b[0;34m\u001b[0m\n",
      "\u001b[0;34m\u001b[0m        \u001b[0mprint\u001b[0m\u001b[0;34m(\u001b[0m\u001b[0;34mf'Total: {attempts} in max {max_runs} attempts '\u001b[0m\u001b[0;34m\u001b[0m\n",
      "\u001b[0;34m\u001b[0m              \u001b[0;34mf'for `max_eigensystem`; final diff: {diff} (relatively).'\u001b[0m\u001b[0;34m)\u001b[0m\u001b[0;34m\u001b[0m\n",
      "\u001b[0;34m\u001b[0m    \u001b[0;32mif\u001b[0m \u001b[0mever_stuck\u001b[0m \u001b[0;32mand\u001b[0m \u001b[0mnotify\u001b[0m\u001b[0;34m:\u001b[0m\u001b[0;34m\u001b[0m\n",
      "\u001b[0;34m\u001b[0m        \u001b[0mprint\u001b[0m\u001b[0;34m(\u001b[0m\u001b[0;34m'--------------------------------'\u001b[0m\u001b[0;34m)\u001b[0m\u001b[0;34m\u001b[0m\n",
      "\u001b[0;34m\u001b[0m    \u001b[0;32mreturn\u001b[0m \u001b[0mv\u001b[0m\u001b[0;34m,\u001b[0m \u001b[0mtuple\u001b[0m\u001b[0;34m(\u001b[0m\u001b[0mq_vec\u001b[0m\u001b[0;34m)\u001b[0m\u001b[0;34m\u001b[0m\u001b[0m\n"
     ]
    }
   ],
   "source": [
    "from toolkit.eigensys import max_eigensystem\n",
    "max_eigensystem??"
   ]
  },
  {
   "cell_type": "markdown",
   "metadata": {},
   "source": [
    "**这里有几点需要说明：** 首先，迭代过程中，需要对本征矢量进行归一化；这一步的主要目的是防止溢出，因此可以取任一种矢量模 $\\norm{\\cdot}$ 进行归一化，而不一定取欧式模；这里采用最简单的办法，即先将 $n$ 维复矢量视为 $2n$ 维实矢量，再取无穷模（最大分量）。实现如下："
   ]
  },
  {
   "cell_type": "code",
   "execution_count": 15,
   "metadata": {},
   "outputs": [
    {
     "name": "stdout",
     "output_type": "stream",
     "text": [
      "\u001b[0;32mdef\u001b[0m \u001b[0mnormalize_max\u001b[0m\u001b[0;34m(\u001b[0m\u001b[0mvec\u001b[0m\u001b[0;34m:\u001b[0m \u001b[0mlist\u001b[0m\u001b[0;34m)\u001b[0m\u001b[0;34m:\u001b[0m\u001b[0;34m\u001b[0m\n",
      "\u001b[0;34m\u001b[0m    \u001b[0;34m\"\"\" Normalize a (complex) vector, by its max (real) parameter \"\"\"\u001b[0m\u001b[0;34m\u001b[0m\n",
      "\u001b[0;34m\u001b[0m    \u001b[0mvec_imag\u001b[0m \u001b[0;34m=\u001b[0m \u001b[0mlist\u001b[0m\u001b[0;34m(\u001b[0m\u001b[0mmap\u001b[0m\u001b[0;34m(\u001b[0m\u001b[0;32mlambda\u001b[0m \u001b[0mx\u001b[0m\u001b[0;34m:\u001b[0m \u001b[0mx\u001b[0m\u001b[0;34m.\u001b[0m\u001b[0mimag\u001b[0m\u001b[0;34m,\u001b[0m \u001b[0mvec\u001b[0m\u001b[0;34m)\u001b[0m\u001b[0;34m)\u001b[0m\u001b[0;34m\u001b[0m\n",
      "\u001b[0;34m\u001b[0m    \u001b[0;32mif\u001b[0m \u001b[0mvec_imag\u001b[0m \u001b[0;34m!=\u001b[0m \u001b[0;34m[\u001b[0m\u001b[0;36m0\u001b[0m\u001b[0;34m]\u001b[0m \u001b[0;34m*\u001b[0m \u001b[0mlen\u001b[0m\u001b[0;34m(\u001b[0m\u001b[0mvec\u001b[0m\u001b[0;34m)\u001b[0m\u001b[0;34m:\u001b[0m\u001b[0;34m\u001b[0m\n",
      "\u001b[0;34m\u001b[0m        \u001b[0mvec_real_params\u001b[0m \u001b[0;34m=\u001b[0m \u001b[0mlist\u001b[0m\u001b[0;34m(\u001b[0m\u001b[0mmap\u001b[0m\u001b[0;34m(\u001b[0m\u001b[0;32mlambda\u001b[0m \u001b[0mx\u001b[0m\u001b[0;34m:\u001b[0m \u001b[0mx\u001b[0m\u001b[0;34m.\u001b[0m\u001b[0mreal\u001b[0m\u001b[0;34m,\u001b[0m \u001b[0mvec\u001b[0m\u001b[0;34m)\u001b[0m\u001b[0;34m)\u001b[0m\u001b[0;34m\u001b[0m\n",
      "\u001b[0;34m\u001b[0m        \u001b[0mvec_real_params\u001b[0m\u001b[0;34m.\u001b[0m\u001b[0mextend\u001b[0m\u001b[0;34m(\u001b[0m\u001b[0mvec_imag\u001b[0m\u001b[0;34m)\u001b[0m\u001b[0;34m\u001b[0m\n",
      "\u001b[0;34m\u001b[0m    \u001b[0;32melse\u001b[0m\u001b[0;34m:\u001b[0m\u001b[0;34m\u001b[0m\n",
      "\u001b[0;34m\u001b[0m        \u001b[0mvec_real_params\u001b[0m \u001b[0;34m=\u001b[0m \u001b[0mvec\u001b[0m\u001b[0;34m\u001b[0m\n",
      "\u001b[0;34m\u001b[0m\u001b[0;34m\u001b[0m\n",
      "\u001b[0;34m\u001b[0m    \u001b[0mparam_max\u001b[0m \u001b[0;34m=\u001b[0m \u001b[0mmax\u001b[0m\u001b[0;34m(\u001b[0m\u001b[0mmap\u001b[0m\u001b[0;34m(\u001b[0m\u001b[0mabs\u001b[0m\u001b[0;34m,\u001b[0m \u001b[0mvec_real_params\u001b[0m\u001b[0;34m)\u001b[0m\u001b[0;34m)\u001b[0m\u001b[0;34m\u001b[0m\n",
      "\u001b[0;34m\u001b[0m    \u001b[0;32mtry\u001b[0m\u001b[0;34m:\u001b[0m\u001b[0;34m\u001b[0m\n",
      "\u001b[0;34m\u001b[0m        \u001b[0;32mreturn\u001b[0m \u001b[0;34m[\u001b[0m\u001b[0mx\u001b[0m \u001b[0;34m/\u001b[0m \u001b[0mparam_max\u001b[0m \u001b[0;32mfor\u001b[0m \u001b[0mx\u001b[0m \u001b[0;32min\u001b[0m \u001b[0mvec\u001b[0m\u001b[0;34m]\u001b[0m\u001b[0;34m\u001b[0m\n",
      "\u001b[0;34m\u001b[0m    \u001b[0;32mexcept\u001b[0m \u001b[0mZeroDivisionError\u001b[0m\u001b[0;34m:\u001b[0m\u001b[0;34m\u001b[0m\n",
      "\u001b[0;34m\u001b[0m        \u001b[0;32mreturn\u001b[0m \u001b[0;34m[\u001b[0m\u001b[0;36m0.\u001b[0m \u001b[0;32mfor\u001b[0m \u001b[0m_\u001b[0m \u001b[0;32min\u001b[0m \u001b[0mrange\u001b[0m\u001b[0;34m(\u001b[0m\u001b[0mlen\u001b[0m\u001b[0;34m(\u001b[0m\u001b[0mvec\u001b[0m\u001b[0;34m)\u001b[0m\u001b[0;34m)\u001b[0m\u001b[0;34m]\u001b[0m\u001b[0;34m\u001b[0m\u001b[0m\n"
     ]
    }
   ],
   "source": [
    "from toolkit.generic import normalize_max\n",
    "normalize_max??"
   ]
  },
  {
   "cell_type": "markdown",
   "metadata": {},
   "source": [
    "类似地，在定义欧式模方时，也应当防止溢出。这一观点在前面实现 QR 分解时已有提出，此处只不过还需考虑复数模方；这在程序中以\n",
    "```python\n",
    "from toolkit.generic import vec_square\n",
    "```\n",
    "加以实现，此处不再赘述。\n",
    "\n",
    "------\n",
    "\n",
    "**此外，对病态的问题而言，迭代很可能根本不收敛！** 相应地，程序中设置 1 秒钟的 `timeout`, 以避免迭代卡死（`stuck`）带来的麻烦。如果迭代失败（可能是卡死，也可能是矢量落入矩阵的核（kernel, or simply $\\ker$）从而本征值 $v \\to 0$），则重取初始矢量（随机生成），再来一次。\n",
    "\n",
    "*默认“推倒重来”的次数上限为 `max_runs=10` , 尝试次数（`attempts`）达到上限则通过 `print` 报告。*\n",
    "\n",
    "--------\n",
    "\n",
    "对一维原子链而言，系数矩阵 $A$ 实现为："
   ]
  },
  {
   "cell_type": "code",
   "execution_count": 16,
   "metadata": {},
   "outputs": [
    {
     "name": "stdout",
     "output_type": "stream",
     "text": [
      "\u001b[0;32mdef\u001b[0m \u001b[0mstiffness_matrix_element\u001b[0m\u001b[0;34m(\u001b[0m\u001b[0mdim\u001b[0m\u001b[0;34m:\u001b[0m \u001b[0mint\u001b[0m\u001b[0;34m,\u001b[0m \u001b[0mi\u001b[0m\u001b[0;34m:\u001b[0m \u001b[0mint\u001b[0m\u001b[0;34m,\u001b[0m \u001b[0mj\u001b[0m\u001b[0;34m:\u001b[0m \u001b[0mint\u001b[0m\u001b[0;34m)\u001b[0m\u001b[0;34m:\u001b[0m\u001b[0;34m\u001b[0m\n",
      "\u001b[0;34m\u001b[0m    \u001b[0;32mdef\u001b[0m \u001b[0mmain_components\u001b[0m\u001b[0;34m(\u001b[0m\u001b[0mi\u001b[0m\u001b[0;34m:\u001b[0m \u001b[0mint\u001b[0m\u001b[0;34m,\u001b[0m \u001b[0mj\u001b[0m\u001b[0;34m:\u001b[0m \u001b[0mint\u001b[0m\u001b[0;34m)\u001b[0m\u001b[0;34m:\u001b[0m\u001b[0;34m\u001b[0m\n",
      "\u001b[0;34m\u001b[0m        \u001b[0;32mif\u001b[0m \u001b[0mi\u001b[0m \u001b[0;34m==\u001b[0m \u001b[0mj\u001b[0m\u001b[0;34m:\u001b[0m\u001b[0;34m\u001b[0m\n",
      "\u001b[0;34m\u001b[0m            \u001b[0;32mreturn\u001b[0m \u001b[0;36m2\u001b[0m\u001b[0;34m\u001b[0m\n",
      "\u001b[0;34m\u001b[0m        \u001b[0;32melif\u001b[0m \u001b[0mj\u001b[0m \u001b[0;32min\u001b[0m \u001b[0;34m(\u001b[0m\u001b[0mi\u001b[0m \u001b[0;34m+\u001b[0m \u001b[0;36m1\u001b[0m\u001b[0;34m,\u001b[0m \u001b[0mi\u001b[0m \u001b[0;34m-\u001b[0m \u001b[0;36m1\u001b[0m\u001b[0;34m)\u001b[0m\u001b[0;34m:\u001b[0m\u001b[0;34m\u001b[0m\n",
      "\u001b[0;34m\u001b[0m            \u001b[0;32mreturn\u001b[0m \u001b[0;34m-\u001b[0m\u001b[0;36m1\u001b[0m\u001b[0;34m\u001b[0m\n",
      "\u001b[0;34m\u001b[0m        \u001b[0;32melse\u001b[0m\u001b[0;34m:\u001b[0m\u001b[0;34m\u001b[0m\n",
      "\u001b[0;34m\u001b[0m            \u001b[0;32mreturn\u001b[0m \u001b[0;36m0\u001b[0m\u001b[0;34m\u001b[0m\n",
      "\u001b[0;34m\u001b[0m\u001b[0;34m\u001b[0m\n",
      "\u001b[0;34m\u001b[0m    \u001b[0;32mif\u001b[0m \u001b[0misinstance\u001b[0m\u001b[0;34m(\u001b[0m\u001b[0mdim\u001b[0m\u001b[0;34m,\u001b[0m \u001b[0mint\u001b[0m\u001b[0;34m)\u001b[0m \u001b[0;32mand\u001b[0m \u001b[0mdim\u001b[0m \u001b[0;34m>\u001b[0m \u001b[0;36m1\u001b[0m\u001b[0;34m:\u001b[0m\u001b[0;34m\u001b[0m\n",
      "\u001b[0;34m\u001b[0m        \u001b[0;32mif\u001b[0m \u001b[0;34m(\u001b[0m\u001b[0mi\u001b[0m\u001b[0;34m,\u001b[0m \u001b[0mj\u001b[0m\u001b[0;34m)\u001b[0m \u001b[0;32min\u001b[0m \u001b[0;34m[\u001b[0m\u001b[0;34m(\u001b[0m\u001b[0;36m0\u001b[0m\u001b[0;34m,\u001b[0m \u001b[0mdim\u001b[0m \u001b[0;34m-\u001b[0m \u001b[0;36m1\u001b[0m\u001b[0;34m)\u001b[0m\u001b[0;34m,\u001b[0m \u001b[0;34m(\u001b[0m\u001b[0mdim\u001b[0m \u001b[0;34m-\u001b[0m \u001b[0;36m1\u001b[0m\u001b[0;34m,\u001b[0m \u001b[0;36m0\u001b[0m\u001b[0;34m)\u001b[0m\u001b[0;34m]\u001b[0m\u001b[0;34m:\u001b[0m\u001b[0;34m\u001b[0m\n",
      "\u001b[0;34m\u001b[0m            \u001b[0;32mreturn\u001b[0m \u001b[0mmain_components\u001b[0m\u001b[0;34m(\u001b[0m\u001b[0mi\u001b[0m\u001b[0;34m,\u001b[0m \u001b[0mj\u001b[0m\u001b[0;34m)\u001b[0m \u001b[0;34m-\u001b[0m \u001b[0;36m1\u001b[0m\u001b[0;34m\u001b[0m\n",
      "\u001b[0;34m\u001b[0m        \u001b[0;32melif\u001b[0m \u001b[0mall\u001b[0m\u001b[0;34m(\u001b[0m \u001b[0mindex\u001b[0m \u001b[0;32min\u001b[0m \u001b[0mrange\u001b[0m\u001b[0;34m(\u001b[0m\u001b[0mdim\u001b[0m\u001b[0;34m)\u001b[0m \u001b[0;32mfor\u001b[0m \u001b[0mindex\u001b[0m \u001b[0;32min\u001b[0m \u001b[0;34m[\u001b[0m\u001b[0mi\u001b[0m\u001b[0;34m,\u001b[0m \u001b[0mj\u001b[0m\u001b[0;34m]\u001b[0m \u001b[0;34m)\u001b[0m\u001b[0;34m:\u001b[0m\u001b[0;34m\u001b[0m\n",
      "\u001b[0;34m\u001b[0m            \u001b[0;32mreturn\u001b[0m \u001b[0mmain_components\u001b[0m\u001b[0;34m(\u001b[0m\u001b[0mi\u001b[0m\u001b[0;34m,\u001b[0m \u001b[0mj\u001b[0m\u001b[0;34m)\u001b[0m\u001b[0;34m\u001b[0m\n",
      "\u001b[0;34m\u001b[0m        \u001b[0;32melse\u001b[0m\u001b[0;34m:\u001b[0m\u001b[0;34m\u001b[0m\n",
      "\u001b[0;34m\u001b[0m            \u001b[0;32mraise\u001b[0m \u001b[0mIndexError\u001b[0m\u001b[0;34m(\u001b[0m\u001b[0;34m'illegal index for matrix_element'\u001b[0m\u001b[0;34m)\u001b[0m\u001b[0;34m\u001b[0m\n",
      "\u001b[0;34m\u001b[0m    \u001b[0;32melse\u001b[0m\u001b[0;34m:\u001b[0m\u001b[0;34m\u001b[0m\n",
      "\u001b[0;34m\u001b[0m        \u001b[0;32mraise\u001b[0m \u001b[0mIndexError\u001b[0m\u001b[0;34m(\u001b[0m\u001b[0;34m'illegal dimension for matrix_element'\u001b[0m\u001b[0;34m)\u001b[0m\u001b[0;34m\u001b[0m\u001b[0m\n"
     ]
    }
   ],
   "source": [
    "from lattice_vibrations import stiffness_matrix_element\n",
    "stiffness_matrix_element??"
   ]
  },
  {
   "cell_type": "markdown",
   "metadata": {},
   "source": [
    "这一函数不仅可以给出 $n \\ge 3$ 的情形，还可适用于 $n = 2$ 的情形。利用这一函数构造矩阵，无需事先构造矩阵，只需在调用时临时生成即可；为模仿列表的指标记号，定义 `MatrixByRule` 类："
   ]
  },
  {
   "cell_type": "code",
   "execution_count": 17,
   "metadata": {},
   "outputs": [
    {
     "data": {
      "text/html": [
       "<p style=\"margin-top: 0.0ex\"></p>"
      ],
      "text/plain": [
       "<IPython.core.display.HTML object>"
      ]
     },
     "metadata": {},
     "output_type": "display_data"
    },
    {
     "name": "stdout",
     "output_type": "stream",
     "text": [
      "\u001b[0;32mclass\u001b[0m \u001b[0mMatrixByRule\u001b[0m\u001b[0;34m(\u001b[0m\u001b[0mListByRule\u001b[0m\u001b[0;34m)\u001b[0m\u001b[0;34m:\u001b[0m\u001b[0;34m\u001b[0m\n",
      "\u001b[0;34m\u001b[0m    \u001b[0;34m\"\"\" Construct SQUARE matrix, according to a certain rule (function);\u001b[0m\n",
      "\u001b[0;34m        :param func: input function, with argument (i, j);\u001b[0m\n",
      "\u001b[0;34m        :param dim: dimension of the matrix.\u001b[0m\n",
      "\u001b[0;34m        SLICING IS NOT SUPPORTED!\u001b[0m\n",
      "\u001b[0;34m        P.S. `__init__`, `dim` & `print` inherited from `ListByRule`.\u001b[0m\n",
      "\u001b[0;34m    \"\"\"\u001b[0m\u001b[0;34m\u001b[0m\n",
      "\u001b[0;34m\u001b[0m    \u001b[0;32mdef\u001b[0m \u001b[0mrule\u001b[0m\u001b[0;34m(\u001b[0m\u001b[0mself\u001b[0m\u001b[0;34m,\u001b[0m \u001b[0mi\u001b[0m\u001b[0;34m,\u001b[0m \u001b[0mj\u001b[0m\u001b[0;34m)\u001b[0m\u001b[0;34m:\u001b[0m\u001b[0;34m\u001b[0m\n",
      "\u001b[0;34m\u001b[0m        \u001b[0mentry\u001b[0m \u001b[0;34m=\u001b[0m \u001b[0;34m(\u001b[0m\u001b[0mi_reduced\u001b[0m\u001b[0;34m,\u001b[0m \u001b[0mj_reduced\u001b[0m\u001b[0;34m)\u001b[0m \u001b[0;34m=\u001b[0m \u001b[0;34m[\u001b[0m \u001b[0mx\u001b[0m \u001b[0;34m%\u001b[0m \u001b[0mself\u001b[0m\u001b[0;34m.\u001b[0m\u001b[0mdim\u001b[0m \u001b[0;32mfor\u001b[0m \u001b[0mx\u001b[0m \u001b[0;32min\u001b[0m \u001b[0;34m[\u001b[0m\u001b[0mi\u001b[0m\u001b[0;34m,\u001b[0m \u001b[0mj\u001b[0m\u001b[0;34m]\u001b[0m \u001b[0;34m]\u001b[0m\u001b[0;34m\u001b[0m\n",
      "\u001b[0;34m\u001b[0m        \u001b[0;32mif\u001b[0m \u001b[0mall\u001b[0m\u001b[0;34m(\u001b[0m \u001b[0mitem\u001b[0m \u001b[0;32min\u001b[0m \u001b[0mrange\u001b[0m\u001b[0;34m(\u001b[0m\u001b[0mself\u001b[0m\u001b[0;34m.\u001b[0m\u001b[0mdim\u001b[0m\u001b[0;34m)\u001b[0m \u001b[0;32mfor\u001b[0m \u001b[0mitem\u001b[0m \u001b[0;32min\u001b[0m \u001b[0mentry\u001b[0m \u001b[0;34m)\u001b[0m\u001b[0;34m:\u001b[0m\u001b[0;34m\u001b[0m\n",
      "\u001b[0;34m\u001b[0m            \u001b[0;32mreturn\u001b[0m \u001b[0mself\u001b[0m\u001b[0;34m.\u001b[0m\u001b[0mfunc\u001b[0m\u001b[0;34m(\u001b[0m\u001b[0;34m*\u001b[0m\u001b[0mentry\u001b[0m\u001b[0;34m)\u001b[0m\u001b[0;34m\u001b[0m\n",
      "\u001b[0;34m\u001b[0m        \u001b[0;32melse\u001b[0m\u001b[0;34m:\u001b[0m\u001b[0;34m\u001b[0m\n",
      "\u001b[0;34m\u001b[0m            \u001b[0;32mraise\u001b[0m \u001b[0mIndexError\u001b[0m\u001b[0;34m(\u001b[0m\u001b[0;34m'illegal index for MatrixByRule'\u001b[0m\u001b[0;34m)\u001b[0m\u001b[0;34m\u001b[0m\n",
      "\u001b[0;34m\u001b[0m\u001b[0;34m\u001b[0m\n",
      "\u001b[0;34m\u001b[0m    \u001b[0;32mdef\u001b[0m \u001b[0m__getitem__\u001b[0m\u001b[0;34m(\u001b[0m\u001b[0mself\u001b[0m\u001b[0;34m,\u001b[0m \u001b[0mkey\u001b[0m\u001b[0;34m)\u001b[0m\u001b[0;34m:\u001b[0m\u001b[0;34m\u001b[0m\n",
      "\u001b[0;34m\u001b[0m        \u001b[0;32mreturn\u001b[0m \u001b[0mListByRule\u001b[0m\u001b[0;34m(\u001b[0m\u001b[0;32mlambda\u001b[0m \u001b[0mi\u001b[0m\u001b[0;34m:\u001b[0m \u001b[0mself\u001b[0m\u001b[0;34m.\u001b[0m\u001b[0mrule\u001b[0m\u001b[0;34m(\u001b[0m\u001b[0mkey\u001b[0m\u001b[0;34m,\u001b[0m \u001b[0mi\u001b[0m\u001b[0;34m)\u001b[0m\u001b[0;34m,\u001b[0m \u001b[0mself\u001b[0m\u001b[0;34m.\u001b[0m\u001b[0mdim\u001b[0m\u001b[0;34m)\u001b[0m\u001b[0;34m\u001b[0m\n",
      "\u001b[0;34m\u001b[0m\u001b[0;34m\u001b[0m\n",
      "\u001b[0;34m\u001b[0m    \u001b[0;32mdef\u001b[0m \u001b[0mlist\u001b[0m\u001b[0;34m(\u001b[0m\u001b[0mself\u001b[0m\u001b[0;34m)\u001b[0m\u001b[0;34m:\u001b[0m\u001b[0;34m\u001b[0m\n",
      "\u001b[0;34m\u001b[0m        \u001b[0;32mreturn\u001b[0m \u001b[0;34m[\u001b[0m \u001b[0;34m[\u001b[0m\u001b[0mself\u001b[0m\u001b[0;34m.\u001b[0m\u001b[0mrule\u001b[0m\u001b[0;34m(\u001b[0m\u001b[0mi\u001b[0m\u001b[0;34m,\u001b[0m \u001b[0mj\u001b[0m\u001b[0;34m)\u001b[0m \u001b[0;32mfor\u001b[0m \u001b[0mj\u001b[0m \u001b[0;32min\u001b[0m \u001b[0mrange\u001b[0m\u001b[0;34m(\u001b[0m\u001b[0mself\u001b[0m\u001b[0;34m.\u001b[0m\u001b[0mdim\u001b[0m\u001b[0;34m)\u001b[0m\u001b[0;34m]\u001b[0m\u001b[0;34m\u001b[0m\n",
      "\u001b[0;34m\u001b[0m                 \u001b[0;32mfor\u001b[0m \u001b[0mi\u001b[0m \u001b[0;32min\u001b[0m \u001b[0mrange\u001b[0m\u001b[0;34m(\u001b[0m\u001b[0mself\u001b[0m\u001b[0;34m.\u001b[0m\u001b[0mdim\u001b[0m\u001b[0;34m)\u001b[0m \u001b[0;34m]\u001b[0m\u001b[0;34m\u001b[0m\u001b[0m\n"
     ]
    },
    {
     "data": {
      "text/html": [
       "<p style=\"margin-top: 0.0ex\"></p>"
      ],
      "text/plain": [
       "<IPython.core.display.HTML object>"
      ]
     },
     "metadata": {},
     "output_type": "display_data"
    },
    {
     "name": "stdout",
     "output_type": "stream",
     "text": [
      "\u001b[0;32mclass\u001b[0m \u001b[0mListByRule\u001b[0m\u001b[0;34m(\u001b[0m\u001b[0mobject\u001b[0m\u001b[0;34m)\u001b[0m\u001b[0;34m:\u001b[0m\u001b[0;34m\u001b[0m\n",
      "\u001b[0;34m\u001b[0m    \u001b[0;34m\"\"\" Construct list according to a certain rule (function);\u001b[0m\n",
      "\u001b[0;34m        :param func: input function, with argument i as list index;\u001b[0m\n",
      "\u001b[0;34m        :param length: length of the list.\u001b[0m\n",
      "\u001b[0;34m        SLICING IS NOT SUPPORTED!\u001b[0m\n",
      "\u001b[0;34m    \"\"\"\u001b[0m\u001b[0;34m\u001b[0m\n",
      "\u001b[0;34m\u001b[0m    \u001b[0;32mdef\u001b[0m \u001b[0m__init__\u001b[0m\u001b[0;34m(\u001b[0m\u001b[0mself\u001b[0m\u001b[0;34m,\u001b[0m \u001b[0mfunc\u001b[0m\u001b[0;34m,\u001b[0m \u001b[0mdim\u001b[0m\u001b[0;34m:\u001b[0m \u001b[0mint\u001b[0m\u001b[0;34m)\u001b[0m\u001b[0;34m:\u001b[0m\u001b[0;34m\u001b[0m\n",
      "\u001b[0;34m\u001b[0m        \u001b[0mself\u001b[0m\u001b[0;34m.\u001b[0m\u001b[0mdim\u001b[0m \u001b[0;34m=\u001b[0m \u001b[0mdim\u001b[0m\u001b[0;34m\u001b[0m\n",
      "\u001b[0;34m\u001b[0m        \u001b[0mself\u001b[0m\u001b[0;34m.\u001b[0m\u001b[0mfunc\u001b[0m \u001b[0;34m=\u001b[0m \u001b[0mfunc\u001b[0m\u001b[0;34m\u001b[0m\n",
      "\u001b[0;34m\u001b[0m\u001b[0;34m\u001b[0m\n",
      "\u001b[0;34m\u001b[0m    \u001b[0;32mdef\u001b[0m \u001b[0mdimension\u001b[0m\u001b[0;34m(\u001b[0m\u001b[0mself\u001b[0m\u001b[0;34m)\u001b[0m\u001b[0;34m:\u001b[0m\u001b[0;34m\u001b[0m\n",
      "\u001b[0;34m\u001b[0m        \u001b[0;32mreturn\u001b[0m \u001b[0mself\u001b[0m\u001b[0;34m.\u001b[0m\u001b[0mdim\u001b[0m\u001b[0;34m\u001b[0m\n",
      "\u001b[0;34m\u001b[0m\u001b[0;34m\u001b[0m\n",
      "\u001b[0;34m\u001b[0m    \u001b[0;32mdef\u001b[0m \u001b[0mprint\u001b[0m\u001b[0;34m(\u001b[0m\u001b[0mself\u001b[0m\u001b[0;34m)\u001b[0m\u001b[0;34m:\u001b[0m\u001b[0;34m\u001b[0m\n",
      "\u001b[0;34m\u001b[0m        \u001b[0;32mreturn\u001b[0m \u001b[0mprint_matrix\u001b[0m\u001b[0;34m(\u001b[0m\u001b[0mself\u001b[0m\u001b[0;34m.\u001b[0m\u001b[0mlist\u001b[0m\u001b[0;34m(\u001b[0m\u001b[0;34m)\u001b[0m\u001b[0;34m)\u001b[0m\u001b[0;34m\u001b[0m\n",
      "\u001b[0;34m\u001b[0m\u001b[0;34m\u001b[0m\n",
      "\u001b[0;34m\u001b[0m    \u001b[0;32mdef\u001b[0m \u001b[0mrule\u001b[0m\u001b[0;34m(\u001b[0m\u001b[0mself\u001b[0m\u001b[0;34m,\u001b[0m \u001b[0mi\u001b[0m\u001b[0;34m)\u001b[0m\u001b[0;34m:\u001b[0m\u001b[0;34m\u001b[0m\n",
      "\u001b[0;34m\u001b[0m        \u001b[0mi_reduced\u001b[0m \u001b[0;34m=\u001b[0m \u001b[0mi\u001b[0m \u001b[0;34m%\u001b[0m \u001b[0mself\u001b[0m\u001b[0;34m.\u001b[0m\u001b[0mdim\u001b[0m\u001b[0;34m\u001b[0m\n",
      "\u001b[0;34m\u001b[0m        \u001b[0;32mif\u001b[0m \u001b[0mi_reduced\u001b[0m \u001b[0;32min\u001b[0m \u001b[0mrange\u001b[0m\u001b[0;34m(\u001b[0m\u001b[0mself\u001b[0m\u001b[0;34m.\u001b[0m\u001b[0mdim\u001b[0m\u001b[0;34m)\u001b[0m\u001b[0;34m:\u001b[0m\u001b[0;34m\u001b[0m\n",
      "\u001b[0;34m\u001b[0m            \u001b[0;32mreturn\u001b[0m \u001b[0mself\u001b[0m\u001b[0;34m.\u001b[0m\u001b[0mfunc\u001b[0m\u001b[0;34m(\u001b[0m\u001b[0mi_reduced\u001b[0m\u001b[0;34m)\u001b[0m\u001b[0;34m\u001b[0m\n",
      "\u001b[0;34m\u001b[0m        \u001b[0;32melse\u001b[0m\u001b[0;34m:\u001b[0m\u001b[0;34m\u001b[0m\n",
      "\u001b[0;34m\u001b[0m            \u001b[0;32mraise\u001b[0m \u001b[0mIndexError\u001b[0m\u001b[0;34m(\u001b[0m\u001b[0;34m'illegal index for ListByRule'\u001b[0m\u001b[0;34m)\u001b[0m\u001b[0;34m\u001b[0m\n",
      "\u001b[0;34m\u001b[0m\u001b[0;34m\u001b[0m\n",
      "\u001b[0;34m\u001b[0m    \u001b[0;32mdef\u001b[0m \u001b[0m__getitem__\u001b[0m\u001b[0;34m(\u001b[0m\u001b[0mself\u001b[0m\u001b[0;34m,\u001b[0m \u001b[0mkey\u001b[0m\u001b[0;34m)\u001b[0m\u001b[0;34m:\u001b[0m\u001b[0;34m\u001b[0m\n",
      "\u001b[0;34m\u001b[0m        \u001b[0;32mreturn\u001b[0m \u001b[0mself\u001b[0m\u001b[0;34m.\u001b[0m\u001b[0mrule\u001b[0m\u001b[0;34m(\u001b[0m\u001b[0mkey\u001b[0m\u001b[0;34m)\u001b[0m\u001b[0;34m\u001b[0m\n",
      "\u001b[0;34m\u001b[0m\u001b[0;34m\u001b[0m\n",
      "\u001b[0;34m\u001b[0m    \u001b[0;32mdef\u001b[0m \u001b[0mlist\u001b[0m\u001b[0;34m(\u001b[0m\u001b[0mself\u001b[0m\u001b[0;34m)\u001b[0m\u001b[0;34m:\u001b[0m\u001b[0;34m\u001b[0m\n",
      "\u001b[0;34m\u001b[0m        \u001b[0;32mreturn\u001b[0m \u001b[0;34m[\u001b[0m \u001b[0mself\u001b[0m\u001b[0;34m.\u001b[0m\u001b[0mrule\u001b[0m\u001b[0;34m(\u001b[0m\u001b[0mi\u001b[0m\u001b[0;34m)\u001b[0m \u001b[0;32mfor\u001b[0m \u001b[0mi\u001b[0m \u001b[0;32min\u001b[0m \u001b[0mrange\u001b[0m\u001b[0;34m(\u001b[0m\u001b[0mself\u001b[0m\u001b[0;34m.\u001b[0m\u001b[0mdim\u001b[0m\u001b[0;34m)\u001b[0m \u001b[0;34m]\u001b[0m\u001b[0;34m\u001b[0m\u001b[0m\n"
     ]
    }
   ],
   "source": [
    "from toolkit.generic import ListByRule, MatrixByRule\n",
    "display_whitespace(0.)\n",
    "MatrixByRule??\n",
    "display_whitespace(0.)\n",
    "ListByRule??"
   ]
  },
  {
   "cell_type": "markdown",
   "metadata": {},
   "source": [
    "通过 `__getitem__` 这一 method 实现与列表一样的指标读取。代入 `max_eigensystem`, 给出："
   ]
  },
  {
   "cell_type": "code",
   "execution_count": 18,
   "metadata": {},
   "outputs": [
    {
     "data": {
      "text/html": [
       "<style  type=\"text/css\" >\n",
       "</style>  \n",
       "<table id=\"T_b31e802e_4e15_11e8_9cd1_a0d37a2cfae2\" > \n",
       "<thead>    <tr> \n",
       "        <th class=\"index_name level0\" >Length $N$</th> \n",
       "        <th class=\"col_heading level0 col0\" >Eigenvalue</th> \n",
       "        <th class=\"col_heading level0 col1\" >Eigenvector</th> \n",
       "    </tr></thead> \n",
       "<tbody>    <tr> \n",
       "        <th id=\"T_b31e802e_4e15_11e8_9cd1_a0d37a2cfae2level0_row0\" class=\"row_heading level0 row0\" >10</th> \n",
       "        <td id=\"T_b31e802e_4e15_11e8_9cd1_a0d37a2cfae2row0_col0\" class=\"data row0 col0\" >4.000000</td> \n",
       "        <td id=\"T_b31e802e_4e15_11e8_9cd1_a0d37a2cfae2row0_col1\" class=\"data row0 col1\" >[-1.,  1., -1.,  1., -1.,  1., -1.,  1., -1.,  1.]</td> \n",
       "    </tr></tbody> \n",
       "</table> "
      ],
      "text/plain": [
       "<pandas.io.formats.style.Styler at 0x7f7abbc9f080>"
      ]
     },
     "execution_count": 18,
     "metadata": {},
     "output_type": "execute_result"
    }
   ],
   "source": [
    "from backstage import LatticeMaxModes\n",
    "lattice_data = LatticeMaxModes()\n",
    "lattice_data.add(length=10)"
   ]
  },
  {
   "cell_type": "markdown",
   "metadata": {},
   "source": [
    "与理论结果一致。尝试改变 $N$, 对 $N = $ 奇数，有："
   ]
  },
  {
   "cell_type": "code",
   "execution_count": 19,
   "metadata": {},
   "outputs": [
    {
     "name": "stdout",
     "output_type": "stream",
     "text": [
      "\n",
      "N = 9, Eigenvalue (numerical result): 3.8793852415718173\n"
     ]
    },
    {
     "data": {
      "text/markdown": [
       "$\\mrm{Ref}\\colon\\ 4 \\cos^2 \\pqty{\\frac{\\pi}{2N}} \\big|_{\\,N = 9} = 3.8793852415718164 $"
      ],
      "text/plain": [
       "<IPython.core.display.Markdown object>"
      ]
     },
     "metadata": {},
     "output_type": "display_data"
    }
   ],
   "source": [
    "%precision 6\n",
    "length_N = 9\n",
    "lattice_data.add(length_N)\n",
    "\n",
    "%precision\n",
    "print('')\n",
    "lattice_data.eigenvalue_calc(length_N)\n",
    "lattice_data.eigenvalue_ref(length_N)"
   ]
  },
  {
   "cell_type": "markdown",
   "metadata": {},
   "source": [
    "同样与理论预计一致。\n",
    "\n",
    "然而，不难发现，$N = $ 奇数时，上述迭代极有可能并不收敛！只要将上一 cell 多运行几次，总能看见一两回 `did not converge!`  的报告；这也是原程序中设置 `timeout` 的主要动机。\n",
    "\n",
    "事实上，根据[参考教材](http://www.bookask.com/book/13300.html)，幂次法的收敛速度取决于 $\\abs{\\frac{\\lambda_2}{\\lambda_1}}$ , 其中 $\\lambda_1$ 是模最大本征值，而 $\\lambda_2$ 是模次大本征值；只有 $\\abs{\\lambda_1}$ *严格大于* $\\abs{\\lambda_2}$ 时，收敛性才有保证。也就是说，将本征值 $\\lambda_i$ 排成一列，应当有：\n",
    "$$ \\abs{\\lambda_1} > \\abs{\\lambda_2} \\ge \\cdots $$\n",
    "否则，幂次法完全有可能不收敛。对 $N = $ 奇数的一维原子链而言，$\\lambda_{\\max} = \\omega^2_{\\max}$ 是二重简并的，即直接有 $\\lambda_1 = \\lambda_2$, 幂法迭代不保证收敛；虽说对某些初始矢量而言，该方法实际能够收敛到某个本征矢量，但对于不同的初始值而言，最终收敛到的矢量可能是完全不同（线性无关）的，它们只不过是 $\\lambda_{\\max}$ 简并子空间中的一些特殊元素，可以有很大的任意性。而 $N = $ 偶数满足 $ \\abs{\\lambda_1} > \\abs{\\lambda_2} \\ge \\cdots $ 的条件，故其迭代收敛没有任何问题。"
   ]
  },
  {
   "cell_type": "code",
   "execution_count": 20,
   "metadata": {},
   "outputs": [
    {
     "name": "stdout",
     "output_type": "stream",
     "text": [
      "`max_eigensystem`: Iteration did not converge! dim = 5, Re-trying ...\n",
      "--------------------------------\n",
      "`max_eigensystem`: Iteration did not converge! dim = 7, Re-trying ...\n",
      "--------------------------------\n"
     ]
    },
    {
     "data": {
      "text/html": [
       "<style  type=\"text/css\" >\n",
       "</style>  \n",
       "<table id=\"T_b487f92c_4e15_11e8_9cd1_a0d37a2cfae2\" > \n",
       "<thead>    <tr> \n",
       "        <th class=\"index_name level0\" >Length $N$</th> \n",
       "        <th class=\"col_heading level0 col0\" >Eigenvalue</th> \n",
       "        <th class=\"col_heading level0 col1\" >Eigenvector</th> \n",
       "    </tr></thead> \n",
       "<tbody>    <tr> \n",
       "        <th id=\"T_b487f92c_4e15_11e8_9cd1_a0d37a2cfae2level0_row0\" class=\"row_heading level0 row0\" >2</th> \n",
       "        <td id=\"T_b487f92c_4e15_11e8_9cd1_a0d37a2cfae2row0_col0\" class=\"data row0 col0\" >4.000000</td> \n",
       "        <td id=\"T_b487f92c_4e15_11e8_9cd1_a0d37a2cfae2row0_col1\" class=\"data row0 col1\" >[-1.,  1.]</td> \n",
       "    </tr>    <tr> \n",
       "        <th id=\"T_b487f92c_4e15_11e8_9cd1_a0d37a2cfae2level0_row1\" class=\"row_heading level0 row1\" >3</th> \n",
       "        <td id=\"T_b487f92c_4e15_11e8_9cd1_a0d37a2cfae2row1_col0\" class=\"data row1 col0\" >3.000000</td> \n",
       "        <td id=\"T_b487f92c_4e15_11e8_9cd1_a0d37a2cfae2row1_col1\" class=\"data row1 col1\" >[-1.      ,  0.069713,  0.930287]</td> \n",
       "    </tr>    <tr> \n",
       "        <th id=\"T_b487f92c_4e15_11e8_9cd1_a0d37a2cfae2level0_row2\" class=\"row_heading level0 row2\" >4</th> \n",
       "        <td id=\"T_b487f92c_4e15_11e8_9cd1_a0d37a2cfae2row2_col0\" class=\"data row2 col0\" >4.000000</td> \n",
       "        <td id=\"T_b487f92c_4e15_11e8_9cd1_a0d37a2cfae2row2_col1\" class=\"data row2 col1\" >[ 1., -1.,  1., -1.]</td> \n",
       "    </tr>    <tr> \n",
       "        <th id=\"T_b487f92c_4e15_11e8_9cd1_a0d37a2cfae2level0_row3\" class=\"row_heading level0 row3\" >5</th> \n",
       "        <td id=\"T_b487f92c_4e15_11e8_9cd1_a0d37a2cfae2row3_col0\" class=\"data row3 col0\" >3.618034</td> \n",
       "        <td id=\"T_b487f92c_4e15_11e8_9cd1_a0d37a2cfae2row3_col1\" class=\"data row3 col1\" >[ 0.981568, -0.588211, -0.029823,  0.636466, -1.      ]</td> \n",
       "    </tr>    <tr> \n",
       "        <th id=\"T_b487f92c_4e15_11e8_9cd1_a0d37a2cfae2level0_row4\" class=\"row_heading level0 row4\" >6</th> \n",
       "        <td id=\"T_b487f92c_4e15_11e8_9cd1_a0d37a2cfae2row4_col0\" class=\"data row4 col0\" >4.000000</td> \n",
       "        <td id=\"T_b487f92c_4e15_11e8_9cd1_a0d37a2cfae2row4_col1\" class=\"data row4 col1\" >[ 1., -1.,  1., -1.,  1., -1.]</td> \n",
       "    </tr>    <tr> \n",
       "        <th id=\"T_b487f92c_4e15_11e8_9cd1_a0d37a2cfae2level0_row5\" class=\"row_heading level0 row5\" >7</th> \n",
       "        <td id=\"T_b487f92c_4e15_11e8_9cd1_a0d37a2cfae2row5_col0\" class=\"data row5 col0\" >3.801938</td> \n",
       "        <td id=\"T_b487f92c_4e15_11e8_9cd1_a0d37a2cfae2row5_col1\" class=\"data row5 col1\" >[-0.760568,  0.393455,  0.051587, -0.486412,  0.824896, -1.      ,\n",
       "  0.977042]</td> \n",
       "    </tr>    <tr> \n",
       "        <th id=\"T_b487f92c_4e15_11e8_9cd1_a0d37a2cfae2level0_row6\" class=\"row_heading level0 row6\" >8</th> \n",
       "        <td id=\"T_b487f92c_4e15_11e8_9cd1_a0d37a2cfae2row6_col0\" class=\"data row6 col0\" >4.000000</td> \n",
       "        <td id=\"T_b487f92c_4e15_11e8_9cd1_a0d37a2cfae2row6_col1\" class=\"data row6 col1\" >[ 1., -1.,  1., -1.,  1., -1.,  1., -1.]</td> \n",
       "    </tr>    <tr> \n",
       "        <th id=\"T_b487f92c_4e15_11e8_9cd1_a0d37a2cfae2level0_row7\" class=\"row_heading level0 row7\" >9</th> \n",
       "        <td id=\"T_b487f92c_4e15_11e8_9cd1_a0d37a2cfae2row7_col0\" class=\"data row7 col0\" >3.879385</td> \n",
       "        <td id=\"T_b487f92c_4e15_11e8_9cd1_a0d37a2cfae2row7_col1\" class=\"data row7 col1\" >[ 1.      , -0.954464,  0.793805, -0.537402,  0.21618 ,  0.131116,\n",
       " -0.462598,  0.738284, -0.924921]</td> \n",
       "    </tr>    <tr> \n",
       "        <th id=\"T_b487f92c_4e15_11e8_9cd1_a0d37a2cfae2level0_row8\" class=\"row_heading level0 row8\" >10</th> \n",
       "        <td id=\"T_b487f92c_4e15_11e8_9cd1_a0d37a2cfae2row8_col0\" class=\"data row8 col0\" >4.000000</td> \n",
       "        <td id=\"T_b487f92c_4e15_11e8_9cd1_a0d37a2cfae2row8_col1\" class=\"data row8 col1\" >[-1.,  1., -1.,  1., -1.,  1., -1.,  1., -1.,  1.]</td> \n",
       "    </tr></tbody> \n",
       "</table> "
      ],
      "text/plain": [
       "<pandas.io.formats.style.Styler at 0x7f7abbc86390>"
      ]
     },
     "metadata": {},
     "output_type": "display_data"
    }
   ],
   "source": [
    "%precision 6\n",
    "display(lattice_data.add_multiple(range(2,9)))"
   ]
  },
  {
   "cell_type": "markdown",
   "metadata": {},
   "source": [
    "重复运行上条命令，确实可见 $N = $ 奇数时收敛到的本征矢量总在发生变化，而且迭代不收敛的情况仅在 $N = $ 奇数时发生。<br/>\n",
    "比较本征值的计算结果与理论公式，可见完全吻合："
   ]
  },
  {
   "cell_type": "code",
   "execution_count": 21,
   "metadata": {
    "scrolled": true
   },
   "outputs": [
    {
     "data": {
      "text/html": [
       "<p style=\"margin-top: 0.5ex\"></p>"
      ],
      "text/plain": [
       "<IPython.core.display.HTML object>"
      ]
     },
     "metadata": {},
     "output_type": "display_data"
    },
    {
     "data": {
      "image/png": "[encoded data removed]",
      "text/plain": [
       "<matplotlib.figure.Figure at 0x7f7ac4453fd0>"
      ]
     },
     "metadata": {},
     "output_type": "display_data"
    }
   ],
   "source": [
    "%matplotlib inline\n",
    "display_whitespace(.5)\n",
    "lattice_data.eigenvalues_plot()"
   ]
  },
  {
   "cell_type": "markdown",
   "metadata": {},
   "source": [
    "------\n",
    "对 $N = 3$, 我们可以进一步验证，最终收敛到的矢量 *基本上* 是任意的；首先，迭代生成 `max_size=100` 组本征矢量："
   ]
  },
  {
   "cell_type": "code",
   "execution_count": 22,
   "metadata": {},
   "outputs": [],
   "source": [
    "from backstage import LatticeMaxModes"
   ]
  },
  {
   "cell_type": "code",
   "execution_count": 23,
   "metadata": {
    "scrolled": true
   },
   "outputs": [],
   "source": [
    "length_N = 3\n",
    "lattice_data.eigenvector_list(length_N, max_size=100,\n",
    "                              output=f'csv/lattice_length{length_N}.csv');"
   ]
  },
  {
   "cell_type": "markdown",
   "metadata": {},
   "source": [
    "作图如下："
   ]
  },
  {
   "cell_type": "code",
   "execution_count": 24,
   "metadata": {
    "scrolled": true
   },
   "outputs": [
    {
     "data": {
      "application/javascript": [
       "/* Put everything inside the global mpl namespace */\n",
       "window.mpl = {};\n",
       "\n",
       "\n",
       "mpl.get_websocket_type = function() {\n",
       "    if (typeof(WebSocket) !== 'undefined') {\n",
       "        return WebSocket;\n",
       "    } else if (typeof(MozWebSocket) !== 'undefined') {\n",
       "        return MozWebSocket;\n",
       "    } else {\n",
       "        alert('Your browser does not have WebSocket support.' +\n",
       "              'Please try Chrome, Safari or Firefox ≥ 6. ' +\n",
       "              'Firefox 4 and 5 are also supported but you ' +\n",
       "              'have to enable WebSockets in about:config.');\n",
       "    };\n",
       "}\n",
       "\n",
       "mpl.figure = function(figure_id, websocket, ondownload, parent_element) {\n",
       "    this.id = figure_id;\n",
       "\n",
       "    this.ws = websocket;\n",
       "\n",
       "    this.supports_binary = (this.ws.binaryType != undefined);\n",
       "\n",
       "    if (!this.supports_binary) {\n",
       "        var warnings = document.getElementById(\"mpl-warnings\");\n",
       "        if (warnings) {\n",
       "            warnings.style.display = 'block';\n",
       "            warnings.textContent = (\n",
       "                \"This browser does not support binary websocket messages. \" +\n",
       "                    \"Performance may be slow.\");\n",
       "        }\n",
       "    }\n",
       "\n",
       "    this.imageObj = new Image();\n",
       "\n",
       "    this.context = undefined;\n",
       "    this.message = undefined;\n",
       "    this.canvas = undefined;\n",
       "    this.rubberband_canvas = undefined;\n",
       "    this.rubberband_context = undefined;\n",
       "    this.format_dropdown = undefined;\n",
       "\n",
       "    this.image_mode = 'full';\n",
       "\n",
       "    this.root = $('<div/>');\n",
       "    this._root_extra_style(this.root)\n",
       "    this.root.attr('style', 'display: inline-block');\n",
       "\n",
       "    $(parent_element).append(this.root);\n",
       "\n",
       "    this._init_header(this);\n",
       "    this._init_canvas(this);\n",
       "    this._init_toolbar(this);\n",
       "\n",
       "    var fig = this;\n",
       "\n",
       "    this.waiting = false;\n",
       "\n",
       "    this.ws.onopen =  function () {\n",
       "            fig.send_message(\"supports_binary\", {value: fig.supports_binary});\n",
       "            fig.send_message(\"send_image_mode\", {});\n",
       "            if (mpl.ratio != 1) {\n",
       "                fig.send_message(\"set_dpi_ratio\", {'dpi_ratio': mpl.ratio});\n",
       "            }\n",
       "            fig.send_message(\"refresh\", {});\n",
       "        }\n",
       "\n",
       "    this.imageObj.onload = function() {\n",
       "            if (fig.image_mode == 'full') {\n",
       "                // Full images could contain transparency (where diff images\n",
       "                // almost always do), so we need to clear the canvas so that\n",
       "                // there is no ghosting.\n",
       "                fig.context.clearRect(0, 0, fig.canvas.width, fig.canvas.height);\n",
       "            }\n",
       "            fig.context.drawImage(fig.imageObj, 0, 0);\n",
       "        };\n",
       "\n",
       "    this.imageObj.onunload = function() {\n",
       "        fig.ws.close();\n",
       "    }\n",
       "\n",
       "    this.ws.onmessage = this._make_on_message_function(this);\n",
       "\n",
       "    this.ondownload = ondownload;\n",
       "}\n",
       "\n",
       "mpl.figure.prototype._init_header = function() {\n",
       "    var titlebar = $(\n",
       "        '<div class=\"ui-dialog-titlebar ui-widget-header ui-corner-all ' +\n",
       "        'ui-helper-clearfix\"/>');\n",
       "    var titletext = $(\n",
       "        '<div class=\"ui-dialog-title\" style=\"width: 100%; ' +\n",
       "        'text-align: center; padding: 3px;\"/>');\n",
       "    titlebar.append(titletext)\n",
       "    this.root.append(titlebar);\n",
       "    this.header = titletext[0];\n",
       "}\n",
       "\n",
       "\n",
       "\n",
       "mpl.figure.prototype._canvas_extra_style = function(canvas_div) {\n",
       "\n",
       "}\n",
       "\n",
       "\n",
       "mpl.figure.prototype._root_extra_style = function(canvas_div) {\n",
       "\n",
       "}\n",
       "\n",
       "mpl.figure.prototype._init_canvas = function() {\n",
       "    var fig = this;\n",
       "\n",
       "    var canvas_div = $('<div/>');\n",
       "\n",
       "    canvas_div.attr('style', 'position: relative; clear: both; outline: 0');\n",
       "\n",
       "    function canvas_keyboard_event(event) {\n",
       "        return fig.key_event(event, event['data']);\n",
       "    }\n",
       "\n",
       "    canvas_div.keydown('key_press', canvas_keyboard_event);\n",
       "    canvas_div.keyup('key_release', canvas_keyboard_event);\n",
       "    this.canvas_div = canvas_div\n",
       "    this._canvas_extra_style(canvas_div)\n",
       "    this.root.append(canvas_div);\n",
       "\n",
       "    var canvas = $('<canvas/>');\n",
       "    canvas.addClass('mpl-canvas');\n",
       "    canvas.attr('style', \"left: 0; top: 0; z-index: 0; outline: 0\")\n",
       "\n",
       "    this.canvas = canvas[0];\n",
       "    this.context = canvas[0].getContext(\"2d\");\n",
       "\n",
       "    var backingStore = this.context.backingStorePixelRatio ||\n",
       "\tthis.context.webkitBackingStorePixelRatio ||\n",
       "\tthis.context.mozBackingStorePixelRatio ||\n",
       "\tthis.context.msBackingStorePixelRatio ||\n",
       "\tthis.context.oBackingStorePixelRatio ||\n",
       "\tthis.context.backingStorePixelRatio || 1;\n",
       "\n",
       "    mpl.ratio = (window.devicePixelRatio || 1) / backingStore;\n",
       "\n",
       "    var rubberband = $('<canvas/>');\n",
       "    rubberband.attr('style', \"position: absolute; left: 0; top: 0; z-index: 1;\")\n",
       "\n",
       "    var pass_mouse_events = true;\n",
       "\n",
       "    canvas_div.resizable({\n",
       "        start: function(event, ui) {\n",
       "            pass_mouse_events = false;\n",
       "        },\n",
       "        resize: function(event, ui) {\n",
       "            fig.request_resize(ui.size.width, ui.size.height);\n",
       "        },\n",
       "        stop: function(event, ui) {\n",
       "            pass_mouse_events = true;\n",
       "            fig.request_resize(ui.size.width, ui.size.height);\n",
       "        },\n",
       "    });\n",
       "\n",
       "    function mouse_event_fn(event) {\n",
       "        if (pass_mouse_events)\n",
       "            return fig.mouse_event(event, event['data']);\n",
       "    }\n",
       "\n",
       "    rubberband.mousedown('button_press', mouse_event_fn);\n",
       "    rubberband.mouseup('button_release', mouse_event_fn);\n",
       "    // Throttle sequential mouse events to 1 every 20ms.\n",
       "    rubberband.mousemove('motion_notify', mouse_event_fn);\n",
       "\n",
       "    rubberband.mouseenter('figure_enter', mouse_event_fn);\n",
       "    rubberband.mouseleave('figure_leave', mouse_event_fn);\n",
       "\n",
       "    canvas_div.on(\"wheel\", function (event) {\n",
       "        event = event.originalEvent;\n",
       "        event['data'] = 'scroll'\n",
       "        if (event.deltaY < 0) {\n",
       "            event.step = 1;\n",
       "        } else {\n",
       "            event.step = -1;\n",
       "        }\n",
       "        mouse_event_fn(event);\n",
       "    });\n",
       "\n",
       "    canvas_div.append(canvas);\n",
       "    canvas_div.append(rubberband);\n",
       "\n",
       "    this.rubberband = rubberband;\n",
       "    this.rubberband_canvas = rubberband[0];\n",
       "    this.rubberband_context = rubberband[0].getContext(\"2d\");\n",
       "    this.rubberband_context.strokeStyle = \"#000000\";\n",
       "\n",
       "    this._resize_canvas = function(width, height) {\n",
       "        // Keep the size of the canvas, canvas container, and rubber band\n",
       "        // canvas in synch.\n",
       "        canvas_div.css('width', width)\n",
       "        canvas_div.css('height', height)\n",
       "\n",
       "        canvas.attr('width', width * mpl.ratio);\n",
       "        canvas.attr('height', height * mpl.ratio);\n",
       "        canvas.attr('style', 'width: ' + width + 'px; height: ' + height + 'px;');\n",
       "\n",
       "        rubberband.attr('width', width);\n",
       "        rubberband.attr('height', height);\n",
       "    }\n",
       "\n",
       "    // Set the figure to an initial 600x600px, this will subsequently be updated\n",
       "    // upon first draw.\n",
       "    this._resize_canvas(600, 600);\n",
       "\n",
       "    // Disable right mouse context menu.\n",
       "    $(this.rubberband_canvas).bind(\"contextmenu\",function(e){\n",
       "        return false;\n",
       "    });\n",
       "\n",
       "    function set_focus () {\n",
       "        canvas.focus();\n",
       "        canvas_div.focus();\n",
       "    }\n",
       "\n",
       "    window.setTimeout(set_focus, 100);\n",
       "}\n",
       "\n",
       "mpl.figure.prototype._init_toolbar = function() {\n",
       "    var fig = this;\n",
       "\n",
       "    var nav_element = $('<div/>')\n",
       "    nav_element.attr('style', 'width: 100%');\n",
       "    this.root.append(nav_element);\n",
       "\n",
       "    // Define a callback function for later on.\n",
       "    function toolbar_event(event) {\n",
       "        return fig.toolbar_button_onclick(event['data']);\n",
       "    }\n",
       "    function toolbar_mouse_event(event) {\n",
       "        return fig.toolbar_button_onmouseover(event['data']);\n",
       "    }\n",
       "\n",
       "    for(var toolbar_ind in mpl.toolbar_items) {\n",
       "        var name = mpl.toolbar_items[toolbar_ind][0];\n",
       "        var tooltip = mpl.toolbar_items[toolbar_ind][1];\n",
       "        var image = mpl.toolbar_items[toolbar_ind][2];\n",
       "        var method_name = mpl.toolbar_items[toolbar_ind][3];\n",
       "\n",
       "        if (!name) {\n",
       "            // put a spacer in here.\n",
       "            continue;\n",
       "        }\n",
       "        var button = $('<button/>');\n",
       "        button.addClass('ui-button ui-widget ui-state-default ui-corner-all ' +\n",
       "                        'ui-button-icon-only');\n",
       "        button.attr('role', 'button');\n",
       "        button.attr('aria-disabled', 'false');\n",
       "        button.click(method_name, toolbar_event);\n",
       "        button.mouseover(tooltip, toolbar_mouse_event);\n",
       "\n",
       "        var icon_img = $('<span/>');\n",
       "        icon_img.addClass('ui-button-icon-primary ui-icon');\n",
       "        icon_img.addClass(image);\n",
       "        icon_img.addClass('ui-corner-all');\n",
       "\n",
       "        var tooltip_span = $('<span/>');\n",
       "        tooltip_span.addClass('ui-button-text');\n",
       "        tooltip_span.html(tooltip);\n",
       "\n",
       "        button.append(icon_img);\n",
       "        button.append(tooltip_span);\n",
       "\n",
       "        nav_element.append(button);\n",
       "    }\n",
       "\n",
       "    var fmt_picker_span = $('<span/>');\n",
       "\n",
       "    var fmt_picker = $('<select/>');\n",
       "    fmt_picker.addClass('mpl-toolbar-option ui-widget ui-widget-content');\n",
       "    fmt_picker_span.append(fmt_picker);\n",
       "    nav_element.append(fmt_picker_span);\n",
       "    this.format_dropdown = fmt_picker[0];\n",
       "\n",
       "    for (var ind in mpl.extensions) {\n",
       "        var fmt = mpl.extensions[ind];\n",
       "        var option = $(\n",
       "            '<option/>', {selected: fmt === mpl.default_extension}).html(fmt);\n",
       "        fmt_picker.append(option)\n",
       "    }\n",
       "\n",
       "    // Add hover states to the ui-buttons\n",
       "    $( \".ui-button\" ).hover(\n",
       "        function() { $(this).addClass(\"ui-state-hover\");},\n",
       "        function() { $(this).removeClass(\"ui-state-hover\");}\n",
       "    );\n",
       "\n",
       "    var status_bar = $('<span class=\"mpl-message\"/>');\n",
       "    nav_element.append(status_bar);\n",
       "    this.message = status_bar[0];\n",
       "}\n",
       "\n",
       "mpl.figure.prototype.request_resize = function(x_pixels, y_pixels) {\n",
       "    // Request matplotlib to resize the figure. Matplotlib will then trigger a resize in the client,\n",
       "    // which will in turn request a refresh of the image.\n",
       "    this.send_message('resize', {'width': x_pixels, 'height': y_pixels});\n",
       "}\n",
       "\n",
       "mpl.figure.prototype.send_message = function(type, properties) {\n",
       "    properties['type'] = type;\n",
       "    properties['figure_id'] = this.id;\n",
       "    this.ws.send(JSON.stringify(properties));\n",
       "}\n",
       "\n",
       "mpl.figure.prototype.send_draw_message = function() {\n",
       "    if (!this.waiting) {\n",
       "        this.waiting = true;\n",
       "        this.ws.send(JSON.stringify({type: \"draw\", figure_id: this.id}));\n",
       "    }\n",
       "}\n",
       "\n",
       "\n",
       "mpl.figure.prototype.handle_save = function(fig, msg) {\n",
       "    var format_dropdown = fig.format_dropdown;\n",
       "    var format = format_dropdown.options[format_dropdown.selectedIndex].value;\n",
       "    fig.ondownload(fig, format);\n",
       "}\n",
       "\n",
       "\n",
       "mpl.figure.prototype.handle_resize = function(fig, msg) {\n",
       "    var size = msg['size'];\n",
       "    if (size[0] != fig.canvas.width || size[1] != fig.canvas.height) {\n",
       "        fig._resize_canvas(size[0], size[1]);\n",
       "        fig.send_message(\"refresh\", {});\n",
       "    };\n",
       "}\n",
       "\n",
       "mpl.figure.prototype.handle_rubberband = function(fig, msg) {\n",
       "    var x0 = msg['x0'] / mpl.ratio;\n",
       "    var y0 = (fig.canvas.height - msg['y0']) / mpl.ratio;\n",
       "    var x1 = msg['x1'] / mpl.ratio;\n",
       "    var y1 = (fig.canvas.height - msg['y1']) / mpl.ratio;\n",
       "    x0 = Math.floor(x0) + 0.5;\n",
       "    y0 = Math.floor(y0) + 0.5;\n",
       "    x1 = Math.floor(x1) + 0.5;\n",
       "    y1 = Math.floor(y1) + 0.5;\n",
       "    var min_x = Math.min(x0, x1);\n",
       "    var min_y = Math.min(y0, y1);\n",
       "    var width = Math.abs(x1 - x0);\n",
       "    var height = Math.abs(y1 - y0);\n",
       "\n",
       "    fig.rubberband_context.clearRect(\n",
       "        0, 0, fig.canvas.width, fig.canvas.height);\n",
       "\n",
       "    fig.rubberband_context.strokeRect(min_x, min_y, width, height);\n",
       "}\n",
       "\n",
       "mpl.figure.prototype.handle_figure_label = function(fig, msg) {\n",
       "    // Updates the figure title.\n",
       "    fig.header.textContent = msg['label'];\n",
       "}\n",
       "\n",
       "mpl.figure.prototype.handle_cursor = function(fig, msg) {\n",
       "    var cursor = msg['cursor'];\n",
       "    switch(cursor)\n",
       "    {\n",
       "    case 0:\n",
       "        cursor = 'pointer';\n",
       "        break;\n",
       "    case 1:\n",
       "        cursor = 'default';\n",
       "        break;\n",
       "    case 2:\n",
       "        cursor = 'crosshair';\n",
       "        break;\n",
       "    case 3:\n",
       "        cursor = 'move';\n",
       "        break;\n",
       "    }\n",
       "    fig.rubberband_canvas.style.cursor = cursor;\n",
       "}\n",
       "\n",
       "mpl.figure.prototype.handle_message = function(fig, msg) {\n",
       "    fig.message.textContent = msg['message'];\n",
       "}\n",
       "\n",
       "mpl.figure.prototype.handle_draw = function(fig, msg) {\n",
       "    // Request the server to send over a new figure.\n",
       "    fig.send_draw_message();\n",
       "}\n",
       "\n",
       "mpl.figure.prototype.handle_image_mode = function(fig, msg) {\n",
       "    fig.image_mode = msg['mode'];\n",
       "}\n",
       "\n",
       "mpl.figure.prototype.updated_canvas_event = function() {\n",
       "    // Called whenever the canvas gets updated.\n",
       "    this.send_message(\"ack\", {});\n",
       "}\n",
       "\n",
       "// A function to construct a web socket function for onmessage handling.\n",
       "// Called in the figure constructor.\n",
       "mpl.figure.prototype._make_on_message_function = function(fig) {\n",
       "    return function socket_on_message(evt) {\n",
       "        if (evt.data instanceof Blob) {\n",
       "            /* FIXME: We get \"Resource interpreted as Image but\n",
       "             * transferred with MIME type text/plain:\" errors on\n",
       "             * Chrome.  But how to set the MIME type?  It doesn't seem\n",
       "             * to be part of the websocket stream */\n",
       "            evt.data.type = \"image/png\";\n",
       "\n",
       "            /* Free the memory for the previous frames */\n",
       "            if (fig.imageObj.src) {\n",
       "                (window.URL || window.webkitURL).revokeObjectURL(\n",
       "                    fig.imageObj.src);\n",
       "            }\n",
       "\n",
       "            fig.imageObj.src = (window.URL || window.webkitURL).createObjectURL(\n",
       "                evt.data);\n",
       "            fig.updated_canvas_event();\n",
       "            fig.waiting = false;\n",
       "            return;\n",
       "        }\n",
       "        else if (typeof evt.data === 'string' && evt.data.slice(0, 21) == \"data:image/png;base64\") {\n",
       "            fig.imageObj.src = evt.data;\n",
       "            fig.updated_canvas_event();\n",
       "            fig.waiting = false;\n",
       "            return;\n",
       "        }\n",
       "\n",
       "        var msg = JSON.parse(evt.data);\n",
       "        var msg_type = msg['type'];\n",
       "\n",
       "        // Call the  \"handle_{type}\" callback, which takes\n",
       "        // the figure and JSON message as its only arguments.\n",
       "        try {\n",
       "            var callback = fig[\"handle_\" + msg_type];\n",
       "        } catch (e) {\n",
       "            console.log(\"No handler for the '\" + msg_type + \"' message type: \", msg);\n",
       "            return;\n",
       "        }\n",
       "\n",
       "        if (callback) {\n",
       "            try {\n",
       "                // console.log(\"Handling '\" + msg_type + \"' message: \", msg);\n",
       "                callback(fig, msg);\n",
       "            } catch (e) {\n",
       "                console.log(\"Exception inside the 'handler_\" + msg_type + \"' callback:\", e, e.stack, msg);\n",
       "            }\n",
       "        }\n",
       "    };\n",
       "}\n",
       "\n",
       "// from http://stackoverflow.com/questions/1114465/getting-mouse-location-in-canvas\n",
       "mpl.findpos = function(e) {\n",
       "    //this section is from http://www.quirksmode.org/js/events_properties.html\n",
       "    var targ;\n",
       "    if (!e)\n",
       "        e = window.event;\n",
       "    if (e.target)\n",
       "        targ = e.target;\n",
       "    else if (e.srcElement)\n",
       "        targ = e.srcElement;\n",
       "    if (targ.nodeType == 3) // defeat Safari bug\n",
       "        targ = targ.parentNode;\n",
       "\n",
       "    // jQuery normalizes the pageX and pageY\n",
       "    // pageX,Y are the mouse positions relative to the document\n",
       "    // offset() returns the position of the element relative to the document\n",
       "    var x = e.pageX - $(targ).offset().left;\n",
       "    var y = e.pageY - $(targ).offset().top;\n",
       "\n",
       "    return {\"x\": x, \"y\": y};\n",
       "};\n",
       "\n",
       "/*\n",
       " * return a copy of an object with only non-object keys\n",
       " * we need this to avoid circular references\n",
       " * http://stackoverflow.com/a/24161582/3208463\n",
       " */\n",
       "function simpleKeys (original) {\n",
       "  return Object.keys(original).reduce(function (obj, key) {\n",
       "    if (typeof original[key] !== 'object')\n",
       "        obj[key] = original[key]\n",
       "    return obj;\n",
       "  }, {});\n",
       "}\n",
       "\n",
       "mpl.figure.prototype.mouse_event = function(event, name) {\n",
       "    var canvas_pos = mpl.findpos(event)\n",
       "\n",
       "    if (name === 'button_press')\n",
       "    {\n",
       "        this.canvas.focus();\n",
       "        this.canvas_div.focus();\n",
       "    }\n",
       "\n",
       "    var x = canvas_pos.x * mpl.ratio;\n",
       "    var y = canvas_pos.y * mpl.ratio;\n",
       "\n",
       "    this.send_message(name, {x: x, y: y, button: event.button,\n",
       "                             step: event.step,\n",
       "                             guiEvent: simpleKeys(event)});\n",
       "\n",
       "    /* This prevents the web browser from automatically changing to\n",
       "     * the text insertion cursor when the button is pressed.  We want\n",
       "     * to control all of the cursor setting manually through the\n",
       "     * 'cursor' event from matplotlib */\n",
       "    event.preventDefault();\n",
       "    return false;\n",
       "}\n",
       "\n",
       "mpl.figure.prototype._key_event_extra = function(event, name) {\n",
       "    // Handle any extra behaviour associated with a key event\n",
       "}\n",
       "\n",
       "mpl.figure.prototype.key_event = function(event, name) {\n",
       "\n",
       "    // Prevent repeat events\n",
       "    if (name == 'key_press')\n",
       "    {\n",
       "        if (event.which === this._key)\n",
       "            return;\n",
       "        else\n",
       "            this._key = event.which;\n",
       "    }\n",
       "    if (name == 'key_release')\n",
       "        this._key = null;\n",
       "\n",
       "    var value = '';\n",
       "    if (event.ctrlKey && event.which != 17)\n",
       "        value += \"ctrl+\";\n",
       "    if (event.altKey && event.which != 18)\n",
       "        value += \"alt+\";\n",
       "    if (event.shiftKey && event.which != 16)\n",
       "        value += \"shift+\";\n",
       "\n",
       "    value += 'k';\n",
       "    value += event.which.toString();\n",
       "\n",
       "    this._key_event_extra(event, name);\n",
       "\n",
       "    this.send_message(name, {key: value,\n",
       "                             guiEvent: simpleKeys(event)});\n",
       "    return false;\n",
       "}\n",
       "\n",
       "mpl.figure.prototype.toolbar_button_onclick = function(name) {\n",
       "    if (name == 'download') {\n",
       "        this.handle_save(this, null);\n",
       "    } else {\n",
       "        this.send_message(\"toolbar_button\", {name: name});\n",
       "    }\n",
       "};\n",
       "\n",
       "mpl.figure.prototype.toolbar_button_onmouseover = function(tooltip) {\n",
       "    this.message.textContent = tooltip;\n",
       "};\n",
       "mpl.toolbar_items = [[\"Home\", \"Reset original view\", \"fa fa-home icon-home\", \"home\"], [\"Back\", \"Back to  previous view\", \"fa fa-arrow-left icon-arrow-left\", \"back\"], [\"Forward\", \"Forward to next view\", \"fa fa-arrow-right icon-arrow-right\", \"forward\"], [\"\", \"\", \"\", \"\"], [\"Pan\", \"Pan axes with left mouse, zoom with right\", \"fa fa-arrows icon-move\", \"pan\"], [\"Zoom\", \"Zoom to rectangle\", \"fa fa-square-o icon-check-empty\", \"zoom\"], [\"\", \"\", \"\", \"\"], [\"Download\", \"Download plot\", \"fa fa-floppy-o icon-save\", \"download\"]];\n",
       "\n",
       "mpl.extensions = [\"eps\", \"jpeg\", \"pdf\", \"png\", \"ps\", \"raw\", \"svg\", \"tif\"];\n",
       "\n",
       "mpl.default_extension = \"png\";var comm_websocket_adapter = function(comm) {\n",
       "    // Create a \"websocket\"-like object which calls the given IPython comm\n",
       "    // object with the appropriate methods. Currently this is a non binary\n",
       "    // socket, so there is still some room for performance tuning.\n",
       "    var ws = {};\n",
       "\n",
       "    ws.close = function() {\n",
       "        comm.close()\n",
       "    };\n",
       "    ws.send = function(m) {\n",
       "        //console.log('sending', m);\n",
       "        comm.send(m);\n",
       "    };\n",
       "    // Register the callback with on_msg.\n",
       "    comm.on_msg(function(msg) {\n",
       "        //console.log('receiving', msg['content']['data'], msg);\n",
       "        // Pass the mpl event to the overriden (by mpl) onmessage function.\n",
       "        ws.onmessage(msg['content']['data'])\n",
       "    });\n",
       "    return ws;\n",
       "}\n",
       "\n",
       "mpl.mpl_figure_comm = function(comm, msg) {\n",
       "    // This is the function which gets called when the mpl process\n",
       "    // starts-up an IPython Comm through the \"matplotlib\" channel.\n",
       "\n",
       "    var id = msg.content.data.id;\n",
       "    // Get hold of the div created by the display call when the Comm\n",
       "    // socket was opened in Python.\n",
       "    var element = $(\"#\" + id);\n",
       "    var ws_proxy = comm_websocket_adapter(comm)\n",
       "\n",
       "    function ondownload(figure, format) {\n",
       "        window.open(figure.imageObj.src);\n",
       "    }\n",
       "\n",
       "    var fig = new mpl.figure(id, ws_proxy,\n",
       "                           ondownload,\n",
       "                           element.get(0));\n",
       "\n",
       "    // Call onopen now - mpl needs it, as it is assuming we've passed it a real\n",
       "    // web socket which is closed, not our websocket->open comm proxy.\n",
       "    ws_proxy.onopen();\n",
       "\n",
       "    fig.parent_element = element.get(0);\n",
       "    fig.cell_info = mpl.find_output_cell(\"<div id='\" + id + \"'></div>\");\n",
       "    if (!fig.cell_info) {\n",
       "        console.error(\"Failed to find cell for figure\", id, fig);\n",
       "        return;\n",
       "    }\n",
       "\n",
       "    var output_index = fig.cell_info[2]\n",
       "    var cell = fig.cell_info[0];\n",
       "\n",
       "};\n",
       "\n",
       "mpl.figure.prototype.handle_close = function(fig, msg) {\n",
       "    var width = fig.canvas.width/mpl.ratio\n",
       "    fig.root.unbind('remove')\n",
       "\n",
       "    // Update the output cell to use the data from the current canvas.\n",
       "    fig.push_to_output();\n",
       "    var dataURL = fig.canvas.toDataURL();\n",
       "    // Re-enable the keyboard manager in IPython - without this line, in FF,\n",
       "    // the notebook keyboard shortcuts fail.\n",
       "    IPython.keyboard_manager.enable()\n",
       "    $(fig.parent_element).html('<img src=\"' + dataURL + '\" width=\"' + width + '\">');\n",
       "    fig.close_ws(fig, msg);\n",
       "}\n",
       "\n",
       "mpl.figure.prototype.close_ws = function(fig, msg){\n",
       "    fig.send_message('closing', msg);\n",
       "    // fig.ws.close()\n",
       "}\n",
       "\n",
       "mpl.figure.prototype.push_to_output = function(remove_interactive) {\n",
       "    // Turn the data on the canvas into data in the output cell.\n",
       "    var width = this.canvas.width/mpl.ratio\n",
       "    var dataURL = this.canvas.toDataURL();\n",
       "    this.cell_info[1]['text/html'] = '<img src=\"' + dataURL + '\" width=\"' + width + '\">';\n",
       "}\n",
       "\n",
       "mpl.figure.prototype.updated_canvas_event = function() {\n",
       "    // Tell IPython that the notebook contents must change.\n",
       "    IPython.notebook.set_dirty(true);\n",
       "    this.send_message(\"ack\", {});\n",
       "    var fig = this;\n",
       "    // Wait a second, then push the new image to the DOM so\n",
       "    // that it is saved nicely (might be nice to debounce this).\n",
       "    setTimeout(function () { fig.push_to_output() }, 1000);\n",
       "}\n",
       "\n",
       "mpl.figure.prototype._init_toolbar = function() {\n",
       "    var fig = this;\n",
       "\n",
       "    var nav_element = $('<div/>')\n",
       "    nav_element.attr('style', 'width: 100%');\n",
       "    this.root.append(nav_element);\n",
       "\n",
       "    // Define a callback function for later on.\n",
       "    function toolbar_event(event) {\n",
       "        return fig.toolbar_button_onclick(event['data']);\n",
       "    }\n",
       "    function toolbar_mouse_event(event) {\n",
       "        return fig.toolbar_button_onmouseover(event['data']);\n",
       "    }\n",
       "\n",
       "    for(var toolbar_ind in mpl.toolbar_items){\n",
       "        var name = mpl.toolbar_items[toolbar_ind][0];\n",
       "        var tooltip = mpl.toolbar_items[toolbar_ind][1];\n",
       "        var image = mpl.toolbar_items[toolbar_ind][2];\n",
       "        var method_name = mpl.toolbar_items[toolbar_ind][3];\n",
       "\n",
       "        if (!name) { continue; };\n",
       "\n",
       "        var button = $('<button class=\"btn btn-default\" href=\"#\" title=\"' + name + '\"><i class=\"fa ' + image + ' fa-lg\"></i></button>');\n",
       "        button.click(method_name, toolbar_event);\n",
       "        button.mouseover(tooltip, toolbar_mouse_event);\n",
       "        nav_element.append(button);\n",
       "    }\n",
       "\n",
       "    // Add the status bar.\n",
       "    var status_bar = $('<span class=\"mpl-message\" style=\"text-align:right; float: right;\"/>');\n",
       "    nav_element.append(status_bar);\n",
       "    this.message = status_bar[0];\n",
       "\n",
       "    // Add the close button to the window.\n",
       "    var buttongrp = $('<div class=\"btn-group inline pull-right\"></div>');\n",
       "    var button = $('<button class=\"btn btn-mini btn-primary\" href=\"#\" title=\"Stop Interaction\"><i class=\"fa fa-power-off icon-remove icon-large\"></i></button>');\n",
       "    button.click(function (evt) { fig.handle_close(fig, {}); } );\n",
       "    button.mouseover('Stop Interaction', toolbar_mouse_event);\n",
       "    buttongrp.append(button);\n",
       "    var titlebar = this.root.find($('.ui-dialog-titlebar'));\n",
       "    titlebar.prepend(buttongrp);\n",
       "}\n",
       "\n",
       "mpl.figure.prototype._root_extra_style = function(el){\n",
       "    var fig = this\n",
       "    el.on(\"remove\", function(){\n",
       "\tfig.close_ws(fig, {});\n",
       "    });\n",
       "}\n",
       "\n",
       "mpl.figure.prototype._canvas_extra_style = function(el){\n",
       "    // this is important to make the div 'focusable\n",
       "    el.attr('tabindex', 0)\n",
       "    // reach out to IPython and tell the keyboard manager to turn it's self\n",
       "    // off when our div gets focus\n",
       "\n",
       "    // location in version 3\n",
       "    if (IPython.notebook.keyboard_manager) {\n",
       "        IPython.notebook.keyboard_manager.register_events(el);\n",
       "    }\n",
       "    else {\n",
       "        // location in version 2\n",
       "        IPython.keyboard_manager.register_events(el);\n",
       "    }\n",
       "\n",
       "}\n",
       "\n",
       "mpl.figure.prototype._key_event_extra = function(event, name) {\n",
       "    var manager = IPython.notebook.keyboard_manager;\n",
       "    if (!manager)\n",
       "        manager = IPython.keyboard_manager;\n",
       "\n",
       "    // Check for shift+enter\n",
       "    if (event.shiftKey && event.which == 13) {\n",
       "        this.canvas_div.blur();\n",
       "        event.shiftKey = false;\n",
       "        // Send a \"J\" for go to next cell\n",
       "        event.which = 74;\n",
       "        event.keyCode = 74;\n",
       "        manager.command_mode();\n",
       "        manager.handle_keydown(event);\n",
       "    }\n",
       "}\n",
       "\n",
       "mpl.figure.prototype.handle_save = function(fig, msg) {\n",
       "    fig.ondownload(fig, null);\n",
       "}\n",
       "\n",
       "\n",
       "mpl.find_output_cell = function(html_output) {\n",
       "    // Return the cell and output element which can be found *uniquely* in the notebook.\n",
       "    // Note - this is a bit hacky, but it is done because the \"notebook_saving.Notebook\"\n",
       "    // IPython event is triggered only after the cells have been serialised, which for\n",
       "    // our purposes (turning an active figure into a static one), is too late.\n",
       "    var cells = IPython.notebook.get_cells();\n",
       "    var ncells = cells.length;\n",
       "    for (var i=0; i<ncells; i++) {\n",
       "        var cell = cells[i];\n",
       "        if (cell.cell_type === 'code'){\n",
       "            for (var j=0; j<cell.output_area.outputs.length; j++) {\n",
       "                var data = cell.output_area.outputs[j];\n",
       "                if (data.data) {\n",
       "                    // IPython >= 3 moved mimebundle to data attribute of output\n",
       "                    data = data.data;\n",
       "                }\n",
       "                if (data['text/html'] == html_output) {\n",
       "                    return [cell, data, j];\n",
       "                }\n",
       "            }\n",
       "        }\n",
       "    }\n",
       "}\n",
       "\n",
       "// Register the function which deals with the matplotlib target/channel.\n",
       "// The kernel may be null if the page has been refreshed.\n",
       "if (IPython.notebook.kernel != null) {\n",
       "    IPython.notebook.kernel.comm_manager.register_target('matplotlib', mpl.mpl_figure_comm);\n",
       "}\n"
      ],
      "text/plain": [
       "<IPython.core.display.Javascript object>"
      ]
     },
     "metadata": {},
     "output_type": "display_data"
    },
    {
     "data": {
      "text/html": [
       "<img src=\"data:image/png;base64,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\" width=\"600\">"
      ],
      "text/plain": [
       "<IPython.core.display.HTML object>"
      ]
     },
     "metadata": {},
     "output_type": "display_data"
    }
   ],
   "source": [
    "from backstage import eigenvectors_plot_3d\n",
    "\n",
    "if pdfshowOption['mini'] is True:\n",
    "    # STILL IMAGE:\n",
    "    %matplotlib inline\n",
    "else:\n",
    "    # INTERACTIVE VERSION:\n",
    "    %matplotlib notebook\n",
    "    %matplotlib notebook\n",
    "    %matplotlib notebook\n",
    "    # Why repeat three times?\n",
    "    # This is a bug of ipynb:\n",
    "    # ... see: <stackoverflow.com/a/41251483>\n",
    "    # ... and: <github.com/jupyter/notebook/issues/473>\n",
    "    # If still, nothing shows up,\n",
    "    # ... just use `%matplotlib inline` (less fun).\n",
    "\n",
    "eigenvectors_plot_3d(f'csv/lattice_length{length_N}.csv')"
   ]
  },
  {
   "cell_type": "markdown",
   "metadata": {},
   "source": [
    "可见本征矢量落在 $\\lambda_{\\max}$ 对应的二维子空间中，且其方向的确基本上是任意的。\n",
    "\n",
    "综上，幂次法在 $\\abs{\\lambda}_{\\max}$ 严格最大的情况下是很好用的；若 $\\abs{\\lambda}_{\\max}$ 并非严格最大，则幂次法的收敛性没有保障。然而，通过重取迭代起点、多次实验，往往也能得到丰富的信息（只是此时应恰当设计程序以避免卡死）。"
   ]
  },
  {
   "cell_type": "code",
   "execution_count": 25,
   "metadata": {},
   "outputs": [
    {
     "data": {
      "application/javascript": [
       "IPython.notebook.save_notebook()"
      ],
      "text/plain": [
       "<IPython.core.display.Javascript object>"
      ]
     },
     "metadata": {},
     "output_type": "display_data"
    },
    {
     "name": "stderr",
     "output_type": "stream",
     "text": [
      "[NbConvertApp] Converting notebook ex3.ipynb to script\n"
     ]
    }
   ],
   "source": [
    "goodbye('ex3')"
   ]
  }
 ],
 "metadata": {
  "kernelspec": {
   "display_name": "Python 3",
   "language": "python",
   "name": "python3"
  },
  "language_info": {
   "codemirror_mode": {
    "name": "ipython",
    "version": 3
   },
   "file_extension": ".py",
   "mimetype": "text/x-python",
   "name": "python",
   "nbconvert_exporter": "python",
   "pygments_lexer": "ipython3",
   "version": "3.6.4"
  }
 },
 "nbformat": 4,
 "nbformat_minor": 2
}
