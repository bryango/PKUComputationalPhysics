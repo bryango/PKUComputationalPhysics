{
 "cells": [
  {
   "cell_type": "code",
   "execution_count": 1,
   "metadata": {},
   "outputs": [
    {
     "data": {
      "application/javascript": [
       "\n",
       "//// full url\n",
       "function full_url(relative_url) {\n",
       "    var link = document.createElement(\"a\");\n",
       "    link.href = relative_url;\n",
       "    return (link.protocol+\"//\"+link.host+link.pathname+link.search+link.hash);\n",
       "}\n",
       "var root_url = full_url('/')\n",
       "\n",
       "//// `files` url\n",
       "function files_url(relative_url) {\n",
       "    var relative_to_root = full_url(relative_url).replace(\n",
       "        root_url, ''\n",
       "    ).replace(\n",
       "        'notebooks', 'files'\n",
       "    );\n",
       "    return (root_url + relative_to_root);\n",
       "}\n",
       "\n",
       "//// Get notebook `/files/` url\n",
       "var command = ('pdfshowOption[\"notebook_url\"] = notebook_files = \"'\n",
       "    + files_url('./') + '\"');\n",
       "IPython.notebook.kernel.execute(command);\n",
       "\n",
       "//// Always expand output area (legacy but powerful hack)\n",
       "require(\n",
       "    [\"notebook/js/outputarea\"],\n",
       "    function (oa) {\n",
       "        oa.OutputArea.prototype._should_scroll = function(lines) {\n",
       "            return false;\n",
       "        }\n",
       "    }\n",
       ");\n",
       "\n",
       "//// Setting auto_scroll_threshold to -1 (latest but not as good)\n",
       "require(\n",
       "    [\"notebook/js/outputarea\"],\n",
       "    function (oa) {\n",
       "        oa.OutputArea.auto_scroll_threshold = -1;\n",
       "    }\n",
       ");\n",
       "\n",
       "//// Bonus: inline highlighting with code-prettify\n",
       "$([IPython.events]).on(\"rendered.MarkdownCell\", function () {\n",
       "    PR.prettyPrint();\n",
       "});\n",
       "\n",
       "//// Auto-save whenever output is generated\n",
       "$([IPython.events]).on(\"output_appended.OutputArea\", function () {\n",
       "    IPython.notebook.save_notebook();\n",
       "});\n"
      ],
      "text/plain": [
       "<IPython.core.display.Javascript object>"
      ]
     },
     "metadata": {},
     "output_type": "display_data"
    },
    {
     "data": {
      "text/markdown": [
       "$\\newcommand{\\mbb}[1]{\\mathbb{#1}}\n",
       "\\newcommand{\\mrm}[1]{\\mathrm{#1}}\n",
       "\\newcommand{\\mcal}[1]{\\mathcal{#1}}\n",
       "\\newcommand{\\tup}[1]{\\textup{#1}}\n",
       "\\newcommand{\\idty}{\\mathds{1}}\n",
       "%Specials\n",
       "\\newcommand{\\hodgedual}{\\operatorname{\\star}}\n",
       "\\newcommand{\\dual}{\\ \\xlongleftrightarrow{\\ \\textrm{dual}\\ }\\ }\n",
       "\\newcommand{\\abs}[1]{\\left|#1\\right|}\n",
       "\\newcommand{\\norm}[1]{\\left\\|#1\\right\\|}\n",
       "\\newcommand{\\pqty}[1]{\\left(#1\\right)}\n",
       "\\renewcommand{\\idty}{\\mathbf{1}}\n",
       "$`< Utilities initialized >`\n",
       "```python\n",
       "matplotlib_notebook, display_whitespace, clear_output, InlinePager, show_docstring, get_methods, goodbye```"
      ],
      "text/plain": [
       "<IPython.core.display.Markdown object>"
      ]
     },
     "metadata": {},
     "output_type": "display_data"
    },
    {
     "data": {
      "text/html": [
       "\n",
       "        <link rel=\"stylesheet\" type=\"text/css\"\n",
       "            href=\"assets/code-prettify/codestyle.css\">\n",
       "        <script type=\"text/javascript\"\n",
       "            src=\"assets/code-prettify/google-code-prettify/run_prettify.js\">\n",
       "        </script>\n",
       "        <style>\n",
       "            img.inline_img {\n",
       "                display: unset;\n",
       "                margin-top: unset;\n",
       "            }\n",
       "            .MathJax_Display {\n",
       "                margin: 6px;\n",
       "            }\n",
       "            .dataframe td {\n",
       "                white-space: nowrap;\n",
       "            }\n",
       "        </style>\n",
       "        <script src=\"assets/frame_loaded.js\"></script>"
      ],
      "text/plain": [
       "<IPython.core.display.HTML object>"
      ]
     },
     "metadata": {},
     "output_type": "display_data"
    }
   ],
   "source": [
    "from assets.specs import startupOption, pdfshowOption\n",
    "from assets.pdfshow import pdfGet\n",
    "from assets.startup import initialize\n",
    "pdfshowOption['mini'] = False\n",
    "startupOption['debug'] = True\n",
    "initialize()"
   ]
  },
  {
   "cell_type": "markdown",
   "metadata": {},
   "source": [
    "### README\n",
    "> 姓名：Bryan &nbsp;&nbsp; 学号：1500066666\n",
    ">\n",
    "> ** 请首先阅读该目录下的 `README.md` 文档！** <br/>\n",
    "> ** 完整运行本文档需要大概半分多钟！ **\n",
    ">\n",
    "> 助教老师好～ 本人不用 `\\usepackage` 无法生存 <img class=\"inline_img\" src=\"https://bryango.github.io/assets/coolemoji/d_erha.png\" width=\"24px\" />, 但又难以拒绝 jupyter 的交互式环境，于是捣鼓出了一个解决方案：先用 (Xe) $\\mathrm{\\LaTeX}$ 编译成 PDF, 再用 [PDF.js](https://github.com/mozilla/pdf.js/) 嵌入到此文档当中。**若想运行文档中的代码，务必先 `restart & run all` 一下**。相应的实现过程与格式优化置于 `assets/` 目录内，不属于作业的核心内容。\n",
    ">\n",
    "> 若 PDF.js 不能正常调用，可以尝试 mini 模式；只需将初始化单元中的 `mini` 选项改为 `True` 即可：\n",
    "```python\n",
    "pdfshow_option['mini'] = True\n",
    "```\n",
    "此时 PDF 将由浏览器的内置阅读器打开。这样显示的 PDF 将被限制在一定高度的输出框内，无法展开；`exN_mini.html` 即在此模式下生成。\n",
    "此外，文中的理论分析整合为文档：[`document.pdf`](latex/document.pdf), 便于打印、独立阅读。\n",
    ">\n",
    "> ----------------\n",
    "> 另外，本次作业中的部分代码与作业核心内容关系紧密，但终究不是重点；这些代码要么来源于前面的作业、要么是函数作图命令（`matplotlib` 的一些操作）等等。它们往往冗长而无趣，故隐于 module 当中；它们位于目录 `pycode/` 之下。\n",
    ">\n",
    "> 核心代码均显示在了文档当中，但实际也多是自成 module, 通过 `some_function??` 显示；这里采用了[一个 hack](http://nbviewer.jupyter.org/gist/minrk/7715212), 使 pager 显示在行内。如果觉得太长碍事，只需将 `some_function??` 注释掉即可。在前面的初始化单元之 `assets.startup` 中，已通过命令：\n",
    "```python\n",
    "sys.path.append('pycode')\n",
    "```\n",
    "将引用目录加入到了 `sys.path` 当中，因此下文中的引用并未出现 `pycode` 前缀。\n",
    ">\n",
    "> ----------------\n",
    "> 此外，本人刚入门 python, js 和 css 也是现学的，上述系统（以及下面的作业）显然还有许多 bug, 如使用 PDF.js 时无法导出 html 文档；此处只得暂时搁置，由此造成的麻烦，本人深表歉意...\n",
    ">\n",
    "> 万分感谢～"
   ]
  },
  {
   "cell_type": "code",
   "execution_count": 2,
   "metadata": {
    "scrolled": true
   },
   "outputs": [
    {
     "data": {
      "text/html": [
       "\n",
       "            <p style=\"font-size: 12px; font-style: italic; \">\n",
       "                See no PDF below?\n",
       "                Go to <a href=\"latex/sections/0.title.pdf\">latex/sections/0.title.pdf</a> directly! </p>\n",
       "            <iframe class=\"PDFframe\"\n",
       "                src='assets/embed.html?file=latex/sections/0.title.pdf'\n",
       "                width=\"100%\" frameborder=\"0\" onload=\"PDFframeLoaded()\" >\n",
       "            </iframe>\n",
       "        "
      ],
      "text/plain": [
       "<IPython.core.display.HTML object>"
      ]
     },
     "metadata": {},
     "output_type": "display_data"
    }
   ],
   "source": [
    "pdfGet('latex/sections/0.title.pdf').show()"
   ]
  },
  {
   "cell_type": "code",
   "execution_count": 3,
   "metadata": {},
   "outputs": [],
   "source": [
    "import numpy as np\n",
    "import pandas as pd\n",
    "import matplotlib.pyplot as plt\n",
    "from IPython.display import display, HTML, Markdown\n",
    "\n",
    "# If u DON'T HAVE LaTeX, change this to `FALSE`!\n",
    "# But it would look much better if u use LaTeX...\n",
    "tex_status = True\n",
    "plt.rc('text', usetex=tex_status)\n",
    "plt.rc('text.latex', unicode=tex_status)\n",
    "pager = InlinePager()\n",
    "pager.truncate((0,-2))"
   ]
  },
  {
   "cell_type": "markdown",
   "metadata": {},
   "source": [
    "## 1. QR 分解\n",
    "下面比较两种 QR 分解方法。首先，理论估计：\n",
    "### (a) QR 分解的算法复杂度"
   ]
  },
  {
   "cell_type": "code",
   "execution_count": 4,
   "metadata": {
    "scrolled": true
   },
   "outputs": [
    {
     "data": {
      "text/html": [
       "\n",
       "            <p style=\"font-size: 12px; font-style: italic; \">\n",
       "                See no PDF below?\n",
       "                Go to <a href=\"latex/sections/1.qr_complexity.pdf\">latex/sections/1.qr_complexity.pdf</a> directly! </p>\n",
       "            <iframe class=\"PDFframe\"\n",
       "                src='assets/embed.html?file=latex/sections/1.qr_complexity.pdf'\n",
       "                width=\"100%\" frameborder=\"0\" onload=\"PDFframeLoaded()\" >\n",
       "            </iframe>\n",
       "        "
      ],
      "text/plain": [
       "<IPython.core.display.HTML object>"
      ]
     },
     "metadata": {},
     "output_type": "display_data"
    }
   ],
   "source": [
    "pdfGet('latex/sections/1.qr_complexity.pdf').show()"
   ]
  },
  {
   "cell_type": "markdown",
   "metadata": {},
   "source": [
    "### (b) Householder 变换法求 QR 分解\n",
    "为实现完整的 Householder 约化，这里首先编写一个子程序，以实现子空间中的 Householder 约化（将矢量 $x$ 的所有分量转移到第一个分量上）："
   ]
  },
  {
   "cell_type": "code",
   "execution_count": 5,
   "metadata": {},
   "outputs": [
    {
     "name": "stdout",
     "output_type": "stream",
     "text": [
      "\u001b[0;31mSource:\u001b[0m\n",
      "\u001b[0;32mdef\u001b[0m \u001b[0mhouseholder_vector\u001b[0m\u001b[0;34m(\u001b[0m\u001b[0minput_vector\u001b[0m\u001b[0;34m:\u001b[0m \u001b[0mlist\u001b[0m\u001b[0;34m,\u001b[0m \u001b[0mround_accuracy\u001b[0m\u001b[0;34m=\u001b[0m\u001b[0;36m16\u001b[0m\u001b[0;34m)\u001b[0m \\\n",
      "        \u001b[0;34m->\u001b[0m \u001b[0;34m(\u001b[0m\u001b[0mfloat\u001b[0m\u001b[0;34m,\u001b[0m \u001b[0mlist\u001b[0m\u001b[0;34m)\u001b[0m\u001b[0;34m:\u001b[0m\u001b[0;34m\u001b[0m\n",
      "\u001b[0;34m\u001b[0m    \u001b[0;34m\"\"\" Construct aHouseholder reduction,\u001b[0m\n",
      "\u001b[0;34m        which move all components of `input_vector` to its 1st entry;\u001b[0m\n",
      "\u001b[0;34m        :return: Householder vector v (normal vector of reflection) & its norm,\u001b[0m\n",
      "\u001b[0;34m            as in (v_square, v).\u001b[0m\n",
      "\u001b[0;34m    \"\"\"\u001b[0m\u001b[0;34m\u001b[0m\n",
      "\u001b[0;34m\u001b[0m    \u001b[0;31m# Normalize input_vector by inf-norm to prevent overflow; DEEPCOPY\u001b[0m\u001b[0;34m\u001b[0m\n",
      "\u001b[0;34m\u001b[0m    \u001b[0mx_max\u001b[0m \u001b[0;34m=\u001b[0m \u001b[0mmax\u001b[0m\u001b[0;34m(\u001b[0m\u001b[0mmap\u001b[0m\u001b[0;34m(\u001b[0m\u001b[0mabs\u001b[0m\u001b[0;34m,\u001b[0m \u001b[0minput_vector\u001b[0m\u001b[0;34m)\u001b[0m\u001b[0;34m)\u001b[0m\u001b[0;34m\u001b[0m\n",
      "\u001b[0;34m\u001b[0m    \u001b[0mv\u001b[0m \u001b[0;34m=\u001b[0m \u001b[0mlist\u001b[0m\u001b[0;34m(\u001b[0m\u001b[0mmap\u001b[0m\u001b[0;34m(\u001b[0m\u001b[0;32mlambda\u001b[0m \u001b[0mx\u001b[0m\u001b[0;34m:\u001b[0m \u001b[0mx\u001b[0m \u001b[0;34m/\u001b[0m \u001b[0mx_max\u001b[0m\u001b[0;34m,\u001b[0m \u001b[0minput_vector\u001b[0m\u001b[0;34m)\u001b[0m\u001b[0;34m)\u001b[0m\u001b[0;34m\u001b[0m\n",
      "\u001b[0;34m\u001b[0m    \u001b[0;31m# Euclidean norm\u001b[0m\u001b[0;34m\u001b[0m\n",
      "\u001b[0;34m\u001b[0m    \u001b[0mres_square\u001b[0m \u001b[0;34m=\u001b[0m \u001b[0msum\u001b[0m\u001b[0;34m(\u001b[0m\u001b[0mx_i\u001b[0m\u001b[0;34m**\u001b[0m\u001b[0;36m2\u001b[0m \u001b[0;32mfor\u001b[0m \u001b[0mx_i\u001b[0m \u001b[0;32min\u001b[0m \u001b[0mv\u001b[0m\u001b[0;34m[\u001b[0m\u001b[0;36m1\u001b[0m\u001b[0;34m:\u001b[0m\u001b[0;34m]\u001b[0m\u001b[0;34m)\u001b[0m\u001b[0;34m\u001b[0m\n",
      "\u001b[0;34m\u001b[0m    \u001b[0mx_norm\u001b[0m \u001b[0;34m=\u001b[0m \u001b[0msqrt\u001b[0m\u001b[0;34m(\u001b[0m\u001b[0mres_square\u001b[0m \u001b[0;34m+\u001b[0m \u001b[0mv\u001b[0m\u001b[0;34m[\u001b[0m\u001b[0;36m0\u001b[0m\u001b[0;34m]\u001b[0m\u001b[0;34m**\u001b[0m\u001b[0;36m2\u001b[0m\u001b[0;34m)\u001b[0m\u001b[0;34m\u001b[0m\n",
      "\u001b[0;34m\u001b[0m\u001b[0;34m\u001b[0m\n",
      "\u001b[0;34m\u001b[0m    \u001b[0;32mif\u001b[0m \u001b[0mround\u001b[0m\u001b[0;34m(\u001b[0m\u001b[0mres_square\u001b[0m\u001b[0;34m,\u001b[0m \u001b[0mround_accuracy\u001b[0m\u001b[0;34m)\u001b[0m \u001b[0;34m!=\u001b[0m \u001b[0;36m0\u001b[0m\u001b[0;34m:\u001b[0m\u001b[0;34m\u001b[0m\n",
      "\u001b[0;34m\u001b[0m        \u001b[0;32mif\u001b[0m \u001b[0mv\u001b[0m\u001b[0;34m[\u001b[0m\u001b[0;36m0\u001b[0m\u001b[0;34m]\u001b[0m \u001b[0;34m<=\u001b[0m \u001b[0;36m0\u001b[0m\u001b[0;34m:\u001b[0m\u001b[0;34m\u001b[0m\n",
      "\u001b[0;34m\u001b[0m            \u001b[0mv\u001b[0m\u001b[0;34m[\u001b[0m\u001b[0;36m0\u001b[0m\u001b[0;34m]\u001b[0m \u001b[0;34m-=\u001b[0m \u001b[0mx_norm\u001b[0m  \u001b[0;31m# Minus so that end result is positive\u001b[0m\u001b[0;34m\u001b[0m\n",
      "\u001b[0;34m\u001b[0m        \u001b[0;32melse\u001b[0m\u001b[0;34m:\u001b[0m\u001b[0;34m\u001b[0m\n",
      "\u001b[0;34m\u001b[0m            \u001b[0mv\u001b[0m\u001b[0;34m[\u001b[0m\u001b[0;36m0\u001b[0m\u001b[0;34m]\u001b[0m \u001b[0;34m=\u001b[0m \u001b[0;34m-\u001b[0m \u001b[0mres_square\u001b[0m \u001b[0;34m/\u001b[0m \u001b[0;34m(\u001b[0m\u001b[0mv\u001b[0m\u001b[0;34m[\u001b[0m\u001b[0;36m0\u001b[0m\u001b[0;34m]\u001b[0m \u001b[0;34m+\u001b[0m \u001b[0mx_norm\u001b[0m\u001b[0;34m)\u001b[0m  \u001b[0;31m# Better accuracy\u001b[0m\u001b[0;34m\u001b[0m\n",
      "\u001b[0;34m\u001b[0m        \u001b[0mv_square\u001b[0m \u001b[0;34m=\u001b[0m \u001b[0mv\u001b[0m\u001b[0;34m[\u001b[0m\u001b[0;36m0\u001b[0m\u001b[0;34m]\u001b[0m\u001b[0;34m**\u001b[0m\u001b[0;36m2\u001b[0m \u001b[0;34m+\u001b[0m \u001b[0mres_square\u001b[0m\u001b[0;34m\u001b[0m\n",
      "\u001b[0;34m\u001b[0m        \u001b[0;32mreturn\u001b[0m \u001b[0;34m(\u001b[0m\u001b[0mv_square\u001b[0m\u001b[0;34m,\u001b[0m \u001b[0mv\u001b[0m\u001b[0;34m)\u001b[0m\u001b[0;34m\u001b[0m\n",
      "\u001b[0;34m\u001b[0m    \u001b[0;32melse\u001b[0m\u001b[0;34m:\u001b[0m\u001b[0;34m\u001b[0m\n",
      "\u001b[0;34m\u001b[0m        \u001b[0;32mreturn\u001b[0m \u001b[0;34m(\u001b[0m\u001b[0;36m0.\u001b[0m\u001b[0;34m,\u001b[0m \u001b[0;34m[\u001b[0m\u001b[0;36m0.\u001b[0m\u001b[0;34m]\u001b[0m \u001b[0;34m*\u001b[0m \u001b[0mlen\u001b[0m\u001b[0;34m(\u001b[0m\u001b[0mv\u001b[0m\u001b[0;34m)\u001b[0m\u001b[0;34m)\u001b[0m\u001b[0;34m\u001b[0m\u001b[0m\n"
     ]
    }
   ],
   "source": [
    "from toolkit.qrdecomp import householder_vector\n",
    "householder_vector??"
   ]
  },
  {
   "cell_type": "markdown",
   "metadata": {},
   "source": [
    "** 与朴素的 Householder 变换相比，跟据[参考教材](http://www.bookask.com/book/13300.html)， 这里额外进行了一些优化： **\n",
    "* 为避免求模方时发生上、下溢，对 $x$ 按最大分量进行了缩放（注释为 `# Normalize input_vector ... ` , 见上）；\n",
    "* Householder 矢量 $v$ 的选取有一定的自由度；具体而言，$v$ 作为镜面反射的法向量，可选：\n",
    "$$ v = x \\pm \\norm{x}e_0 $$\n",
    "这里统一使 $H = \\idty - 2vv^\\mrm{T}/\\norm{v}^2$ 的作用结果为正，则相应地应取 $v = x - \\norm{x}e_0$ . \n",
    "* 计算 $v = x - \\norm{x}e_0$ 时，还得当心大数相消；对首个分量 $x_0 > 0$, 注意到相应的：\n",
    "$$ v_0 = x_0 - \\norm{x}\n",
    "= \\frac{x_0^2 - \\norm{x}^2}{x_0 + \\norm{x}}\n",
    "= - \\frac{1}{x_0 + \\norm{x}} \\pqty{x_1^2 + x_2^2 + \\cdots}$$\n",
    "这样即可避免大数相消。程序实现时，额外定义了 `res_square` $= \\pqty{x_1^2 + x_2^2 + \\cdots}$, 以避免重复计算。\n",
    "\n",
    "利用这一子程序，可以更为简洁地写出完整的 Householder 约化："
   ]
  },
  {
   "cell_type": "code",
   "execution_count": 6,
   "metadata": {},
   "outputs": [
    {
     "name": "stdout",
     "output_type": "stream",
     "text": [
      "\u001b[0;31mSource:\u001b[0m\n",
      "\u001b[0;32mdef\u001b[0m \u001b[0mqr_householder\u001b[0m\u001b[0;34m(\u001b[0m\u001b[0mmatrix_input\u001b[0m\u001b[0;34m:\u001b[0m \u001b[0mlist\u001b[0m\u001b[0;34m,\u001b[0m\u001b[0;34m\u001b[0m\n",
      "\u001b[0;34m\u001b[0m                   \u001b[0mround_accuracy\u001b[0m\u001b[0;34m=\u001b[0m\u001b[0;36m16\u001b[0m\u001b[0;34m,\u001b[0m\u001b[0;34m\u001b[0m\n",
      "\u001b[0;34m\u001b[0m                   \u001b[0mmatrix_check\u001b[0m\u001b[0;34m=\u001b[0m\u001b[0;34m'notChecked'\u001b[0m\u001b[0;34m)\u001b[0m \u001b[0;34m->\u001b[0m \u001b[0;34m(\u001b[0m\u001b[0mlist\u001b[0m\u001b[0;34m,\u001b[0m \u001b[0mlist\u001b[0m\u001b[0;34m)\u001b[0m\u001b[0;34m:\u001b[0m\u001b[0;34m\u001b[0m\n",
      "\u001b[0;34m\u001b[0m    \u001b[0;34m\"\"\" QR decomposition by Householder;\u001b[0m\n",
      "\u001b[0;34m        :return: Q, R matrices.\u001b[0m\n",
      "\u001b[0;34m    \"\"\"\u001b[0m\u001b[0;34m\u001b[0m\n",
      "\u001b[0;34m\u001b[0m    \u001b[0mr_mat\u001b[0m \u001b[0;34m=\u001b[0m \u001b[0mdeepcopy\u001b[0m\u001b[0;34m(\u001b[0m\u001b[0mmatrix_input\u001b[0m\u001b[0;34m)\u001b[0m\u001b[0;34m\u001b[0m\n",
      "\u001b[0;34m\u001b[0m    \u001b[0mn\u001b[0m \u001b[0;34m=\u001b[0m \u001b[0mmatrix_check_dim\u001b[0m\u001b[0;34m(\u001b[0m\u001b[0mr_mat\u001b[0m\u001b[0;34m,\u001b[0m \u001b[0mcheck\u001b[0m\u001b[0;34m=\u001b[0m\u001b[0mmatrix_check\u001b[0m\u001b[0;34m,\u001b[0m \u001b[0mspec\u001b[0m\u001b[0;34m=\u001b[0m\u001b[0;34m'square'\u001b[0m\u001b[0;34m)\u001b[0m\u001b[0;34m[\u001b[0m\u001b[0;36m0\u001b[0m\u001b[0;34m]\u001b[0m\u001b[0;34m\u001b[0m\n",
      "\u001b[0;34m\u001b[0m\u001b[0;34m\u001b[0m\n",
      "\u001b[0;34m\u001b[0m    \u001b[0mv_list\u001b[0m \u001b[0;34m=\u001b[0m \u001b[0;34m[\u001b[0m\u001b[0;34m]\u001b[0m  \u001b[0;31m# List of Householder vectors, as in (v_square, v)\u001b[0m\u001b[0;34m\u001b[0m\n",
      "\u001b[0;34m\u001b[0m    \u001b[0mq_mat\u001b[0m \u001b[0;34m=\u001b[0m \u001b[0midentity_matrix\u001b[0m\u001b[0;34m(\u001b[0m\u001b[0mn\u001b[0m\u001b[0;34m)\u001b[0m  \u001b[0;31m# Initialize Q as identity matrix\u001b[0m\u001b[0;34m\u001b[0m\n",
      "\u001b[0;34m\u001b[0m\u001b[0;34m\u001b[0m\n",
      "\u001b[0;34m\u001b[0m    \u001b[0;31m# k as column index\u001b[0m\u001b[0;34m\u001b[0m\n",
      "\u001b[0;34m\u001b[0m    \u001b[0;32mfor\u001b[0m \u001b[0mk\u001b[0m \u001b[0;32min\u001b[0m \u001b[0mrange\u001b[0m\u001b[0;34m(\u001b[0m\u001b[0mn\u001b[0m \u001b[0;34m-\u001b[0m \u001b[0;36m1\u001b[0m\u001b[0;34m)\u001b[0m\u001b[0;34m:\u001b[0m\u001b[0;34m\u001b[0m\n",
      "\u001b[0;34m\u001b[0m        \u001b[0;31m# Take diagonal, and elements below\u001b[0m\u001b[0;34m\u001b[0m\n",
      "\u001b[0;34m\u001b[0m        \u001b[0mv_square\u001b[0m\u001b[0;34m,\u001b[0m \u001b[0mv\u001b[0m \u001b[0;34m=\u001b[0m \u001b[0mhouseholder_vector\u001b[0m\u001b[0;34m(\u001b[0m\u001b[0;34m\u001b[0m\n",
      "\u001b[0;34m\u001b[0m            \u001b[0;34m[\u001b[0m \u001b[0mr_i\u001b[0m\u001b[0;34m[\u001b[0m\u001b[0mk\u001b[0m\u001b[0;34m]\u001b[0m \u001b[0;32mfor\u001b[0m \u001b[0mr_i\u001b[0m \u001b[0;32min\u001b[0m \u001b[0mr_mat\u001b[0m\u001b[0;34m[\u001b[0m\u001b[0mk\u001b[0m\u001b[0;34m:\u001b[0m\u001b[0;34m]\u001b[0m \u001b[0;34m]\u001b[0m\u001b[0;34m,\u001b[0m \u001b[0mround_accuracy\u001b[0m\u001b[0;34m\u001b[0m\n",
      "\u001b[0;34m\u001b[0m        \u001b[0;34m)\u001b[0m\u001b[0;34m\u001b[0m\n",
      "\u001b[0;34m\u001b[0m        \u001b[0mv_list\u001b[0m\u001b[0;34m.\u001b[0m\u001b[0mappend\u001b[0m\u001b[0;34m(\u001b[0m\u001b[0;34m(\u001b[0m\u001b[0mv_square\u001b[0m\u001b[0;34m,\u001b[0m \u001b[0mv\u001b[0m\u001b[0;34m)\u001b[0m\u001b[0;34m)\u001b[0m\u001b[0;34m\u001b[0m\n",
      "\u001b[0;34m\u001b[0m\u001b[0;34m\u001b[0m\n",
      "\u001b[0;34m\u001b[0m        \u001b[0mvt_dot_r\u001b[0m \u001b[0;34m=\u001b[0m \u001b[0;34m[\u001b[0m \u001b[0msum\u001b[0m\u001b[0;34m(\u001b[0m\u001b[0mv\u001b[0m\u001b[0;34m[\u001b[0m\u001b[0ml\u001b[0m \u001b[0;34m-\u001b[0m \u001b[0mk\u001b[0m\u001b[0;34m]\u001b[0m \u001b[0;34m*\u001b[0m \u001b[0mr_mat\u001b[0m\u001b[0;34m[\u001b[0m\u001b[0ml\u001b[0m\u001b[0;34m]\u001b[0m\u001b[0;34m[\u001b[0m\u001b[0mj\u001b[0m\u001b[0;34m]\u001b[0m \u001b[0;32mfor\u001b[0m \u001b[0ml\u001b[0m \u001b[0;32min\u001b[0m \u001b[0mrange\u001b[0m\u001b[0;34m(\u001b[0m\u001b[0mk\u001b[0m\u001b[0;34m,\u001b[0m \u001b[0mn\u001b[0m\u001b[0;34m)\u001b[0m\u001b[0;34m)\u001b[0m\u001b[0;34m\u001b[0m\n",
      "\u001b[0;34m\u001b[0m                     \u001b[0;32mfor\u001b[0m \u001b[0mj\u001b[0m \u001b[0;32min\u001b[0m \u001b[0mrange\u001b[0m\u001b[0;34m(\u001b[0m\u001b[0mk\u001b[0m\u001b[0;34m,\u001b[0m \u001b[0mn\u001b[0m\u001b[0;34m)\u001b[0m \u001b[0;34m]\u001b[0m\u001b[0;34m\u001b[0m\n",
      "\u001b[0;34m\u001b[0m        \u001b[0;32mfor\u001b[0m \u001b[0mi\u001b[0m \u001b[0;32min\u001b[0m \u001b[0mrange\u001b[0m\u001b[0;34m(\u001b[0m\u001b[0mk\u001b[0m\u001b[0;34m,\u001b[0m \u001b[0mn\u001b[0m\u001b[0;34m)\u001b[0m\u001b[0;34m:\u001b[0m\u001b[0;34m\u001b[0m\n",
      "\u001b[0;34m\u001b[0m            \u001b[0mcoefficient\u001b[0m \u001b[0;34m=\u001b[0m \u001b[0;36m2\u001b[0m \u001b[0;34m*\u001b[0m \u001b[0mv\u001b[0m\u001b[0;34m[\u001b[0m\u001b[0mi\u001b[0m \u001b[0;34m-\u001b[0m \u001b[0mk\u001b[0m\u001b[0;34m]\u001b[0m \u001b[0;34m/\u001b[0m \u001b[0mv_square\u001b[0m\u001b[0;34m\u001b[0m\n",
      "\u001b[0;34m\u001b[0m            \u001b[0;32mfor\u001b[0m \u001b[0mj\u001b[0m \u001b[0;32min\u001b[0m \u001b[0mrange\u001b[0m\u001b[0;34m(\u001b[0m\u001b[0mk\u001b[0m\u001b[0;34m,\u001b[0m \u001b[0mn\u001b[0m\u001b[0;34m)\u001b[0m\u001b[0;34m:\u001b[0m\u001b[0;34m\u001b[0m\n",
      "\u001b[0;34m\u001b[0m                \u001b[0mr_mat\u001b[0m\u001b[0;34m[\u001b[0m\u001b[0mi\u001b[0m\u001b[0;34m]\u001b[0m\u001b[0;34m[\u001b[0m\u001b[0mj\u001b[0m\u001b[0;34m]\u001b[0m \u001b[0;34m-=\u001b[0m \u001b[0mcoefficient\u001b[0m \u001b[0;34m*\u001b[0m \u001b[0mvt_dot_r\u001b[0m\u001b[0;34m[\u001b[0m\u001b[0mj\u001b[0m \u001b[0;34m-\u001b[0m \u001b[0mk\u001b[0m\u001b[0;34m]\u001b[0m\u001b[0;34m\u001b[0m\n",
      "\u001b[0;34m\u001b[0m\u001b[0;34m\u001b[0m\n",
      "\u001b[0;34m\u001b[0m    \u001b[0;32mfor\u001b[0m \u001b[0mv_square\u001b[0m\u001b[0;34m,\u001b[0m \u001b[0mv\u001b[0m \u001b[0;32min\u001b[0m \u001b[0mreversed\u001b[0m\u001b[0;34m(\u001b[0m\u001b[0mv_list\u001b[0m\u001b[0;34m)\u001b[0m\u001b[0;34m:\u001b[0m\u001b[0;34m\u001b[0m\n",
      "\u001b[0;34m\u001b[0m        \u001b[0mk\u001b[0m \u001b[0;34m=\u001b[0m \u001b[0mn\u001b[0m \u001b[0;34m-\u001b[0m \u001b[0mlen\u001b[0m\u001b[0;34m(\u001b[0m\u001b[0mv\u001b[0m\u001b[0;34m)\u001b[0m\u001b[0;34m\u001b[0m\n",
      "\u001b[0;34m\u001b[0m        \u001b[0mv_dot_q\u001b[0m \u001b[0;34m=\u001b[0m \u001b[0;34m[\u001b[0m \u001b[0msum\u001b[0m\u001b[0;34m(\u001b[0m\u001b[0mv\u001b[0m\u001b[0;34m[\u001b[0m\u001b[0ml\u001b[0m \u001b[0;34m-\u001b[0m \u001b[0mk\u001b[0m\u001b[0;34m]\u001b[0m \u001b[0;34m*\u001b[0m \u001b[0mq_mat\u001b[0m\u001b[0;34m[\u001b[0m\u001b[0ml\u001b[0m\u001b[0;34m]\u001b[0m\u001b[0;34m[\u001b[0m\u001b[0mj\u001b[0m\u001b[0;34m]\u001b[0m \u001b[0;32mfor\u001b[0m \u001b[0ml\u001b[0m \u001b[0;32min\u001b[0m \u001b[0mrange\u001b[0m\u001b[0;34m(\u001b[0m\u001b[0mk\u001b[0m\u001b[0;34m,\u001b[0m \u001b[0mn\u001b[0m\u001b[0;34m)\u001b[0m\u001b[0;34m)\u001b[0m\u001b[0;34m\u001b[0m\n",
      "\u001b[0;34m\u001b[0m                    \u001b[0;32mfor\u001b[0m \u001b[0mj\u001b[0m \u001b[0;32min\u001b[0m \u001b[0mrange\u001b[0m\u001b[0;34m(\u001b[0m\u001b[0mk\u001b[0m\u001b[0;34m,\u001b[0m \u001b[0mn\u001b[0m\u001b[0;34m)\u001b[0m \u001b[0;34m]\u001b[0m\u001b[0;34m\u001b[0m\n",
      "\u001b[0;34m\u001b[0m        \u001b[0;32mfor\u001b[0m \u001b[0mi\u001b[0m \u001b[0;32min\u001b[0m \u001b[0mrange\u001b[0m\u001b[0;34m(\u001b[0m\u001b[0mk\u001b[0m\u001b[0;34m,\u001b[0m \u001b[0mn\u001b[0m\u001b[0;34m)\u001b[0m\u001b[0;34m:\u001b[0m\u001b[0;34m\u001b[0m\n",
      "\u001b[0;34m\u001b[0m            \u001b[0mcoefficient\u001b[0m \u001b[0;34m=\u001b[0m \u001b[0;36m2\u001b[0m \u001b[0;34m*\u001b[0m \u001b[0mv\u001b[0m\u001b[0;34m[\u001b[0m\u001b[0mi\u001b[0m \u001b[0;34m-\u001b[0m \u001b[0mk\u001b[0m\u001b[0;34m]\u001b[0m \u001b[0;34m/\u001b[0m \u001b[0mv_square\u001b[0m\u001b[0;34m\u001b[0m\n",
      "\u001b[0;34m\u001b[0m            \u001b[0;32mfor\u001b[0m \u001b[0mj\u001b[0m \u001b[0;32min\u001b[0m \u001b[0mrange\u001b[0m\u001b[0;34m(\u001b[0m\u001b[0mk\u001b[0m\u001b[0;34m,\u001b[0m \u001b[0mn\u001b[0m\u001b[0;34m)\u001b[0m\u001b[0;34m:\u001b[0m\u001b[0;34m\u001b[0m\n",
      "\u001b[0;34m\u001b[0m                \u001b[0mq_mat\u001b[0m\u001b[0;34m[\u001b[0m\u001b[0mi\u001b[0m\u001b[0;34m]\u001b[0m\u001b[0;34m[\u001b[0m\u001b[0mj\u001b[0m\u001b[0;34m]\u001b[0m \u001b[0;34m-=\u001b[0m \u001b[0mcoefficient\u001b[0m \u001b[0;34m*\u001b[0m \u001b[0mv_dot_q\u001b[0m\u001b[0;34m[\u001b[0m\u001b[0mj\u001b[0m \u001b[0;34m-\u001b[0m \u001b[0mk\u001b[0m\u001b[0;34m]\u001b[0m\u001b[0;34m\u001b[0m\n",
      "\u001b[0;34m\u001b[0m\u001b[0;34m\u001b[0m\n",
      "\u001b[0;34m\u001b[0m    \u001b[0;32mreturn\u001b[0m \u001b[0mq_mat\u001b[0m\u001b[0;34m,\u001b[0m \u001b[0mr_mat\u001b[0m\u001b[0;34m\u001b[0m\u001b[0m\n"
     ]
    }
   ],
   "source": [
    "from toolkit.qrdecomp import qr_householder\n",
    "qr_householder??"
   ]
  },
  {
   "cell_type": "markdown",
   "metadata": {},
   "source": [
    "### (c) Givens 变换法求 QR 分解\n",
    "Givens 变换在程序操作上实际更为简单，实现如下："
   ]
  },
  {
   "cell_type": "code",
   "execution_count": 7,
   "metadata": {},
   "outputs": [
    {
     "name": "stdout",
     "output_type": "stream",
     "text": [
      "\u001b[0;31mSource:\u001b[0m\n",
      "\u001b[0;32mdef\u001b[0m \u001b[0mqr_givens\u001b[0m\u001b[0;34m(\u001b[0m\u001b[0mmatrix_input\u001b[0m\u001b[0;34m:\u001b[0m \u001b[0mlist\u001b[0m\u001b[0;34m,\u001b[0m\u001b[0;34m\u001b[0m\n",
      "\u001b[0;34m\u001b[0m              \u001b[0mround_accuracy\u001b[0m\u001b[0;34m=\u001b[0m\u001b[0;36m16\u001b[0m\u001b[0;34m,\u001b[0m\u001b[0;34m\u001b[0m\n",
      "\u001b[0;34m\u001b[0m              \u001b[0mmatrix_check\u001b[0m\u001b[0;34m=\u001b[0m\u001b[0;34m'notChecked'\u001b[0m\u001b[0;34m)\u001b[0m \u001b[0;34m->\u001b[0m \u001b[0;34m(\u001b[0m\u001b[0mlist\u001b[0m\u001b[0;34m,\u001b[0m \u001b[0mlist\u001b[0m\u001b[0;34m)\u001b[0m\u001b[0;34m:\u001b[0m\u001b[0;34m\u001b[0m\n",
      "\u001b[0;34m\u001b[0m    \u001b[0;34m\"\"\" QR decomposition by Givens;\u001b[0m\n",
      "\u001b[0;34m        :return: Q, R matrices.\u001b[0m\n",
      "\u001b[0;34m    \"\"\"\u001b[0m\u001b[0;34m\u001b[0m\n",
      "\u001b[0;34m\u001b[0m    \u001b[0mr_mat\u001b[0m \u001b[0;34m=\u001b[0m \u001b[0mdeepcopy\u001b[0m\u001b[0;34m(\u001b[0m\u001b[0mmatrix_input\u001b[0m\u001b[0;34m)\u001b[0m\u001b[0;34m\u001b[0m\n",
      "\u001b[0;34m\u001b[0m    \u001b[0mn\u001b[0m \u001b[0;34m=\u001b[0m \u001b[0mmatrix_check_dim\u001b[0m\u001b[0;34m(\u001b[0m\u001b[0mr_mat\u001b[0m\u001b[0;34m,\u001b[0m \u001b[0mcheck\u001b[0m\u001b[0;34m=\u001b[0m\u001b[0mmatrix_check\u001b[0m\u001b[0;34m,\u001b[0m \u001b[0mspec\u001b[0m\u001b[0;34m=\u001b[0m\u001b[0;34m'square'\u001b[0m\u001b[0;34m)\u001b[0m\u001b[0;34m[\u001b[0m\u001b[0;36m0\u001b[0m\u001b[0;34m]\u001b[0m\u001b[0;34m\u001b[0m\n",
      "\u001b[0;34m\u001b[0m\u001b[0;34m\u001b[0m\n",
      "\u001b[0;34m\u001b[0m    \u001b[0mq_mat\u001b[0m \u001b[0;34m=\u001b[0m \u001b[0midentity_matrix\u001b[0m\u001b[0;34m(\u001b[0m\u001b[0mn\u001b[0m\u001b[0;34m)\u001b[0m\u001b[0;34m\u001b[0m\n",
      "\u001b[0;34m\u001b[0m    \u001b[0;32mfor\u001b[0m \u001b[0mi\u001b[0m \u001b[0;32min\u001b[0m \u001b[0mrange\u001b[0m\u001b[0;34m(\u001b[0m\u001b[0;36m1\u001b[0m\u001b[0;34m,\u001b[0m \u001b[0mn\u001b[0m\u001b[0;34m)\u001b[0m\u001b[0;34m:\u001b[0m\u001b[0;34m\u001b[0m\n",
      "\u001b[0;34m\u001b[0m        \u001b[0;32mfor\u001b[0m \u001b[0mj\u001b[0m \u001b[0;32min\u001b[0m \u001b[0mrange\u001b[0m\u001b[0;34m(\u001b[0m\u001b[0mi\u001b[0m\u001b[0;34m)\u001b[0m\u001b[0;34m:\u001b[0m\u001b[0;34m\u001b[0m\n",
      "\u001b[0;34m\u001b[0m            \u001b[0;31m# Eliminate (i, j), for j < i\u001b[0m\u001b[0;34m\u001b[0m\n",
      "\u001b[0;34m\u001b[0m            \u001b[0;32mif\u001b[0m \u001b[0mround\u001b[0m\u001b[0;34m(\u001b[0m\u001b[0mr_mat\u001b[0m\u001b[0;34m[\u001b[0m\u001b[0mi\u001b[0m\u001b[0;34m]\u001b[0m\u001b[0;34m[\u001b[0m\u001b[0mj\u001b[0m\u001b[0;34m]\u001b[0m\u001b[0;34m,\u001b[0m \u001b[0mround_accuracy\u001b[0m\u001b[0;34m)\u001b[0m \u001b[0;34m!=\u001b[0m \u001b[0;36m0.\u001b[0m\u001b[0;34m:\u001b[0m\u001b[0;34m\u001b[0m\n",
      "\u001b[0;34m\u001b[0m                \u001b[0msmaller\u001b[0m\u001b[0;34m,\u001b[0m \u001b[0mlarger\u001b[0m \u001b[0;34m=\u001b[0m \u001b[0msorted\u001b[0m\u001b[0;34m(\u001b[0m\u001b[0;34m\u001b[0m\n",
      "\u001b[0;34m\u001b[0m                    \u001b[0mmap\u001b[0m\u001b[0;34m(\u001b[0m\u001b[0mabs\u001b[0m\u001b[0;34m,\u001b[0m \u001b[0;34m(\u001b[0m\u001b[0mr_mat\u001b[0m\u001b[0;34m[\u001b[0m\u001b[0mj\u001b[0m\u001b[0;34m]\u001b[0m\u001b[0;34m[\u001b[0m\u001b[0mj\u001b[0m\u001b[0;34m]\u001b[0m\u001b[0;34m,\u001b[0m \u001b[0mr_mat\u001b[0m\u001b[0;34m[\u001b[0m\u001b[0mi\u001b[0m\u001b[0;34m]\u001b[0m\u001b[0;34m[\u001b[0m\u001b[0mj\u001b[0m\u001b[0;34m]\u001b[0m\u001b[0;34m)\u001b[0m\u001b[0;34m)\u001b[0m\u001b[0;34m\u001b[0m\n",
      "\u001b[0;34m\u001b[0m                \u001b[0;34m)\u001b[0m\u001b[0;34m\u001b[0m\n",
      "\u001b[0;34m\u001b[0m                \u001b[0mscale\u001b[0m \u001b[0;34m=\u001b[0m \u001b[0mlarger\u001b[0m \u001b[0;34m*\u001b[0m \u001b[0msqrt\u001b[0m\u001b[0;34m(\u001b[0m\u001b[0;36m1\u001b[0m \u001b[0;34m+\u001b[0m \u001b[0;34m(\u001b[0m\u001b[0msmaller\u001b[0m \u001b[0;34m/\u001b[0m \u001b[0mlarger\u001b[0m\u001b[0;34m)\u001b[0m \u001b[0;34m**\u001b[0m \u001b[0;36m2\u001b[0m\u001b[0;34m)\u001b[0m\u001b[0;34m\u001b[0m\n",
      "\u001b[0;34m\u001b[0m\u001b[0;34m\u001b[0m\n",
      "\u001b[0;34m\u001b[0m                \u001b[0mc\u001b[0m \u001b[0;34m=\u001b[0m \u001b[0mr_mat\u001b[0m\u001b[0;34m[\u001b[0m\u001b[0mj\u001b[0m\u001b[0;34m]\u001b[0m\u001b[0;34m[\u001b[0m\u001b[0mj\u001b[0m\u001b[0;34m]\u001b[0m \u001b[0;34m/\u001b[0m \u001b[0mscale\u001b[0m  \u001b[0;31m# Cosine\u001b[0m\u001b[0;34m\u001b[0m\n",
      "\u001b[0;34m\u001b[0m                \u001b[0ms\u001b[0m \u001b[0;34m=\u001b[0m \u001b[0mr_mat\u001b[0m\u001b[0;34m[\u001b[0m\u001b[0mi\u001b[0m\u001b[0;34m]\u001b[0m\u001b[0;34m[\u001b[0m\u001b[0mj\u001b[0m\u001b[0;34m]\u001b[0m \u001b[0;34m/\u001b[0m \u001b[0mscale\u001b[0m  \u001b[0;31m# Sine\u001b[0m\u001b[0;34m\u001b[0m\n",
      "\u001b[0;34m\u001b[0m\u001b[0;34m\u001b[0m\n",
      "\u001b[0;34m\u001b[0m                \u001b[0;31m# Previous iterations have ensured that for k < j < i,\u001b[0m\u001b[0;34m\u001b[0m\n",
      "\u001b[0;34m\u001b[0m                \u001b[0;31m#   r_mat[i][k] = 0, r_mat[j][k] = 0.\u001b[0m\u001b[0;34m\u001b[0m\n",
      "\u001b[0;34m\u001b[0m                \u001b[0;31m# Therefore, summations need not go all the way from 1 to n.\u001b[0m\u001b[0;34m\u001b[0m\n",
      "\u001b[0;34m\u001b[0m                \u001b[0;32mfor\u001b[0m \u001b[0mk\u001b[0m \u001b[0;32min\u001b[0m \u001b[0mrange\u001b[0m\u001b[0;34m(\u001b[0m\u001b[0mj\u001b[0m\u001b[0;34m,\u001b[0m \u001b[0mn\u001b[0m\u001b[0;34m)\u001b[0m\u001b[0;34m:\u001b[0m\u001b[0;34m\u001b[0m\n",
      "\u001b[0;34m\u001b[0m                    \u001b[0mr_mat\u001b[0m\u001b[0;34m[\u001b[0m\u001b[0mj\u001b[0m\u001b[0;34m]\u001b[0m\u001b[0;34m[\u001b[0m\u001b[0mk\u001b[0m\u001b[0;34m]\u001b[0m\u001b[0;34m,\u001b[0m \u001b[0mr_mat\u001b[0m\u001b[0;34m[\u001b[0m\u001b[0mi\u001b[0m\u001b[0;34m]\u001b[0m\u001b[0;34m[\u001b[0m\u001b[0mk\u001b[0m\u001b[0;34m]\u001b[0m \\\n",
      "                        \u001b[0;34m=\u001b[0m \u001b[0mc\u001b[0m \u001b[0;34m*\u001b[0m \u001b[0mr_mat\u001b[0m\u001b[0;34m[\u001b[0m\u001b[0mj\u001b[0m\u001b[0;34m]\u001b[0m\u001b[0;34m[\u001b[0m\u001b[0mk\u001b[0m\u001b[0;34m]\u001b[0m \u001b[0;34m+\u001b[0m \u001b[0ms\u001b[0m \u001b[0;34m*\u001b[0m \u001b[0mr_mat\u001b[0m\u001b[0;34m[\u001b[0m\u001b[0mi\u001b[0m\u001b[0;34m]\u001b[0m\u001b[0;34m[\u001b[0m\u001b[0mk\u001b[0m\u001b[0;34m]\u001b[0m\u001b[0;34m,\u001b[0m \\\n",
      "                        \u001b[0;34m-\u001b[0m \u001b[0ms\u001b[0m \u001b[0;34m*\u001b[0m \u001b[0mr_mat\u001b[0m\u001b[0;34m[\u001b[0m\u001b[0mj\u001b[0m\u001b[0;34m]\u001b[0m\u001b[0;34m[\u001b[0m\u001b[0mk\u001b[0m\u001b[0;34m]\u001b[0m \u001b[0;34m+\u001b[0m \u001b[0mc\u001b[0m \u001b[0;34m*\u001b[0m \u001b[0mr_mat\u001b[0m\u001b[0;34m[\u001b[0m\u001b[0mi\u001b[0m\u001b[0;34m]\u001b[0m\u001b[0;34m[\u001b[0m\u001b[0mk\u001b[0m\u001b[0;34m]\u001b[0m\u001b[0;34m\u001b[0m\n",
      "\u001b[0;34m\u001b[0m                \u001b[0;32mfor\u001b[0m \u001b[0mk\u001b[0m \u001b[0;32min\u001b[0m \u001b[0mrange\u001b[0m\u001b[0;34m(\u001b[0m\u001b[0mi\u001b[0m \u001b[0;34m+\u001b[0m \u001b[0;36m1\u001b[0m\u001b[0;34m)\u001b[0m\u001b[0;34m:\u001b[0m\u001b[0;34m\u001b[0m\n",
      "\u001b[0;34m\u001b[0m                    \u001b[0mq_mat\u001b[0m\u001b[0;34m[\u001b[0m\u001b[0mk\u001b[0m\u001b[0;34m]\u001b[0m\u001b[0;34m[\u001b[0m\u001b[0mj\u001b[0m\u001b[0;34m]\u001b[0m\u001b[0;34m,\u001b[0m \u001b[0mq_mat\u001b[0m\u001b[0;34m[\u001b[0m\u001b[0mk\u001b[0m\u001b[0;34m]\u001b[0m\u001b[0;34m[\u001b[0m\u001b[0mi\u001b[0m\u001b[0;34m]\u001b[0m \\\n",
      "                        \u001b[0;34m=\u001b[0m \u001b[0mc\u001b[0m \u001b[0;34m*\u001b[0m \u001b[0mq_mat\u001b[0m\u001b[0;34m[\u001b[0m\u001b[0mk\u001b[0m\u001b[0;34m]\u001b[0m\u001b[0;34m[\u001b[0m\u001b[0mj\u001b[0m\u001b[0;34m]\u001b[0m \u001b[0;34m+\u001b[0m \u001b[0ms\u001b[0m \u001b[0;34m*\u001b[0m \u001b[0mq_mat\u001b[0m\u001b[0;34m[\u001b[0m\u001b[0mk\u001b[0m\u001b[0;34m]\u001b[0m\u001b[0;34m[\u001b[0m\u001b[0mi\u001b[0m\u001b[0;34m]\u001b[0m\u001b[0;34m,\u001b[0m \\\n",
      "                        \u001b[0;34m-\u001b[0m \u001b[0ms\u001b[0m \u001b[0;34m*\u001b[0m \u001b[0mq_mat\u001b[0m\u001b[0;34m[\u001b[0m\u001b[0mk\u001b[0m\u001b[0;34m]\u001b[0m\u001b[0;34m[\u001b[0m\u001b[0mj\u001b[0m\u001b[0;34m]\u001b[0m \u001b[0;34m+\u001b[0m \u001b[0mc\u001b[0m \u001b[0;34m*\u001b[0m \u001b[0mq_mat\u001b[0m\u001b[0;34m[\u001b[0m\u001b[0mk\u001b[0m\u001b[0;34m]\u001b[0m\u001b[0;34m[\u001b[0m\u001b[0mi\u001b[0m\u001b[0;34m]\u001b[0m\u001b[0;34m\u001b[0m\n",
      "\u001b[0;34m\u001b[0m    \u001b[0;32mreturn\u001b[0m \u001b[0mq_mat\u001b[0m\u001b[0;34m,\u001b[0m \u001b[0mr_mat\u001b[0m\u001b[0;34m\u001b[0m\u001b[0m\n"
     ]
    }
   ],
   "source": [
    "from toolkit.qrdecomp import qr_givens\n",
    "qr_givens??"
   ]
  },
  {
   "cell_type": "markdown",
   "metadata": {},
   "source": [
    "### (d) 两种方法运行速度比较\n",
    "生成随机矩阵，\n",
    "```python\n",
    "from qr_benchmark import random_matrices\n",
    "```\n",
    "利用 `timeit` 比较两种算法的运行速度，得平均耗时（以秒记）如下："
   ]
  },
  {
   "cell_type": "code",
   "execution_count": 8,
   "metadata": {},
   "outputs": [
    {
     "data": {
      "text/html": [
       "<div>\n",
       "<style scoped>\n",
       "    .dataframe tbody tr th:only-of-type {\n",
       "        vertical-align: middle;\n",
       "    }\n",
       "\n",
       "    .dataframe tbody tr th {\n",
       "        vertical-align: top;\n",
       "    }\n",
       "\n",
       "    .dataframe thead th {\n",
       "        text-align: right;\n",
       "    }\n",
       "</style>\n",
       "<table border=\"1\" class=\"dataframe\">\n",
       "  <thead>\n",
       "    <tr style=\"text-align: right;\">\n",
       "      <th>$n$ as dim</th>\n",
       "      <th>Householder</th>\n",
       "      <th>Givens</th>\n",
       "      <th>ratio</th>\n",
       "    </tr>\n",
       "  </thead>\n",
       "  <tbody>\n",
       "    <tr>\n",
       "      <th>6</th>\n",
       "      <td>0.000214</td>\n",
       "      <td>0.000166</td>\n",
       "      <td>0.776491</td>\n",
       "    </tr>\n",
       "  </tbody>\n",
       "</table>\n",
       "</div>"
      ],
      "text/plain": [
       "$n$ as dim  Householder    Givens     ratio\n",
       "6              0.000214  0.000166  0.776491"
      ]
     },
     "execution_count": 8,
     "metadata": {},
     "output_type": "execute_result"
    }
   ],
   "source": [
    "from backstage import QRBench\n",
    "qr_data = QRBench()\n",
    "qr_data.add(dim=6, sample_size=20, runs=20)"
   ]
  },
  {
   "cell_type": "markdown",
   "metadata": {},
   "source": [
    "表中还给出了两者耗时之比（ratio）；有趣的是，与预估不同，Householder 方法似乎更慢一些！增加随机矩阵的维度（$n$ as dim），重复实验，可得："
   ]
  },
  {
   "cell_type": "code",
   "execution_count": 9,
   "metadata": {},
   "outputs": [
    {
     "data": {
      "text/html": [
       "<div>\n",
       "<style scoped>\n",
       "    .dataframe tbody tr th:only-of-type {\n",
       "        vertical-align: middle;\n",
       "    }\n",
       "\n",
       "    .dataframe tbody tr th {\n",
       "        vertical-align: top;\n",
       "    }\n",
       "\n",
       "    .dataframe thead th {\n",
       "        text-align: right;\n",
       "    }\n",
       "</style>\n",
       "<table border=\"1\" class=\"dataframe\">\n",
       "  <thead>\n",
       "    <tr style=\"text-align: right;\">\n",
       "      <th>$n$ as dim</th>\n",
       "      <th>Householder</th>\n",
       "      <th>Givens</th>\n",
       "      <th>ratio</th>\n",
       "    </tr>\n",
       "  </thead>\n",
       "  <tbody>\n",
       "    <tr>\n",
       "      <th>6</th>\n",
       "      <td>0.000214</td>\n",
       "      <td>0.000166</td>\n",
       "      <td>0.776491</td>\n",
       "    </tr>\n",
       "    <tr>\n",
       "      <th>12</th>\n",
       "      <td>0.001067</td>\n",
       "      <td>0.001220</td>\n",
       "      <td>1.143384</td>\n",
       "    </tr>\n",
       "    <tr>\n",
       "      <th>24</th>\n",
       "      <td>0.002939</td>\n",
       "      <td>0.003909</td>\n",
       "      <td>1.330152</td>\n",
       "    </tr>\n",
       "    <tr>\n",
       "      <th>48</th>\n",
       "      <td>0.018439</td>\n",
       "      <td>0.025631</td>\n",
       "      <td>1.390030</td>\n",
       "    </tr>\n",
       "    <tr>\n",
       "      <th>96</th>\n",
       "      <td>0.131364</td>\n",
       "      <td>0.184307</td>\n",
       "      <td>1.403021</td>\n",
       "    </tr>\n",
       "  </tbody>\n",
       "</table>\n",
       "</div>"
      ],
      "text/plain": [
       "$n$ as dim  Householder    Givens     ratio\n",
       "6              0.000214  0.000166  0.776491\n",
       "12             0.001067  0.001220  1.143384\n",
       "24             0.002939  0.003909  1.330152\n",
       "48             0.018439  0.025631  1.390030\n",
       "96             0.131364  0.184307  1.403021"
      ]
     },
     "execution_count": 9,
     "metadata": {},
     "output_type": "execute_result"
    }
   ],
   "source": [
    "qr_data.add(dim=12, sample_size=10, runs=20)\n",
    "qr_data.add(dim=24, sample_size=10, runs=10)\n",
    "qr_data.add(dim=48, sample_size=5, runs=3)\n",
    "qr_data.add(dim=96, sample_size=3, runs=2)"
   ]
  },
  {
   "cell_type": "markdown",
   "metadata": {},
   "source": [
    "*大 $n$ 的数值实验中，为缩短程序运行时间，相应地减少了测试样本数量（由参数 `sample_size` 和运行次数 `runs` 决定）。*"
   ]
  },
  {
   "cell_type": "markdown",
   "metadata": {},
   "source": [
    "可见，在更大 $n$ 的情形下，确实是 Givens 方法更慢，与理论计算一致（理论给出两者的计算量之比 $\\sim \\pqty{4n^3} \\big/ \\pqty{\\frac{8}{3}n^3} = 1.5$, 和上述结果相比，还是比较相近的）。注意到 Householder 方法的程序实现比较复杂，即计算量的 $n^2$ 阶余项比较显著，这大概是小 $n$ 情况下 Householder 更慢的主要原因。"
   ]
  },
  {
   "cell_type": "code",
   "execution_count": 10,
   "metadata": {},
   "outputs": [
    {
     "data": {
      "text/html": [
       "<p style=\"margin-top: 0.5ex\"></p>"
      ],
      "text/plain": [
       "<IPython.core.display.HTML object>"
      ]
     },
     "metadata": {},
     "output_type": "display_data"
    },
    {
     "data": {
      "image/png": "[encoded data removed]",
      "text/plain": [
       "<Figure size 480x320 with 1 Axes>"
      ]
     },
     "metadata": {},
     "output_type": "display_data"
    }
   ],
   "source": [
    "%matplotlib inline\n",
    "display_whitespace(.5)\n",
    "qr_data.plot()"
   ]
  },
  {
   "cell_type": "markdown",
   "metadata": {},
   "source": [
    "运算量随 $n$ 的增大规律如上图所示；注意图像为对数标度，可见对大 $n$ 而言，近似有计算量 $\\sim n^3$. 具体而言，作线性回归，考虑 $n^2$ 等低阶项的贡献，应当有斜率 $\\sim 2.\\mrm{xxx}$ 接近 3. 事实确是如此；弃去 $n = 6$ 数据点，回归分析给出："
   ]
  },
  {
   "cell_type": "code",
   "execution_count": 11,
   "metadata": {},
   "outputs": [
    {
     "name": "stdout",
     "output_type": "stream",
     "text": [
      "Estimated order: n = [12, 24, 48, 96], \n",
      "  -> Householder:  2.3480245955465597\n",
      "  -> Givens:       2.442945134276954\n"
     ]
    }
   ],
   "source": [
    "qr_data.fit(start_index=1)"
   ]
  },
  {
   "cell_type": "markdown",
   "metadata": {},
   "source": [
    "大 $n$ 极限下，数值实验给出的阶数应当渐趋于 3 ; 例如，取上述最后两点数据，将给出明显更接近 3 的结果："
   ]
  },
  {
   "cell_type": "code",
   "execution_count": 12,
   "metadata": {},
   "outputs": [
    {
     "name": "stdout",
     "output_type": "stream",
     "text": [
      "Estimated order: n = [48, 96], \n",
      "  -> Householder:  2.8327530499224367\n",
      "  -> Givens:       2.846173356444864\n"
     ]
    }
   ],
   "source": [
    "qr_data.fit(start_index=3)"
   ]
  },
  {
   "cell_type": "markdown",
   "metadata": {},
   "source": [
    "## 2. 幂次法求本征值\n",
    "### (a) 物理背景"
   ]
  },
  {
   "cell_type": "code",
   "execution_count": 13,
   "metadata": {
    "scrolled": true
   },
   "outputs": [
    {
     "data": {
      "text/html": [
       "\n",
       "            <p style=\"font-size: 12px; font-style: italic; \">\n",
       "                See no PDF below?\n",
       "                Go to <a href=\"latex/sections/2.lattice_vibration.pdf\">latex/sections/2.lattice_vibration.pdf</a> directly! </p>\n",
       "            <iframe class=\"PDFframe\"\n",
       "                src='assets/embed.html?file=latex/sections/2.lattice_vibration.pdf'\n",
       "                width=\"100%\" frameborder=\"0\" onload=\"PDFframeLoaded()\" >\n",
       "            </iframe>\n",
       "        "
      ],
      "text/plain": [
       "<IPython.core.display.HTML object>"
      ]
     },
     "metadata": {},
     "output_type": "display_data"
    }
   ],
   "source": [
    "pdfGet('latex/sections/2.lattice_vibration.pdf').show()"
   ]
  },
  {
   "cell_type": "markdown",
   "metadata": {},
   "source": [
    "### (b) 幂次法数值求解"
   ]
  },
  {
   "cell_type": "markdown",
   "metadata": {},
   "source": [
    "幂次法适用于一般的复矩阵，这里有必要实现相应的复数运算。幸运的是，Python 原生支持复数，虚单位记为 `j` . 由此，即可实现幂次法迭代："
   ]
  },
  {
   "cell_type": "code",
   "execution_count": 14,
   "metadata": {},
   "outputs": [
    {
     "name": "stdout",
     "output_type": "stream",
     "text": [
      "\u001b[0;31mSource:\u001b[0m\n",
      "\u001b[0;32mdef\u001b[0m \u001b[0mmax_eigensystem\u001b[0m\u001b[0;34m(\u001b[0m\u001b[0mcoefficient_matrix\u001b[0m\u001b[0;34m,\u001b[0m \u001b[0maccuarcy\u001b[0m\u001b[0;34m=\u001b[0m\u001b[0;36m10\u001b[0m\u001b[0;34m**\u001b[0m\u001b[0;34m-\u001b[0m\u001b[0;36m16\u001b[0m\u001b[0;34m,\u001b[0m \u001b[0mmax_runs\u001b[0m\u001b[0;34m=\u001b[0m\u001b[0;36m10\u001b[0m\u001b[0;34m,\u001b[0m\u001b[0;34m\u001b[0m\n",
      "\u001b[0;34m\u001b[0m                    \u001b[0mnotify\u001b[0m\u001b[0;34m=\u001b[0m\u001b[0;32mTrue\u001b[0m\u001b[0;34m)\u001b[0m\u001b[0;34m:\u001b[0m\u001b[0;34m\u001b[0m\n",
      "\u001b[0;34m\u001b[0m    \u001b[0;34m\"\"\" Find maximum eigenvalue & corresponding eigenvector,\u001b[0m\n",
      "\u001b[0;34m        using power iteration.\u001b[0m\n",
      "\u001b[0;34m        :param max_runs: max attempts,\u001b[0m\n",
      "\u001b[0;34m            for random generations of initial eigenvector\u001b[0m\n",
      "\u001b[0;34m        :return: (eigenvalue, eigenvector)\u001b[0m\n",
      "\u001b[0;34m    \"\"\"\u001b[0m\u001b[0;34m\u001b[0m\n",
      "\u001b[0;34m\u001b[0m    \u001b[0ma_mat\u001b[0m \u001b[0;34m=\u001b[0m \u001b[0mdeepcopy\u001b[0m\u001b[0;34m(\u001b[0m\u001b[0mcoefficient_matrix\u001b[0m\u001b[0;34m)\u001b[0m\u001b[0;34m\u001b[0m\n",
      "\u001b[0;34m\u001b[0m    \u001b[0mn\u001b[0m \u001b[0;34m=\u001b[0m \u001b[0mmatrix_check_dim\u001b[0m\u001b[0;34m(\u001b[0m\u001b[0ma_mat\u001b[0m\u001b[0;34m,\u001b[0m \u001b[0mspec\u001b[0m\u001b[0;34m=\u001b[0m\u001b[0;34m'square'\u001b[0m\u001b[0;34m)\u001b[0m\u001b[0;34m[\u001b[0m\u001b[0;36m0\u001b[0m\u001b[0;34m]\u001b[0m\u001b[0;34m\u001b[0m\n",
      "\u001b[0;34m\u001b[0m\u001b[0;34m\u001b[0m\n",
      "\u001b[0;34m\u001b[0m    \u001b[0;31m# Initial eigenvalue\u001b[0m\u001b[0;34m\u001b[0m\n",
      "\u001b[0;34m\u001b[0m    \u001b[0mv\u001b[0m \u001b[0;34m=\u001b[0m \u001b[0;36m0.\u001b[0m\u001b[0;34m\u001b[0m\n",
      "\u001b[0;34m\u001b[0m    \u001b[0mattempts\u001b[0m \u001b[0;34m=\u001b[0m \u001b[0;36m0\u001b[0m\u001b[0;34m\u001b[0m\n",
      "\u001b[0;34m\u001b[0m    \u001b[0mstuck\u001b[0m \u001b[0;34m=\u001b[0m \u001b[0;32mFalse\u001b[0m\u001b[0;34m\u001b[0m\n",
      "\u001b[0;34m\u001b[0m    \u001b[0mever_stuck\u001b[0m \u001b[0;34m=\u001b[0m \u001b[0;32mFalse\u001b[0m\u001b[0;34m\u001b[0m\n",
      "\u001b[0;34m\u001b[0m\u001b[0;34m\u001b[0m\n",
      "\u001b[0;34m\u001b[0m    \u001b[0;31m# Iteration starts from a random real vector\u001b[0m\u001b[0;34m\u001b[0m\n",
      "\u001b[0;34m\u001b[0m    \u001b[0;31m# Regenerate! If eigenvalue v falls back to 0,\u001b[0m\u001b[0;34m\u001b[0m\n",
      "\u001b[0;34m\u001b[0m    \u001b[0;31m# ... or stuck in loop\u001b[0m\u001b[0;34m\u001b[0m\n",
      "\u001b[0;34m\u001b[0m    \u001b[0;32mwhile\u001b[0m \u001b[0mattempts\u001b[0m \u001b[0;34m<\u001b[0m \u001b[0mmax_runs\u001b[0m \u001b[0;32mand\u001b[0m \u001b[0many\u001b[0m\u001b[0;34m(\u001b[0m\u001b[0;34m[\u001b[0m\u001b[0;34m\u001b[0m\n",
      "\u001b[0;34m\u001b[0m        \u001b[0mround\u001b[0m\u001b[0;34m(\u001b[0m\u001b[0mv\u001b[0m\u001b[0;34m,\u001b[0m \u001b[0mint\u001b[0m\u001b[0;34m(\u001b[0m\u001b[0;34m-\u001b[0m\u001b[0mlog10\u001b[0m\u001b[0;34m(\u001b[0m\u001b[0maccuarcy\u001b[0m\u001b[0;34m)\u001b[0m\u001b[0;34m)\u001b[0m\u001b[0;34m)\u001b[0m \u001b[0;34m==\u001b[0m \u001b[0;36m0\u001b[0m\u001b[0;34m,\u001b[0m\u001b[0;34m\u001b[0m\n",
      "\u001b[0;34m\u001b[0m        \u001b[0mstuck\u001b[0m \u001b[0;32mis\u001b[0m \u001b[0;32mTrue\u001b[0m\u001b[0;34m\u001b[0m\n",
      "\u001b[0;34m\u001b[0m    \u001b[0;34m]\u001b[0m\u001b[0;34m)\u001b[0m\u001b[0;34m:\u001b[0m\u001b[0;34m\u001b[0m\n",
      "\u001b[0;34m\u001b[0m        \u001b[0mattempts\u001b[0m \u001b[0;34m+=\u001b[0m \u001b[0;36m1\u001b[0m\u001b[0;34m\u001b[0m\n",
      "\u001b[0;34m\u001b[0m\u001b[0;34m\u001b[0m\n",
      "\u001b[0;34m\u001b[0m        \u001b[0;31m# Notation: liuchuan's Numerical.pdf, ver 0.98\u001b[0m\u001b[0;34m\u001b[0m\n",
      "\u001b[0;34m\u001b[0m        \u001b[0mz_vec\u001b[0m \u001b[0;34m=\u001b[0m \u001b[0;34m[\u001b[0m \u001b[0mrandom\u001b[0m\u001b[0;34m.\u001b[0m\u001b[0muniform\u001b[0m\u001b[0;34m(\u001b[0m\u001b[0;34m-\u001b[0m\u001b[0;36m1\u001b[0m\u001b[0;34m,\u001b[0m \u001b[0;36m1\u001b[0m\u001b[0;34m)\u001b[0m \u001b[0;32mfor\u001b[0m \u001b[0m_\u001b[0m \u001b[0;32min\u001b[0m \u001b[0mrange\u001b[0m\u001b[0;34m(\u001b[0m\u001b[0mn\u001b[0m\u001b[0;34m)\u001b[0m \u001b[0;34m]\u001b[0m\u001b[0;34m\u001b[0m\n",
      "\u001b[0;34m\u001b[0m        \u001b[0mq_vec\u001b[0m \u001b[0;34m=\u001b[0m \u001b[0mnormalize_max\u001b[0m\u001b[0;34m(\u001b[0m\u001b[0mz_vec\u001b[0m\u001b[0;34m)\u001b[0m\u001b[0;34m\u001b[0m\n",
      "\u001b[0;34m\u001b[0m        \u001b[0;31m# Arbitrary `diff` to kickstart iteration\u001b[0m\u001b[0;34m\u001b[0m\n",
      "\u001b[0;34m\u001b[0m        \u001b[0mdiff\u001b[0m \u001b[0;34m=\u001b[0m \u001b[0;36m10\u001b[0m \u001b[0;34m*\u001b[0m \u001b[0maccuarcy\u001b[0m\u001b[0;34m\u001b[0m\n",
      "\u001b[0;34m\u001b[0m\u001b[0;34m\u001b[0m\n",
      "\u001b[0;34m\u001b[0m        \u001b[0;31m# timeout: give up when iteration does not converge\u001b[0m\u001b[0;34m\u001b[0m\n",
      "\u001b[0;34m\u001b[0m        \u001b[0mtimeout\u001b[0m \u001b[0;34m=\u001b[0m \u001b[0mtime\u001b[0m\u001b[0;34m.\u001b[0m\u001b[0mtime\u001b[0m\u001b[0;34m(\u001b[0m\u001b[0;34m)\u001b[0m \u001b[0;34m+\u001b[0m \u001b[0;36m1\u001b[0m\u001b[0;34m\u001b[0m\n",
      "\u001b[0;34m\u001b[0m\u001b[0;34m\u001b[0m\n",
      "\u001b[0;34m\u001b[0m        \u001b[0;32mwhile\u001b[0m \u001b[0mdiff\u001b[0m \u001b[0;34m>\u001b[0m \u001b[0maccuarcy\u001b[0m\u001b[0;34m:\u001b[0m\u001b[0;34m\u001b[0m\n",
      "\u001b[0;34m\u001b[0m            \u001b[0mq_vec0\u001b[0m \u001b[0;34m=\u001b[0m \u001b[0mq_vec\u001b[0m\u001b[0;34m\u001b[0m\n",
      "\u001b[0;34m\u001b[0m            \u001b[0mz_vec\u001b[0m \u001b[0;34m=\u001b[0m \u001b[0;34m[\u001b[0m \u001b[0msum\u001b[0m\u001b[0;34m(\u001b[0m \u001b[0ma_mat\u001b[0m\u001b[0;34m[\u001b[0m\u001b[0mi\u001b[0m\u001b[0;34m]\u001b[0m\u001b[0;34m[\u001b[0m\u001b[0mj\u001b[0m\u001b[0;34m]\u001b[0m \u001b[0;34m*\u001b[0m \u001b[0mq_vec\u001b[0m\u001b[0;34m[\u001b[0m\u001b[0mj\u001b[0m\u001b[0;34m]\u001b[0m\u001b[0;34m\u001b[0m\n",
      "\u001b[0;34m\u001b[0m                           \u001b[0;32mfor\u001b[0m \u001b[0mj\u001b[0m \u001b[0;32min\u001b[0m \u001b[0mrange\u001b[0m\u001b[0;34m(\u001b[0m\u001b[0mn\u001b[0m\u001b[0;34m)\u001b[0m \u001b[0;34m)\u001b[0m\u001b[0;34m\u001b[0m\n",
      "\u001b[0;34m\u001b[0m                      \u001b[0;32mfor\u001b[0m \u001b[0mi\u001b[0m \u001b[0;32min\u001b[0m \u001b[0mrange\u001b[0m\u001b[0;34m(\u001b[0m\u001b[0mn\u001b[0m\u001b[0;34m)\u001b[0m\u001b[0;34m]\u001b[0m\u001b[0;34m\u001b[0m\n",
      "\u001b[0;34m\u001b[0m            \u001b[0mq_vec\u001b[0m \u001b[0;34m=\u001b[0m \u001b[0mnormalize_max\u001b[0m\u001b[0;34m(\u001b[0m\u001b[0mz_vec\u001b[0m\u001b[0;34m)\u001b[0m\u001b[0;34m\u001b[0m\n",
      "\u001b[0;34m\u001b[0m\u001b[0;34m\u001b[0m\n",
      "\u001b[0;34m\u001b[0m            \u001b[0;31m# Relative error,\u001b[0m\u001b[0;34m\u001b[0m\n",
      "\u001b[0;34m\u001b[0m            \u001b[0;31m# ... by maximun difference in components\u001b[0m\u001b[0;34m\u001b[0m\n",
      "\u001b[0;34m\u001b[0m            \u001b[0mdiff\u001b[0m \u001b[0;34m=\u001b[0m \u001b[0mmax\u001b[0m\u001b[0;34m(\u001b[0m\u001b[0mmap\u001b[0m\u001b[0;34m(\u001b[0m\u001b[0;34m\u001b[0m\n",
      "\u001b[0;34m\u001b[0m                \u001b[0;32mlambda\u001b[0m \u001b[0mx\u001b[0m\u001b[0;34m:\u001b[0m \u001b[0mabs\u001b[0m\u001b[0;34m(\u001b[0m\u001b[0mrelative_error\u001b[0m\u001b[0;34m(\u001b[0m\u001b[0;34m*\u001b[0m\u001b[0mx\u001b[0m\u001b[0;34m)\u001b[0m\u001b[0;34m)\u001b[0m\u001b[0;34m,\u001b[0m\u001b[0;34m\u001b[0m\n",
      "\u001b[0;34m\u001b[0m                \u001b[0mxtranspose\u001b[0m\u001b[0;34m(\u001b[0m\u001b[0;34m[\u001b[0m\u001b[0mq_vec\u001b[0m\u001b[0;34m,\u001b[0m \u001b[0mq_vec0\u001b[0m\u001b[0;34m]\u001b[0m\u001b[0;34m)\u001b[0m\u001b[0;34m\u001b[0m\n",
      "\u001b[0;34m\u001b[0m            \u001b[0;34m)\u001b[0m\u001b[0;34m)\u001b[0m\u001b[0;34m\u001b[0m\n",
      "\u001b[0;34m\u001b[0m            \u001b[0;32mif\u001b[0m \u001b[0mtime\u001b[0m\u001b[0;34m.\u001b[0m\u001b[0mtime\u001b[0m\u001b[0;34m(\u001b[0m\u001b[0;34m)\u001b[0m \u001b[0;34m>\u001b[0m \u001b[0mtimeout\u001b[0m\u001b[0;34m:\u001b[0m\u001b[0;34m\u001b[0m\n",
      "\u001b[0;34m\u001b[0m                \u001b[0mstuck\u001b[0m \u001b[0;34m=\u001b[0m \u001b[0;32mTrue\u001b[0m\u001b[0;34m\u001b[0m\n",
      "\u001b[0;34m\u001b[0m                \u001b[0mever_stuck\u001b[0m \u001b[0;34m=\u001b[0m \u001b[0;32mTrue\u001b[0m\u001b[0;34m\u001b[0m\n",
      "\u001b[0;34m\u001b[0m                \u001b[0;32mif\u001b[0m \u001b[0mnotify\u001b[0m\u001b[0;34m:\u001b[0m\u001b[0;34m\u001b[0m\n",
      "\u001b[0;34m\u001b[0m                    \u001b[0mprint\u001b[0m\u001b[0;34m(\u001b[0m\u001b[0;34m'`max_eigensystem`: Iteration did not converge! '\u001b[0m\u001b[0;34m\u001b[0m\n",
      "\u001b[0;34m\u001b[0m                          \u001b[0;34mf'dim = {n}, Re-trying ...'\u001b[0m\u001b[0;34m)\u001b[0m\u001b[0;34m\u001b[0m\n",
      "\u001b[0;34m\u001b[0m                \u001b[0;32mbreak\u001b[0m\u001b[0;34m\u001b[0m\n",
      "\u001b[0;34m\u001b[0m            \u001b[0;32melse\u001b[0m\u001b[0;34m:\u001b[0m\u001b[0;34m\u001b[0m\n",
      "\u001b[0;34m\u001b[0m                \u001b[0mstuck\u001b[0m \u001b[0;34m=\u001b[0m \u001b[0;32mFalse\u001b[0m\u001b[0;34m\u001b[0m\n",
      "\u001b[0;34m\u001b[0m\u001b[0;34m\u001b[0m\n",
      "\u001b[0;34m\u001b[0m        \u001b[0;31m# Rayleigh quotient\u001b[0m\u001b[0;34m\u001b[0m\n",
      "\u001b[0;34m\u001b[0m        \u001b[0mv\u001b[0m \u001b[0;34m=\u001b[0m \u001b[0msum\u001b[0m\u001b[0;34m(\u001b[0m\u001b[0mq_vec0\u001b[0m\u001b[0;34m[\u001b[0m\u001b[0mi\u001b[0m\u001b[0;34m]\u001b[0m\u001b[0;34m.\u001b[0m\u001b[0mconjugate\u001b[0m\u001b[0;34m(\u001b[0m\u001b[0;34m)\u001b[0m \u001b[0;34m*\u001b[0m \u001b[0mz_vec\u001b[0m\u001b[0;34m[\u001b[0m\u001b[0mi\u001b[0m\u001b[0;34m]\u001b[0m \u001b[0;32mfor\u001b[0m \u001b[0mi\u001b[0m \u001b[0;32min\u001b[0m \u001b[0mrange\u001b[0m\u001b[0;34m(\u001b[0m\u001b[0mn\u001b[0m\u001b[0;34m)\u001b[0m\u001b[0;34m)\u001b[0m \\\n",
      "            \u001b[0;34m/\u001b[0m \u001b[0mvec_square\u001b[0m\u001b[0;34m(\u001b[0m\u001b[0mq_vec0\u001b[0m\u001b[0;34m)\u001b[0m\u001b[0;34m\u001b[0m\n",
      "\u001b[0;34m\u001b[0m\u001b[0;34m\u001b[0m\n",
      "\u001b[0;34m\u001b[0m    \u001b[0;32mif\u001b[0m \u001b[0mattempts\u001b[0m \u001b[0;34m==\u001b[0m \u001b[0mmax_runs\u001b[0m\u001b[0;34m:\u001b[0m\u001b[0;34m\u001b[0m\n",
      "\u001b[0;34m\u001b[0m        \u001b[0mprint\u001b[0m\u001b[0;34m(\u001b[0m\u001b[0;34mf'Total: {attempts} in max {max_runs} attempts '\u001b[0m\u001b[0;34m\u001b[0m\n",
      "\u001b[0;34m\u001b[0m              \u001b[0;34mf'for `max_eigensystem`; final diff: {diff} (relatively).'\u001b[0m\u001b[0;34m)\u001b[0m\u001b[0;34m\u001b[0m\n",
      "\u001b[0;34m\u001b[0m    \u001b[0;32mif\u001b[0m \u001b[0mever_stuck\u001b[0m \u001b[0;32mand\u001b[0m \u001b[0mnotify\u001b[0m\u001b[0;34m:\u001b[0m\u001b[0;34m\u001b[0m\n",
      "\u001b[0;34m\u001b[0m        \u001b[0mprint\u001b[0m\u001b[0;34m(\u001b[0m\u001b[0;34m'--------------------------------'\u001b[0m\u001b[0;34m)\u001b[0m\u001b[0;34m\u001b[0m\n",
      "\u001b[0;34m\u001b[0m    \u001b[0;32mreturn\u001b[0m \u001b[0mv\u001b[0m\u001b[0;34m,\u001b[0m \u001b[0mtuple\u001b[0m\u001b[0;34m(\u001b[0m\u001b[0mq_vec\u001b[0m\u001b[0;34m)\u001b[0m\u001b[0;34m\u001b[0m\u001b[0m\n"
     ]
    }
   ],
   "source": [
    "from toolkit.eigensys import max_eigensystem\n",
    "max_eigensystem??"
   ]
  },
  {
   "cell_type": "markdown",
   "metadata": {},
   "source": [
    "**这里有几点需要说明：** 首先，迭代过程中，需要对本征矢量进行归一化；这一步的主要目的是防止溢出，因此可以取任一种矢量模 $\\norm{\\cdot}$ 进行归一化，而不一定取欧式模；这里采用最简单的办法，即先将 $n$ 维复矢量视为 $2n$ 维实矢量，再取无穷模（最大分量）。实现如下："
   ]
  },
  {
   "cell_type": "code",
   "execution_count": 15,
   "metadata": {},
   "outputs": [
    {
     "name": "stdout",
     "output_type": "stream",
     "text": [
      "\u001b[0;31mSource:\u001b[0m\n",
      "\u001b[0;32mdef\u001b[0m \u001b[0mnormalize_max\u001b[0m\u001b[0;34m(\u001b[0m\u001b[0mvec\u001b[0m\u001b[0;34m:\u001b[0m \u001b[0mlist\u001b[0m\u001b[0;34m)\u001b[0m\u001b[0;34m:\u001b[0m\u001b[0;34m\u001b[0m\n",
      "\u001b[0;34m\u001b[0m    \u001b[0;34m\"\"\" Normalize a (complex) vector, by its max (real) parameter \"\"\"\u001b[0m\u001b[0;34m\u001b[0m\n",
      "\u001b[0;34m\u001b[0m    \u001b[0mvec_imag\u001b[0m \u001b[0;34m=\u001b[0m \u001b[0mlist\u001b[0m\u001b[0;34m(\u001b[0m\u001b[0mmap\u001b[0m\u001b[0;34m(\u001b[0m\u001b[0;32mlambda\u001b[0m \u001b[0mx\u001b[0m\u001b[0;34m:\u001b[0m \u001b[0mx\u001b[0m\u001b[0;34m.\u001b[0m\u001b[0mimag\u001b[0m\u001b[0;34m,\u001b[0m \u001b[0mvec\u001b[0m\u001b[0;34m)\u001b[0m\u001b[0;34m)\u001b[0m\u001b[0;34m\u001b[0m\n",
      "\u001b[0;34m\u001b[0m    \u001b[0;32mif\u001b[0m \u001b[0mvec_imag\u001b[0m \u001b[0;34m!=\u001b[0m \u001b[0;34m[\u001b[0m\u001b[0;36m0\u001b[0m\u001b[0;34m]\u001b[0m \u001b[0;34m*\u001b[0m \u001b[0mlen\u001b[0m\u001b[0;34m(\u001b[0m\u001b[0mvec\u001b[0m\u001b[0;34m)\u001b[0m\u001b[0;34m:\u001b[0m\u001b[0;34m\u001b[0m\n",
      "\u001b[0;34m\u001b[0m        \u001b[0mvec_real_params\u001b[0m \u001b[0;34m=\u001b[0m \u001b[0mlist\u001b[0m\u001b[0;34m(\u001b[0m\u001b[0mmap\u001b[0m\u001b[0;34m(\u001b[0m\u001b[0;32mlambda\u001b[0m \u001b[0mx\u001b[0m\u001b[0;34m:\u001b[0m \u001b[0mx\u001b[0m\u001b[0;34m.\u001b[0m\u001b[0mreal\u001b[0m\u001b[0;34m,\u001b[0m \u001b[0mvec\u001b[0m\u001b[0;34m)\u001b[0m\u001b[0;34m)\u001b[0m\u001b[0;34m\u001b[0m\n",
      "\u001b[0;34m\u001b[0m        \u001b[0mvec_real_params\u001b[0m\u001b[0;34m.\u001b[0m\u001b[0mextend\u001b[0m\u001b[0;34m(\u001b[0m\u001b[0mvec_imag\u001b[0m\u001b[0;34m)\u001b[0m\u001b[0;34m\u001b[0m\n",
      "\u001b[0;34m\u001b[0m    \u001b[0;32melse\u001b[0m\u001b[0;34m:\u001b[0m\u001b[0;34m\u001b[0m\n",
      "\u001b[0;34m\u001b[0m        \u001b[0mvec_real_params\u001b[0m \u001b[0;34m=\u001b[0m \u001b[0mvec\u001b[0m\u001b[0;34m\u001b[0m\n",
      "\u001b[0;34m\u001b[0m\u001b[0;34m\u001b[0m\n",
      "\u001b[0;34m\u001b[0m    \u001b[0mparam_max\u001b[0m \u001b[0;34m=\u001b[0m \u001b[0mmax\u001b[0m\u001b[0;34m(\u001b[0m\u001b[0mmap\u001b[0m\u001b[0;34m(\u001b[0m\u001b[0mabs\u001b[0m\u001b[0;34m,\u001b[0m \u001b[0mvec_real_params\u001b[0m\u001b[0;34m)\u001b[0m\u001b[0;34m)\u001b[0m\u001b[0;34m\u001b[0m\n",
      "\u001b[0;34m\u001b[0m    \u001b[0;32mtry\u001b[0m\u001b[0;34m:\u001b[0m\u001b[0;34m\u001b[0m\n",
      "\u001b[0;34m\u001b[0m        \u001b[0;32mreturn\u001b[0m \u001b[0;34m[\u001b[0m\u001b[0mx\u001b[0m \u001b[0;34m/\u001b[0m \u001b[0mparam_max\u001b[0m \u001b[0;32mfor\u001b[0m \u001b[0mx\u001b[0m \u001b[0;32min\u001b[0m \u001b[0mvec\u001b[0m\u001b[0;34m]\u001b[0m\u001b[0;34m\u001b[0m\n",
      "\u001b[0;34m\u001b[0m    \u001b[0;32mexcept\u001b[0m \u001b[0mZeroDivisionError\u001b[0m\u001b[0;34m:\u001b[0m\u001b[0;34m\u001b[0m\n",
      "\u001b[0;34m\u001b[0m        \u001b[0;32mreturn\u001b[0m \u001b[0;34m[\u001b[0m\u001b[0;36m0.\u001b[0m \u001b[0;32mfor\u001b[0m \u001b[0m_\u001b[0m \u001b[0;32min\u001b[0m \u001b[0mrange\u001b[0m\u001b[0;34m(\u001b[0m\u001b[0mlen\u001b[0m\u001b[0;34m(\u001b[0m\u001b[0mvec\u001b[0m\u001b[0;34m)\u001b[0m\u001b[0;34m)\u001b[0m\u001b[0;34m]\u001b[0m\u001b[0;34m\u001b[0m\u001b[0m\n"
     ]
    }
   ],
   "source": [
    "from toolkit.generic import normalize_max\n",
    "normalize_max??"
   ]
  },
  {
   "cell_type": "markdown",
   "metadata": {},
   "source": [
    "类似地，在定义欧式模方时，也应当防止溢出。这一观点在前面实现 QR 分解时已有提出，此处只不过还需考虑复数模方；这在程序中以\n",
    "```python\n",
    "from toolkit.generic import vec_square\n",
    "```\n",
    "加以实现，此处不再赘述。\n",
    "\n",
    "------\n",
    "\n",
    "**此外，对病态的问题而言，迭代很可能根本不收敛！** 相应地，程序中设置 1 秒钟的 `timeout`, 以避免迭代卡死（`stuck`）带来的麻烦。如果迭代失败（可能是卡死，也可能是矢量落入矩阵的核（kernel, or simply $\\ker$）从而本征值 $v \\to 0$），则重取初始矢量（随机生成），再来一次。\n",
    "\n",
    "*默认“推倒重来”的次数上限为 `max_runs=10` , 尝试次数（`attempts`）达到上限则通过 `print` 报告。*\n",
    "\n",
    "--------\n",
    "\n",
    "对一维原子链而言，系数矩阵 $A$ 实现为："
   ]
  },
  {
   "cell_type": "code",
   "execution_count": 16,
   "metadata": {},
   "outputs": [
    {
     "name": "stdout",
     "output_type": "stream",
     "text": [
      "\u001b[0;31mSource:\u001b[0m\n",
      "\u001b[0;32mdef\u001b[0m \u001b[0mstiffness_matrix_element\u001b[0m\u001b[0;34m(\u001b[0m\u001b[0mdim\u001b[0m\u001b[0;34m:\u001b[0m \u001b[0mint\u001b[0m\u001b[0;34m,\u001b[0m \u001b[0mi\u001b[0m\u001b[0;34m:\u001b[0m \u001b[0mint\u001b[0m\u001b[0;34m,\u001b[0m \u001b[0mj\u001b[0m\u001b[0;34m:\u001b[0m \u001b[0mint\u001b[0m\u001b[0;34m)\u001b[0m\u001b[0;34m:\u001b[0m\u001b[0;34m\u001b[0m\n",
      "\u001b[0;34m\u001b[0m    \u001b[0;32mdef\u001b[0m \u001b[0mmain_components\u001b[0m\u001b[0;34m(\u001b[0m\u001b[0mi\u001b[0m\u001b[0;34m:\u001b[0m \u001b[0mint\u001b[0m\u001b[0;34m,\u001b[0m \u001b[0mj\u001b[0m\u001b[0;34m:\u001b[0m \u001b[0mint\u001b[0m\u001b[0;34m)\u001b[0m\u001b[0;34m:\u001b[0m\u001b[0;34m\u001b[0m\n",
      "\u001b[0;34m\u001b[0m        \u001b[0;32mif\u001b[0m \u001b[0mi\u001b[0m \u001b[0;34m==\u001b[0m \u001b[0mj\u001b[0m\u001b[0;34m:\u001b[0m\u001b[0;34m\u001b[0m\n",
      "\u001b[0;34m\u001b[0m            \u001b[0;32mreturn\u001b[0m \u001b[0;36m2\u001b[0m\u001b[0;34m\u001b[0m\n",
      "\u001b[0;34m\u001b[0m        \u001b[0;32melif\u001b[0m \u001b[0mj\u001b[0m \u001b[0;32min\u001b[0m \u001b[0;34m(\u001b[0m\u001b[0mi\u001b[0m \u001b[0;34m+\u001b[0m \u001b[0;36m1\u001b[0m\u001b[0;34m,\u001b[0m \u001b[0mi\u001b[0m \u001b[0;34m-\u001b[0m \u001b[0;36m1\u001b[0m\u001b[0;34m)\u001b[0m\u001b[0;34m:\u001b[0m\u001b[0;34m\u001b[0m\n",
      "\u001b[0;34m\u001b[0m            \u001b[0;32mreturn\u001b[0m \u001b[0;34m-\u001b[0m\u001b[0;36m1\u001b[0m\u001b[0;34m\u001b[0m\n",
      "\u001b[0;34m\u001b[0m        \u001b[0;32melse\u001b[0m\u001b[0;34m:\u001b[0m\u001b[0;34m\u001b[0m\n",
      "\u001b[0;34m\u001b[0m            \u001b[0;32mreturn\u001b[0m \u001b[0;36m0\u001b[0m\u001b[0;34m\u001b[0m\n",
      "\u001b[0;34m\u001b[0m\u001b[0;34m\u001b[0m\n",
      "\u001b[0;34m\u001b[0m    \u001b[0;32mif\u001b[0m \u001b[0misinstance\u001b[0m\u001b[0;34m(\u001b[0m\u001b[0mdim\u001b[0m\u001b[0;34m,\u001b[0m \u001b[0mint\u001b[0m\u001b[0;34m)\u001b[0m \u001b[0;32mand\u001b[0m \u001b[0mdim\u001b[0m \u001b[0;34m>\u001b[0m \u001b[0;36m1\u001b[0m\u001b[0;34m:\u001b[0m\u001b[0;34m\u001b[0m\n",
      "\u001b[0;34m\u001b[0m        \u001b[0;32mif\u001b[0m \u001b[0;34m(\u001b[0m\u001b[0mi\u001b[0m\u001b[0;34m,\u001b[0m \u001b[0mj\u001b[0m\u001b[0;34m)\u001b[0m \u001b[0;32min\u001b[0m \u001b[0;34m[\u001b[0m\u001b[0;34m(\u001b[0m\u001b[0;36m0\u001b[0m\u001b[0;34m,\u001b[0m \u001b[0mdim\u001b[0m \u001b[0;34m-\u001b[0m \u001b[0;36m1\u001b[0m\u001b[0;34m)\u001b[0m\u001b[0;34m,\u001b[0m \u001b[0;34m(\u001b[0m\u001b[0mdim\u001b[0m \u001b[0;34m-\u001b[0m \u001b[0;36m1\u001b[0m\u001b[0;34m,\u001b[0m \u001b[0;36m0\u001b[0m\u001b[0;34m)\u001b[0m\u001b[0;34m]\u001b[0m\u001b[0;34m:\u001b[0m\u001b[0;34m\u001b[0m\n",
      "\u001b[0;34m\u001b[0m            \u001b[0;32mreturn\u001b[0m \u001b[0mmain_components\u001b[0m\u001b[0;34m(\u001b[0m\u001b[0mi\u001b[0m\u001b[0;34m,\u001b[0m \u001b[0mj\u001b[0m\u001b[0;34m)\u001b[0m \u001b[0;34m-\u001b[0m \u001b[0;36m1\u001b[0m\u001b[0;34m\u001b[0m\n",
      "\u001b[0;34m\u001b[0m        \u001b[0;32melif\u001b[0m \u001b[0mall\u001b[0m\u001b[0;34m(\u001b[0m \u001b[0mindex\u001b[0m \u001b[0;32min\u001b[0m \u001b[0mrange\u001b[0m\u001b[0;34m(\u001b[0m\u001b[0mdim\u001b[0m\u001b[0;34m)\u001b[0m \u001b[0;32mfor\u001b[0m \u001b[0mindex\u001b[0m \u001b[0;32min\u001b[0m \u001b[0;34m[\u001b[0m\u001b[0mi\u001b[0m\u001b[0;34m,\u001b[0m \u001b[0mj\u001b[0m\u001b[0;34m]\u001b[0m \u001b[0;34m)\u001b[0m\u001b[0;34m:\u001b[0m\u001b[0;34m\u001b[0m\n",
      "\u001b[0;34m\u001b[0m            \u001b[0;32mreturn\u001b[0m \u001b[0mmain_components\u001b[0m\u001b[0;34m(\u001b[0m\u001b[0mi\u001b[0m\u001b[0;34m,\u001b[0m \u001b[0mj\u001b[0m\u001b[0;34m)\u001b[0m\u001b[0;34m\u001b[0m\n",
      "\u001b[0;34m\u001b[0m        \u001b[0;32melse\u001b[0m\u001b[0;34m:\u001b[0m\u001b[0;34m\u001b[0m\n",
      "\u001b[0;34m\u001b[0m            \u001b[0;32mraise\u001b[0m \u001b[0mIndexError\u001b[0m\u001b[0;34m(\u001b[0m\u001b[0;34m'illegal index for matrix_element'\u001b[0m\u001b[0;34m)\u001b[0m\u001b[0;34m\u001b[0m\n",
      "\u001b[0;34m\u001b[0m    \u001b[0;32melse\u001b[0m\u001b[0;34m:\u001b[0m\u001b[0;34m\u001b[0m\n",
      "\u001b[0;34m\u001b[0m        \u001b[0;32mraise\u001b[0m \u001b[0mIndexError\u001b[0m\u001b[0;34m(\u001b[0m\u001b[0;34m'illegal dimension for matrix_element'\u001b[0m\u001b[0;34m)\u001b[0m\u001b[0;34m\u001b[0m\u001b[0m\n"
     ]
    }
   ],
   "source": [
    "from lattice_vibrations import stiffness_matrix_element\n",
    "stiffness_matrix_element??"
   ]
  },
  {
   "cell_type": "markdown",
   "metadata": {},
   "source": [
    "这一函数不仅可以给出 $n \\ge 3$ 的情形，还可适用于 $n = 2$ 的情形。利用这一函数构造矩阵，无需事先构造矩阵，只需在调用时临时生成即可；为模仿列表的指标记号，定义 `MatrixByRule` 类："
   ]
  },
  {
   "cell_type": "code",
   "execution_count": 17,
   "metadata": {},
   "outputs": [
    {
     "data": {
      "text/html": [
       "<p style=\"margin-top: 0.0ex\"></p>"
      ],
      "text/plain": [
       "<IPython.core.display.HTML object>"
      ]
     },
     "metadata": {},
     "output_type": "display_data"
    },
    {
     "name": "stdout",
     "output_type": "stream",
     "text": [
      "\u001b[0;31mSource:\u001b[0m\n",
      "\u001b[0;32mclass\u001b[0m \u001b[0mMatrixByRule\u001b[0m\u001b[0;34m(\u001b[0m\u001b[0mListByRule\u001b[0m\u001b[0;34m)\u001b[0m\u001b[0;34m:\u001b[0m\u001b[0;34m\u001b[0m\n",
      "\u001b[0;34m\u001b[0m    \u001b[0;34m\"\"\" Construct SQUARE matrix, according to a certain rule (function);\u001b[0m\n",
      "\u001b[0;34m        :param func: input function, with argument (i, j);\u001b[0m\n",
      "\u001b[0;34m        :param dim: dimension of the matrix.\u001b[0m\n",
      "\u001b[0;34m        SLICING IS NOT SUPPORTED!\u001b[0m\n",
      "\u001b[0;34m        P.S. `__init__`, `dim` & `print` inherited from `ListByRule`.\u001b[0m\n",
      "\u001b[0;34m    \"\"\"\u001b[0m\u001b[0;34m\u001b[0m\n",
      "\u001b[0;34m\u001b[0m    \u001b[0;32mdef\u001b[0m \u001b[0mrule\u001b[0m\u001b[0;34m(\u001b[0m\u001b[0mself\u001b[0m\u001b[0;34m,\u001b[0m \u001b[0mi\u001b[0m\u001b[0;34m,\u001b[0m \u001b[0mj\u001b[0m\u001b[0;34m)\u001b[0m\u001b[0;34m:\u001b[0m\u001b[0;34m\u001b[0m\n",
      "\u001b[0;34m\u001b[0m        \u001b[0mentry\u001b[0m \u001b[0;34m=\u001b[0m \u001b[0;34m(\u001b[0m\u001b[0mi_reduced\u001b[0m\u001b[0;34m,\u001b[0m \u001b[0mj_reduced\u001b[0m\u001b[0;34m)\u001b[0m \u001b[0;34m=\u001b[0m \u001b[0;34m[\u001b[0m \u001b[0mx\u001b[0m \u001b[0;34m%\u001b[0m \u001b[0mself\u001b[0m\u001b[0;34m.\u001b[0m\u001b[0mdim\u001b[0m \u001b[0;32mfor\u001b[0m \u001b[0mx\u001b[0m \u001b[0;32min\u001b[0m \u001b[0;34m[\u001b[0m\u001b[0mi\u001b[0m\u001b[0;34m,\u001b[0m \u001b[0mj\u001b[0m\u001b[0;34m]\u001b[0m \u001b[0;34m]\u001b[0m\u001b[0;34m\u001b[0m\n",
      "\u001b[0;34m\u001b[0m        \u001b[0;32mif\u001b[0m \u001b[0mall\u001b[0m\u001b[0;34m(\u001b[0m \u001b[0mitem\u001b[0m \u001b[0;32min\u001b[0m \u001b[0mrange\u001b[0m\u001b[0;34m(\u001b[0m\u001b[0mself\u001b[0m\u001b[0;34m.\u001b[0m\u001b[0mdim\u001b[0m\u001b[0;34m)\u001b[0m \u001b[0;32mfor\u001b[0m \u001b[0mitem\u001b[0m \u001b[0;32min\u001b[0m \u001b[0mentry\u001b[0m \u001b[0;34m)\u001b[0m\u001b[0;34m:\u001b[0m\u001b[0;34m\u001b[0m\n",
      "\u001b[0;34m\u001b[0m            \u001b[0;32mreturn\u001b[0m \u001b[0mself\u001b[0m\u001b[0;34m.\u001b[0m\u001b[0mfunc\u001b[0m\u001b[0;34m(\u001b[0m\u001b[0;34m*\u001b[0m\u001b[0mentry\u001b[0m\u001b[0;34m)\u001b[0m\u001b[0;34m\u001b[0m\n",
      "\u001b[0;34m\u001b[0m        \u001b[0;32melse\u001b[0m\u001b[0;34m:\u001b[0m\u001b[0;34m\u001b[0m\n",
      "\u001b[0;34m\u001b[0m            \u001b[0;32mraise\u001b[0m \u001b[0mIndexError\u001b[0m\u001b[0;34m(\u001b[0m\u001b[0;34m'illegal index for MatrixByRule'\u001b[0m\u001b[0;34m)\u001b[0m\u001b[0;34m\u001b[0m\n",
      "\u001b[0;34m\u001b[0m\u001b[0;34m\u001b[0m\n",
      "\u001b[0;34m\u001b[0m    \u001b[0;32mdef\u001b[0m \u001b[0m__getitem__\u001b[0m\u001b[0;34m(\u001b[0m\u001b[0mself\u001b[0m\u001b[0;34m,\u001b[0m \u001b[0mkey\u001b[0m\u001b[0;34m)\u001b[0m\u001b[0;34m:\u001b[0m\u001b[0;34m\u001b[0m\n",
      "\u001b[0;34m\u001b[0m        \u001b[0;32mreturn\u001b[0m \u001b[0mListByRule\u001b[0m\u001b[0;34m(\u001b[0m\u001b[0;32mlambda\u001b[0m \u001b[0mi\u001b[0m\u001b[0;34m:\u001b[0m \u001b[0mself\u001b[0m\u001b[0;34m.\u001b[0m\u001b[0mrule\u001b[0m\u001b[0;34m(\u001b[0m\u001b[0mkey\u001b[0m\u001b[0;34m,\u001b[0m \u001b[0mi\u001b[0m\u001b[0;34m)\u001b[0m\u001b[0;34m,\u001b[0m \u001b[0mself\u001b[0m\u001b[0;34m.\u001b[0m\u001b[0mdim\u001b[0m\u001b[0;34m)\u001b[0m\u001b[0;34m\u001b[0m\n",
      "\u001b[0;34m\u001b[0m\u001b[0;34m\u001b[0m\n",
      "\u001b[0;34m\u001b[0m    \u001b[0;32mdef\u001b[0m \u001b[0mlist\u001b[0m\u001b[0;34m(\u001b[0m\u001b[0mself\u001b[0m\u001b[0;34m)\u001b[0m\u001b[0;34m:\u001b[0m\u001b[0;34m\u001b[0m\n",
      "\u001b[0;34m\u001b[0m        \u001b[0;32mreturn\u001b[0m \u001b[0;34m[\u001b[0m \u001b[0;34m[\u001b[0m\u001b[0mself\u001b[0m\u001b[0;34m.\u001b[0m\u001b[0mrule\u001b[0m\u001b[0;34m(\u001b[0m\u001b[0mi\u001b[0m\u001b[0;34m,\u001b[0m \u001b[0mj\u001b[0m\u001b[0;34m)\u001b[0m \u001b[0;32mfor\u001b[0m \u001b[0mj\u001b[0m \u001b[0;32min\u001b[0m \u001b[0mrange\u001b[0m\u001b[0;34m(\u001b[0m\u001b[0mself\u001b[0m\u001b[0;34m.\u001b[0m\u001b[0mdim\u001b[0m\u001b[0;34m)\u001b[0m\u001b[0;34m]\u001b[0m\u001b[0;34m\u001b[0m\n",
      "\u001b[0;34m\u001b[0m                 \u001b[0;32mfor\u001b[0m \u001b[0mi\u001b[0m \u001b[0;32min\u001b[0m \u001b[0mrange\u001b[0m\u001b[0;34m(\u001b[0m\u001b[0mself\u001b[0m\u001b[0;34m.\u001b[0m\u001b[0mdim\u001b[0m\u001b[0;34m)\u001b[0m \u001b[0;34m]\u001b[0m\u001b[0;34m\u001b[0m\u001b[0m\n"
     ]
    },
    {
     "data": {
      "text/html": [
       "<p style=\"margin-top: 0.0ex\"></p>"
      ],
      "text/plain": [
       "<IPython.core.display.HTML object>"
      ]
     },
     "metadata": {},
     "output_type": "display_data"
    },
    {
     "name": "stdout",
     "output_type": "stream",
     "text": [
      "\u001b[0;31mSource:\u001b[0m\n",
      "\u001b[0;32mclass\u001b[0m \u001b[0mListByRule\u001b[0m\u001b[0;34m(\u001b[0m\u001b[0mobject\u001b[0m\u001b[0;34m)\u001b[0m\u001b[0;34m:\u001b[0m\u001b[0;34m\u001b[0m\n",
      "\u001b[0;34m\u001b[0m    \u001b[0;34m\"\"\" Construct list according to a certain rule (function);\u001b[0m\n",
      "\u001b[0;34m        :param func: input function, with argument i as list index;\u001b[0m\n",
      "\u001b[0;34m        :param length: length of the list.\u001b[0m\n",
      "\u001b[0;34m        SLICING IS NOT SUPPORTED!\u001b[0m\n",
      "\u001b[0;34m    \"\"\"\u001b[0m\u001b[0;34m\u001b[0m\n",
      "\u001b[0;34m\u001b[0m    \u001b[0;32mdef\u001b[0m \u001b[0m__init__\u001b[0m\u001b[0;34m(\u001b[0m\u001b[0mself\u001b[0m\u001b[0;34m,\u001b[0m \u001b[0mfunc\u001b[0m\u001b[0;34m,\u001b[0m \u001b[0mdim\u001b[0m\u001b[0;34m:\u001b[0m \u001b[0mint\u001b[0m\u001b[0;34m)\u001b[0m\u001b[0;34m:\u001b[0m\u001b[0;34m\u001b[0m\n",
      "\u001b[0;34m\u001b[0m        \u001b[0mself\u001b[0m\u001b[0;34m.\u001b[0m\u001b[0mdim\u001b[0m \u001b[0;34m=\u001b[0m \u001b[0mdim\u001b[0m\u001b[0;34m\u001b[0m\n",
      "\u001b[0;34m\u001b[0m        \u001b[0mself\u001b[0m\u001b[0;34m.\u001b[0m\u001b[0mfunc\u001b[0m \u001b[0;34m=\u001b[0m \u001b[0mfunc\u001b[0m\u001b[0;34m\u001b[0m\n",
      "\u001b[0;34m\u001b[0m\u001b[0;34m\u001b[0m\n",
      "\u001b[0;34m\u001b[0m    \u001b[0;32mdef\u001b[0m \u001b[0mdimension\u001b[0m\u001b[0;34m(\u001b[0m\u001b[0mself\u001b[0m\u001b[0;34m)\u001b[0m\u001b[0;34m:\u001b[0m\u001b[0;34m\u001b[0m\n",
      "\u001b[0;34m\u001b[0m        \u001b[0;32mreturn\u001b[0m \u001b[0mself\u001b[0m\u001b[0;34m.\u001b[0m\u001b[0mdim\u001b[0m\u001b[0;34m\u001b[0m\n",
      "\u001b[0;34m\u001b[0m\u001b[0;34m\u001b[0m\n",
      "\u001b[0;34m\u001b[0m    \u001b[0;32mdef\u001b[0m \u001b[0mprint\u001b[0m\u001b[0;34m(\u001b[0m\u001b[0mself\u001b[0m\u001b[0;34m)\u001b[0m\u001b[0;34m:\u001b[0m\u001b[0;34m\u001b[0m\n",
      "\u001b[0;34m\u001b[0m        \u001b[0;32mreturn\u001b[0m \u001b[0mprint_matrix\u001b[0m\u001b[0;34m(\u001b[0m\u001b[0mself\u001b[0m\u001b[0;34m.\u001b[0m\u001b[0mlist\u001b[0m\u001b[0;34m(\u001b[0m\u001b[0;34m)\u001b[0m\u001b[0;34m)\u001b[0m\u001b[0;34m\u001b[0m\n",
      "\u001b[0;34m\u001b[0m\u001b[0;34m\u001b[0m\n",
      "\u001b[0;34m\u001b[0m    \u001b[0;32mdef\u001b[0m \u001b[0mrule\u001b[0m\u001b[0;34m(\u001b[0m\u001b[0mself\u001b[0m\u001b[0;34m,\u001b[0m \u001b[0mi\u001b[0m\u001b[0;34m)\u001b[0m\u001b[0;34m:\u001b[0m\u001b[0;34m\u001b[0m\n",
      "\u001b[0;34m\u001b[0m        \u001b[0mi_reduced\u001b[0m \u001b[0;34m=\u001b[0m \u001b[0mi\u001b[0m \u001b[0;34m%\u001b[0m \u001b[0mself\u001b[0m\u001b[0;34m.\u001b[0m\u001b[0mdim\u001b[0m\u001b[0;34m\u001b[0m\n",
      "\u001b[0;34m\u001b[0m        \u001b[0;32mif\u001b[0m \u001b[0mi_reduced\u001b[0m \u001b[0;32min\u001b[0m \u001b[0mrange\u001b[0m\u001b[0;34m(\u001b[0m\u001b[0mself\u001b[0m\u001b[0;34m.\u001b[0m\u001b[0mdim\u001b[0m\u001b[0;34m)\u001b[0m\u001b[0;34m:\u001b[0m\u001b[0;34m\u001b[0m\n",
      "\u001b[0;34m\u001b[0m            \u001b[0;32mreturn\u001b[0m \u001b[0mself\u001b[0m\u001b[0;34m.\u001b[0m\u001b[0mfunc\u001b[0m\u001b[0;34m(\u001b[0m\u001b[0mi_reduced\u001b[0m\u001b[0;34m)\u001b[0m\u001b[0;34m\u001b[0m\n",
      "\u001b[0;34m\u001b[0m        \u001b[0;32melse\u001b[0m\u001b[0;34m:\u001b[0m\u001b[0;34m\u001b[0m\n",
      "\u001b[0;34m\u001b[0m            \u001b[0;32mraise\u001b[0m \u001b[0mIndexError\u001b[0m\u001b[0;34m(\u001b[0m\u001b[0;34m'illegal index for ListByRule'\u001b[0m\u001b[0;34m)\u001b[0m\u001b[0;34m\u001b[0m\n",
      "\u001b[0;34m\u001b[0m\u001b[0;34m\u001b[0m\n",
      "\u001b[0;34m\u001b[0m    \u001b[0;32mdef\u001b[0m \u001b[0m__getitem__\u001b[0m\u001b[0;34m(\u001b[0m\u001b[0mself\u001b[0m\u001b[0;34m,\u001b[0m \u001b[0mkey\u001b[0m\u001b[0;34m)\u001b[0m\u001b[0;34m:\u001b[0m\u001b[0;34m\u001b[0m\n",
      "\u001b[0;34m\u001b[0m        \u001b[0;32mreturn\u001b[0m \u001b[0mself\u001b[0m\u001b[0;34m.\u001b[0m\u001b[0mrule\u001b[0m\u001b[0;34m(\u001b[0m\u001b[0mkey\u001b[0m\u001b[0;34m)\u001b[0m\u001b[0;34m\u001b[0m\n",
      "\u001b[0;34m\u001b[0m\u001b[0;34m\u001b[0m\n",
      "\u001b[0;34m\u001b[0m    \u001b[0;32mdef\u001b[0m \u001b[0mlist\u001b[0m\u001b[0;34m(\u001b[0m\u001b[0mself\u001b[0m\u001b[0;34m)\u001b[0m\u001b[0;34m:\u001b[0m\u001b[0;34m\u001b[0m\n",
      "\u001b[0;34m\u001b[0m        \u001b[0;32mreturn\u001b[0m \u001b[0;34m[\u001b[0m \u001b[0mself\u001b[0m\u001b[0;34m.\u001b[0m\u001b[0mrule\u001b[0m\u001b[0;34m(\u001b[0m\u001b[0mi\u001b[0m\u001b[0;34m)\u001b[0m \u001b[0;32mfor\u001b[0m \u001b[0mi\u001b[0m \u001b[0;32min\u001b[0m \u001b[0mrange\u001b[0m\u001b[0;34m(\u001b[0m\u001b[0mself\u001b[0m\u001b[0;34m.\u001b[0m\u001b[0mdim\u001b[0m\u001b[0;34m)\u001b[0m \u001b[0;34m]\u001b[0m\u001b[0;34m\u001b[0m\u001b[0m\n"
     ]
    }
   ],
   "source": [
    "from toolkit.generic import ListByRule, MatrixByRule\n",
    "display_whitespace(0.)\n",
    "MatrixByRule??\n",
    "display_whitespace(0.)\n",
    "ListByRule??"
   ]
  },
  {
   "cell_type": "markdown",
   "metadata": {},
   "source": [
    "通过 `__getitem__` 这一 method 实现与列表一样的指标读取。代入 `max_eigensystem`, 给出："
   ]
  },
  {
   "cell_type": "code",
   "execution_count": 18,
   "metadata": {},
   "outputs": [
    {
     "data": {
      "text/html": [
       "<style  type=\"text/css\" >\n",
       "</style>  \n",
       "<table id=\"T_ccbfacd6_a137_11e8_8c78_09cdb4f4eda6\" > \n",
       "<thead>    <tr> \n",
       "        <th class=\"index_name level0\" >Length $N$</th> \n",
       "        <th class=\"col_heading level0 col0\" >Eigenvalue</th> \n",
       "        <th class=\"col_heading level0 col1\" >Eigenvector</th> \n",
       "    </tr></thead> \n",
       "<tbody>    <tr> \n",
       "        <th id=\"T_ccbfacd6_a137_11e8_8c78_09cdb4f4eda6level0_row0\" class=\"row_heading level0 row0\" >10</th> \n",
       "        <td id=\"T_ccbfacd6_a137_11e8_8c78_09cdb4f4eda6row0_col0\" class=\"data row0 col0\" >4.000000</td> \n",
       "        <td id=\"T_ccbfacd6_a137_11e8_8c78_09cdb4f4eda6row0_col1\" class=\"data row0 col1\" >[ 1., -1.,  1., -1.,  1., -1.,  1., -1.,  1., -1.]</td> \n",
       "    </tr></tbody> \n",
       "</table> "
      ],
      "text/plain": [
       "<pandas.io.formats.style.Styler at 0x7f6f76ed2dd8>"
      ]
     },
     "execution_count": 18,
     "metadata": {},
     "output_type": "execute_result"
    }
   ],
   "source": [
    "from backstage import LatticeMaxModes\n",
    "lattice_data = LatticeMaxModes()\n",
    "lattice_data.add(length=10)"
   ]
  },
  {
   "cell_type": "markdown",
   "metadata": {},
   "source": [
    "与理论结果一致。尝试改变 $N$, 对 $N = $ 奇数，有："
   ]
  },
  {
   "cell_type": "code",
   "execution_count": 19,
   "metadata": {},
   "outputs": [
    {
     "name": "stdout",
     "output_type": "stream",
     "text": [
      "`max_eigensystem`: Iteration did not converge! dim = 9, Re-trying ...\n",
      "--------------------------------\n",
      "\n",
      "N = 9, Eigenvalue (numerical result): 3.8793852415718164\n"
     ]
    },
    {
     "data": {
      "text/markdown": [
       "$\\mrm{Ref}\\colon\\ 4 \\cos^2 \\pqty{\\frac{\\pi}{2N}} \\big|_{\\,N = 9} = 3.8793852415718164 $"
      ],
      "text/plain": [
       "<IPython.core.display.Markdown object>"
      ]
     },
     "metadata": {},
     "output_type": "display_data"
    }
   ],
   "source": [
    "%precision 6\n",
    "length_N = 9\n",
    "lattice_data.add(length_N)\n",
    "\n",
    "%precision\n",
    "print('')\n",
    "lattice_data.eigenvalue_calc(length_N)\n",
    "lattice_data.eigenvalue_ref(length_N)"
   ]
  },
  {
   "cell_type": "markdown",
   "metadata": {},
   "source": [
    "同样与理论预计一致。\n",
    "\n",
    "然而，不难发现，$N = $ 奇数时，上述迭代极有可能并不收敛！只要将上一 cell 多运行几次，总能看见一两回 `did not converge!`  的报告；这也是原程序中设置 `timeout` 的主要动机。\n",
    "\n",
    "事实上，根据[参考教材](http://www.bookask.com/book/13300.html)，幂次法的收敛速度取决于 $\\abs{\\frac{\\lambda_2}{\\lambda_1}}$ , 其中 $\\lambda_1$ 是模最大本征值，而 $\\lambda_2$ 是模次大本征值；只有 $\\abs{\\lambda_1}$ *严格大于* $\\abs{\\lambda_2}$ 时，收敛性才有保证。也就是说，将本征值 $\\lambda_i$ 排成一列，应当有：\n",
    "$$ \\abs{\\lambda_1} > \\abs{\\lambda_2} \\ge \\cdots $$\n",
    "否则，幂次法完全有可能不收敛。对 $N = $ 奇数的一维原子链而言，$\\lambda_{\\max} = \\omega^2_{\\max}$ 是二重简并的，即直接有 $\\lambda_1 = \\lambda_2$, 幂法迭代不保证收敛；虽说对某些初始矢量而言，该方法实际能够收敛到某个本征矢量，但对于不同的初始值而言，最终收敛到的矢量可能是完全不同（线性无关）的，它们只不过是 $\\lambda_{\\max}$ 简并子空间中的一些特殊元素，可以有很大的任意性。而 $N = $ 偶数满足 $ \\abs{\\lambda_1} > \\abs{\\lambda_2} \\ge \\cdots $ 的条件，故其迭代收敛没有任何问题。"
   ]
  },
  {
   "cell_type": "code",
   "execution_count": 20,
   "metadata": {},
   "outputs": [
    {
     "data": {
      "text/html": [
       "<style  type=\"text/css\" >\n",
       "</style>  \n",
       "<table id=\"T_cd8082da_a137_11e8_8c78_09cdb4f4eda6\" > \n",
       "<thead>    <tr> \n",
       "        <th class=\"index_name level0\" >Length $N$</th> \n",
       "        <th class=\"col_heading level0 col0\" >Eigenvalue</th> \n",
       "        <th class=\"col_heading level0 col1\" >Eigenvector</th> \n",
       "    </tr></thead> \n",
       "<tbody>    <tr> \n",
       "        <th id=\"T_cd8082da_a137_11e8_8c78_09cdb4f4eda6level0_row0\" class=\"row_heading level0 row0\" >2</th> \n",
       "        <td id=\"T_cd8082da_a137_11e8_8c78_09cdb4f4eda6row0_col0\" class=\"data row0 col0\" >4.000000</td> \n",
       "        <td id=\"T_cd8082da_a137_11e8_8c78_09cdb4f4eda6row0_col1\" class=\"data row0 col1\" >[ 1., -1.]</td> \n",
       "    </tr>    <tr> \n",
       "        <th id=\"T_cd8082da_a137_11e8_8c78_09cdb4f4eda6level0_row1\" class=\"row_heading level0 row1\" >3</th> \n",
       "        <td id=\"T_cd8082da_a137_11e8_8c78_09cdb4f4eda6row1_col0\" class=\"data row1 col0\" >3.000000</td> \n",
       "        <td id=\"T_cd8082da_a137_11e8_8c78_09cdb4f4eda6row1_col1\" class=\"data row1 col1\" >[ 1.      , -0.580002, -0.419998]</td> \n",
       "    </tr>    <tr> \n",
       "        <th id=\"T_cd8082da_a137_11e8_8c78_09cdb4f4eda6level0_row2\" class=\"row_heading level0 row2\" >4</th> \n",
       "        <td id=\"T_cd8082da_a137_11e8_8c78_09cdb4f4eda6row2_col0\" class=\"data row2 col0\" >4.000000</td> \n",
       "        <td id=\"T_cd8082da_a137_11e8_8c78_09cdb4f4eda6row2_col1\" class=\"data row2 col1\" >[-1.,  1., -1.,  1.]</td> \n",
       "    </tr>    <tr> \n",
       "        <th id=\"T_cd8082da_a137_11e8_8c78_09cdb4f4eda6level0_row3\" class=\"row_heading level0 row3\" >5</th> \n",
       "        <td id=\"T_cd8082da_a137_11e8_8c78_09cdb4f4eda6row3_col0\" class=\"data row3 col0\" >3.618034</td> \n",
       "        <td id=\"T_cd8082da_a137_11e8_8c78_09cdb4f4eda6row3_col1\" class=\"data row3 col1\" >[ 0.611236, -0.995799,  1.      , -0.622235,  0.006798]</td> \n",
       "    </tr>    <tr> \n",
       "        <th id=\"T_cd8082da_a137_11e8_8c78_09cdb4f4eda6level0_row4\" class=\"row_heading level0 row4\" >6</th> \n",
       "        <td id=\"T_cd8082da_a137_11e8_8c78_09cdb4f4eda6row4_col0\" class=\"data row4 col0\" >4.000000</td> \n",
       "        <td id=\"T_cd8082da_a137_11e8_8c78_09cdb4f4eda6row4_col1\" class=\"data row4 col1\" >[ 1., -1.,  1., -1.,  1., -1.]</td> \n",
       "    </tr>    <tr> \n",
       "        <th id=\"T_cd8082da_a137_11e8_8c78_09cdb4f4eda6level0_row5\" class=\"row_heading level0 row5\" >7</th> \n",
       "        <td id=\"T_cd8082da_a137_11e8_8c78_09cdb4f4eda6row5_col0\" class=\"data row5 col0\" >3.801938</td> \n",
       "        <td id=\"T_cd8082da_a137_11e8_8c78_09cdb4f4eda6row5_col1\" class=\"data row5 col1\" >[ 0.712589, -0.333626, -0.111416,  0.53439 , -0.851522,  1.      ,\n",
       " -0.950415]</td> \n",
       "    </tr>    <tr> \n",
       "        <th id=\"T_cd8082da_a137_11e8_8c78_09cdb4f4eda6level0_row6\" class=\"row_heading level0 row6\" >8</th> \n",
       "        <td id=\"T_cd8082da_a137_11e8_8c78_09cdb4f4eda6row6_col0\" class=\"data row6 col0\" >4.000000</td> \n",
       "        <td id=\"T_cd8082da_a137_11e8_8c78_09cdb4f4eda6row6_col1\" class=\"data row6 col1\" >[ 1., -1.,  1., -1.,  1., -1.,  1., -1.]</td> \n",
       "    </tr>    <tr> \n",
       "        <th id=\"T_cd8082da_a137_11e8_8c78_09cdb4f4eda6level0_row7\" class=\"row_heading level0 row7\" >9</th> \n",
       "        <td id=\"T_cd8082da_a137_11e8_8c78_09cdb4f4eda6row7_col0\" class=\"data row7 col0\" >3.879385</td> \n",
       "        <td id=\"T_cd8082da_a137_11e8_8c78_09cdb4f4eda6row7_col1\" class=\"data row7 col1\" >[-0.831249,  0.58785 , -0.273548, -0.073748,  0.41215 , -0.700839,\n",
       "  0.904998, -1.      ,  0.974387]</td> \n",
       "    </tr>    <tr> \n",
       "        <th id=\"T_cd8082da_a137_11e8_8c78_09cdb4f4eda6level0_row8\" class=\"row_heading level0 row8\" >10</th> \n",
       "        <td id=\"T_cd8082da_a137_11e8_8c78_09cdb4f4eda6row8_col0\" class=\"data row8 col0\" >4.000000</td> \n",
       "        <td id=\"T_cd8082da_a137_11e8_8c78_09cdb4f4eda6row8_col1\" class=\"data row8 col1\" >[ 1., -1.,  1., -1.,  1., -1.,  1., -1.,  1., -1.]</td> \n",
       "    </tr></tbody> \n",
       "</table> "
      ],
      "text/plain": [
       "<pandas.io.formats.style.Styler at 0x7f6f73914dd8>"
      ]
     },
     "metadata": {},
     "output_type": "display_data"
    }
   ],
   "source": [
    "%precision 6\n",
    "display(lattice_data.add_multiple(range(2,9)))"
   ]
  },
  {
   "cell_type": "markdown",
   "metadata": {},
   "source": [
    "重复运行上条命令，确实可见 $N = $ 奇数时收敛到的本征矢量总在发生变化，而且迭代不收敛的情况仅在 $N = $ 奇数时发生。<br/>\n",
    "比较本征值的计算结果与理论公式，可见完全吻合："
   ]
  },
  {
   "cell_type": "code",
   "execution_count": 21,
   "metadata": {
    "scrolled": true
   },
   "outputs": [
    {
     "data": {
      "text/html": [
       "<p style=\"margin-top: 0.5ex\"></p>"
      ],
      "text/plain": [
       "<IPython.core.display.HTML object>"
      ]
     },
     "metadata": {},
     "output_type": "display_data"
    },
    {
     "data": {
      "image/png": "[encoded data removed]",
      "text/plain": [
       "<Figure size 480x320 with 1 Axes>"
      ]
     },
     "metadata": {},
     "output_type": "display_data"
    }
   ],
   "source": [
    "%matplotlib inline\n",
    "display_whitespace(.5)\n",
    "lattice_data.eigenvalues_plot()"
   ]
  },
  {
   "cell_type": "markdown",
   "metadata": {},
   "source": [
    "------\n",
    "对 $N = 3$, 我们可以进一步验证，最终收敛到的矢量 *基本上* 是任意的；首先，迭代生成 `max_size=100` 组本征矢量："
   ]
  },
  {
   "cell_type": "code",
   "execution_count": 22,
   "metadata": {},
   "outputs": [],
   "source": [
    "from backstage import LatticeMaxModes"
   ]
  },
  {
   "cell_type": "code",
   "execution_count": 23,
   "metadata": {
    "scrolled": true
   },
   "outputs": [],
   "source": [
    "length_N = 3\n",
    "lattice_data.eigenvector_list(length_N, max_size=100,\n",
    "                              output=f'csv/lattice_length{length_N}.csv');"
   ]
  },
  {
   "cell_type": "markdown",
   "metadata": {},
   "source": [
    "作图如下："
   ]
  },
  {
   "cell_type": "code",
   "execution_count": 24,
   "metadata": {
    "scrolled": false
   },
   "outputs": [
    {
     "data": {
      "application/javascript": [
       "/* Put everything inside the global mpl namespace */\n",
       "window.mpl = {};\n",
       "\n",
       "\n",
       "mpl.get_websocket_type = function() {\n",
       "    if (typeof(WebSocket) !== 'undefined') {\n",
       "        return WebSocket;\n",
       "    } else if (typeof(MozWebSocket) !== 'undefined') {\n",
       "        return MozWebSocket;\n",
       "    } else {\n",
       "        alert('Your browser does not have WebSocket support.' +\n",
       "              'Please try Chrome, Safari or Firefox ≥ 6. ' +\n",
       "              'Firefox 4 and 5 are also supported but you ' +\n",
       "              'have to enable WebSockets in about:config.');\n",
       "    };\n",
       "}\n",
       "\n",
       "mpl.figure = function(figure_id, websocket, ondownload, parent_element) {\n",
       "    this.id = figure_id;\n",
       "\n",
       "    this.ws = websocket;\n",
       "\n",
       "    this.supports_binary = (this.ws.binaryType != undefined);\n",
       "\n",
       "    if (!this.supports_binary) {\n",
       "        var warnings = document.getElementById(\"mpl-warnings\");\n",
       "        if (warnings) {\n",
       "            warnings.style.display = 'block';\n",
       "            warnings.textContent = (\n",
       "                \"This browser does not support binary websocket messages. \" +\n",
       "                    \"Performance may be slow.\");\n",
       "        }\n",
       "    }\n",
       "\n",
       "    this.imageObj = new Image();\n",
       "\n",
       "    this.context = undefined;\n",
       "    this.message = undefined;\n",
       "    this.canvas = undefined;\n",
       "    this.rubberband_canvas = undefined;\n",
       "    this.rubberband_context = undefined;\n",
       "    this.format_dropdown = undefined;\n",
       "\n",
       "    this.image_mode = 'full';\n",
       "\n",
       "    this.root = $('<div/>');\n",
       "    this._root_extra_style(this.root)\n",
       "    this.root.attr('style', 'display: inline-block');\n",
       "\n",
       "    $(parent_element).append(this.root);\n",
       "\n",
       "    this._init_header(this);\n",
       "    this._init_canvas(this);\n",
       "    this._init_toolbar(this);\n",
       "\n",
       "    var fig = this;\n",
       "\n",
       "    this.waiting = false;\n",
       "\n",
       "    this.ws.onopen =  function () {\n",
       "            fig.send_message(\"supports_binary\", {value: fig.supports_binary});\n",
       "            fig.send_message(\"send_image_mode\", {});\n",
       "            if (mpl.ratio != 1) {\n",
       "                fig.send_message(\"set_dpi_ratio\", {'dpi_ratio': mpl.ratio});\n",
       "            }\n",
       "            fig.send_message(\"refresh\", {});\n",
       "        }\n",
       "\n",
       "    this.imageObj.onload = function() {\n",
       "            if (fig.image_mode == 'full') {\n",
       "                // Full images could contain transparency (where diff images\n",
       "                // almost always do), so we need to clear the canvas so that\n",
       "                // there is no ghosting.\n",
       "                fig.context.clearRect(0, 0, fig.canvas.width, fig.canvas.height);\n",
       "            }\n",
       "            fig.context.drawImage(fig.imageObj, 0, 0);\n",
       "        };\n",
       "\n",
       "    this.imageObj.onunload = function() {\n",
       "        fig.ws.close();\n",
       "    }\n",
       "\n",
       "    this.ws.onmessage = this._make_on_message_function(this);\n",
       "\n",
       "    this.ondownload = ondownload;\n",
       "}\n",
       "\n",
       "mpl.figure.prototype._init_header = function() {\n",
       "    var titlebar = $(\n",
       "        '<div class=\"ui-dialog-titlebar ui-widget-header ui-corner-all ' +\n",
       "        'ui-helper-clearfix\"/>');\n",
       "    var titletext = $(\n",
       "        '<div class=\"ui-dialog-title\" style=\"width: 100%; ' +\n",
       "        'text-align: center; padding: 3px;\"/>');\n",
       "    titlebar.append(titletext)\n",
       "    this.root.append(titlebar);\n",
       "    this.header = titletext[0];\n",
       "}\n",
       "\n",
       "\n",
       "\n",
       "mpl.figure.prototype._canvas_extra_style = function(canvas_div) {\n",
       "\n",
       "}\n",
       "\n",
       "\n",
       "mpl.figure.prototype._root_extra_style = function(canvas_div) {\n",
       "\n",
       "}\n",
       "\n",
       "mpl.figure.prototype._init_canvas = function() {\n",
       "    var fig = this;\n",
       "\n",
       "    var canvas_div = $('<div/>');\n",
       "\n",
       "    canvas_div.attr('style', 'position: relative; clear: both; outline: 0');\n",
       "\n",
       "    function canvas_keyboard_event(event) {\n",
       "        return fig.key_event(event, event['data']);\n",
       "    }\n",
       "\n",
       "    canvas_div.keydown('key_press', canvas_keyboard_event);\n",
       "    canvas_div.keyup('key_release', canvas_keyboard_event);\n",
       "    this.canvas_div = canvas_div\n",
       "    this._canvas_extra_style(canvas_div)\n",
       "    this.root.append(canvas_div);\n",
       "\n",
       "    var canvas = $('<canvas/>');\n",
       "    canvas.addClass('mpl-canvas');\n",
       "    canvas.attr('style', \"left: 0; top: 0; z-index: 0; outline: 0\")\n",
       "\n",
       "    this.canvas = canvas[0];\n",
       "    this.context = canvas[0].getContext(\"2d\");\n",
       "\n",
       "    var backingStore = this.context.backingStorePixelRatio ||\n",
       "\tthis.context.webkitBackingStorePixelRatio ||\n",
       "\tthis.context.mozBackingStorePixelRatio ||\n",
       "\tthis.context.msBackingStorePixelRatio ||\n",
       "\tthis.context.oBackingStorePixelRatio ||\n",
       "\tthis.context.backingStorePixelRatio || 1;\n",
       "\n",
       "    mpl.ratio = (window.devicePixelRatio || 1) / backingStore;\n",
       "\n",
       "    var rubberband = $('<canvas/>');\n",
       "    rubberband.attr('style', \"position: absolute; left: 0; top: 0; z-index: 1;\")\n",
       "\n",
       "    var pass_mouse_events = true;\n",
       "\n",
       "    canvas_div.resizable({\n",
       "        start: function(event, ui) {\n",
       "            pass_mouse_events = false;\n",
       "        },\n",
       "        resize: function(event, ui) {\n",
       "            fig.request_resize(ui.size.width, ui.size.height);\n",
       "        },\n",
       "        stop: function(event, ui) {\n",
       "            pass_mouse_events = true;\n",
       "            fig.request_resize(ui.size.width, ui.size.height);\n",
       "        },\n",
       "    });\n",
       "\n",
       "    function mouse_event_fn(event) {\n",
       "        if (pass_mouse_events)\n",
       "            return fig.mouse_event(event, event['data']);\n",
       "    }\n",
       "\n",
       "    rubberband.mousedown('button_press', mouse_event_fn);\n",
       "    rubberband.mouseup('button_release', mouse_event_fn);\n",
       "    // Throttle sequential mouse events to 1 every 20ms.\n",
       "    rubberband.mousemove('motion_notify', mouse_event_fn);\n",
       "\n",
       "    rubberband.mouseenter('figure_enter', mouse_event_fn);\n",
       "    rubberband.mouseleave('figure_leave', mouse_event_fn);\n",
       "\n",
       "    canvas_div.on(\"wheel\", function (event) {\n",
       "        event = event.originalEvent;\n",
       "        event['data'] = 'scroll'\n",
       "        if (event.deltaY < 0) {\n",
       "            event.step = 1;\n",
       "        } else {\n",
       "            event.step = -1;\n",
       "        }\n",
       "        mouse_event_fn(event);\n",
       "    });\n",
       "\n",
       "    canvas_div.append(canvas);\n",
       "    canvas_div.append(rubberband);\n",
       "\n",
       "    this.rubberband = rubberband;\n",
       "    this.rubberband_canvas = rubberband[0];\n",
       "    this.rubberband_context = rubberband[0].getContext(\"2d\");\n",
       "    this.rubberband_context.strokeStyle = \"#000000\";\n",
       "\n",
       "    this._resize_canvas = function(width, height) {\n",
       "        // Keep the size of the canvas, canvas container, and rubber band\n",
       "        // canvas in synch.\n",
       "        canvas_div.css('width', width)\n",
       "        canvas_div.css('height', height)\n",
       "\n",
       "        canvas.attr('width', width * mpl.ratio);\n",
       "        canvas.attr('height', height * mpl.ratio);\n",
       "        canvas.attr('style', 'width: ' + width + 'px; height: ' + height + 'px;');\n",
       "\n",
       "        rubberband.attr('width', width);\n",
       "        rubberband.attr('height', height);\n",
       "    }\n",
       "\n",
       "    // Set the figure to an initial 600x600px, this will subsequently be updated\n",
       "    // upon first draw.\n",
       "    this._resize_canvas(600, 600);\n",
       "\n",
       "    // Disable right mouse context menu.\n",
       "    $(this.rubberband_canvas).bind(\"contextmenu\",function(e){\n",
       "        return false;\n",
       "    });\n",
       "\n",
       "    function set_focus () {\n",
       "        canvas.focus();\n",
       "        canvas_div.focus();\n",
       "    }\n",
       "\n",
       "    window.setTimeout(set_focus, 100);\n",
       "}\n",
       "\n",
       "mpl.figure.prototype._init_toolbar = function() {\n",
       "    var fig = this;\n",
       "\n",
       "    var nav_element = $('<div/>')\n",
       "    nav_element.attr('style', 'width: 100%');\n",
       "    this.root.append(nav_element);\n",
       "\n",
       "    // Define a callback function for later on.\n",
       "    function toolbar_event(event) {\n",
       "        return fig.toolbar_button_onclick(event['data']);\n",
       "    }\n",
       "    function toolbar_mouse_event(event) {\n",
       "        return fig.toolbar_button_onmouseover(event['data']);\n",
       "    }\n",
       "\n",
       "    for(var toolbar_ind in mpl.toolbar_items) {\n",
       "        var name = mpl.toolbar_items[toolbar_ind][0];\n",
       "        var tooltip = mpl.toolbar_items[toolbar_ind][1];\n",
       "        var image = mpl.toolbar_items[toolbar_ind][2];\n",
       "        var method_name = mpl.toolbar_items[toolbar_ind][3];\n",
       "\n",
       "        if (!name) {\n",
       "            // put a spacer in here.\n",
       "            continue;\n",
       "        }\n",
       "        var button = $('<button/>');\n",
       "        button.addClass('ui-button ui-widget ui-state-default ui-corner-all ' +\n",
       "                        'ui-button-icon-only');\n",
       "        button.attr('role', 'button');\n",
       "        button.attr('aria-disabled', 'false');\n",
       "        button.click(method_name, toolbar_event);\n",
       "        button.mouseover(tooltip, toolbar_mouse_event);\n",
       "\n",
       "        var icon_img = $('<span/>');\n",
       "        icon_img.addClass('ui-button-icon-primary ui-icon');\n",
       "        icon_img.addClass(image);\n",
       "        icon_img.addClass('ui-corner-all');\n",
       "\n",
       "        var tooltip_span = $('<span/>');\n",
       "        tooltip_span.addClass('ui-button-text');\n",
       "        tooltip_span.html(tooltip);\n",
       "\n",
       "        button.append(icon_img);\n",
       "        button.append(tooltip_span);\n",
       "\n",
       "        nav_element.append(button);\n",
       "    }\n",
       "\n",
       "    var fmt_picker_span = $('<span/>');\n",
       "\n",
       "    var fmt_picker = $('<select/>');\n",
       "    fmt_picker.addClass('mpl-toolbar-option ui-widget ui-widget-content');\n",
       "    fmt_picker_span.append(fmt_picker);\n",
       "    nav_element.append(fmt_picker_span);\n",
       "    this.format_dropdown = fmt_picker[0];\n",
       "\n",
       "    for (var ind in mpl.extensions) {\n",
       "        var fmt = mpl.extensions[ind];\n",
       "        var option = $(\n",
       "            '<option/>', {selected: fmt === mpl.default_extension}).html(fmt);\n",
       "        fmt_picker.append(option)\n",
       "    }\n",
       "\n",
       "    // Add hover states to the ui-buttons\n",
       "    $( \".ui-button\" ).hover(\n",
       "        function() { $(this).addClass(\"ui-state-hover\");},\n",
       "        function() { $(this).removeClass(\"ui-state-hover\");}\n",
       "    );\n",
       "\n",
       "    var status_bar = $('<span class=\"mpl-message\"/>');\n",
       "    nav_element.append(status_bar);\n",
       "    this.message = status_bar[0];\n",
       "}\n",
       "\n",
       "mpl.figure.prototype.request_resize = function(x_pixels, y_pixels) {\n",
       "    // Request matplotlib to resize the figure. Matplotlib will then trigger a resize in the client,\n",
       "    // which will in turn request a refresh of the image.\n",
       "    this.send_message('resize', {'width': x_pixels, 'height': y_pixels});\n",
       "}\n",
       "\n",
       "mpl.figure.prototype.send_message = function(type, properties) {\n",
       "    properties['type'] = type;\n",
       "    properties['figure_id'] = this.id;\n",
       "    this.ws.send(JSON.stringify(properties));\n",
       "}\n",
       "\n",
       "mpl.figure.prototype.send_draw_message = function() {\n",
       "    if (!this.waiting) {\n",
       "        this.waiting = true;\n",
       "        this.ws.send(JSON.stringify({type: \"draw\", figure_id: this.id}));\n",
       "    }\n",
       "}\n",
       "\n",
       "\n",
       "mpl.figure.prototype.handle_save = function(fig, msg) {\n",
       "    var format_dropdown = fig.format_dropdown;\n",
       "    var format = format_dropdown.options[format_dropdown.selectedIndex].value;\n",
       "    fig.ondownload(fig, format);\n",
       "}\n",
       "\n",
       "\n",
       "mpl.figure.prototype.handle_resize = function(fig, msg) {\n",
       "    var size = msg['size'];\n",
       "    if (size[0] != fig.canvas.width || size[1] != fig.canvas.height) {\n",
       "        fig._resize_canvas(size[0], size[1]);\n",
       "        fig.send_message(\"refresh\", {});\n",
       "    };\n",
       "}\n",
       "\n",
       "mpl.figure.prototype.handle_rubberband = function(fig, msg) {\n",
       "    var x0 = msg['x0'] / mpl.ratio;\n",
       "    var y0 = (fig.canvas.height - msg['y0']) / mpl.ratio;\n",
       "    var x1 = msg['x1'] / mpl.ratio;\n",
       "    var y1 = (fig.canvas.height - msg['y1']) / mpl.ratio;\n",
       "    x0 = Math.floor(x0) + 0.5;\n",
       "    y0 = Math.floor(y0) + 0.5;\n",
       "    x1 = Math.floor(x1) + 0.5;\n",
       "    y1 = Math.floor(y1) + 0.5;\n",
       "    var min_x = Math.min(x0, x1);\n",
       "    var min_y = Math.min(y0, y1);\n",
       "    var width = Math.abs(x1 - x0);\n",
       "    var height = Math.abs(y1 - y0);\n",
       "\n",
       "    fig.rubberband_context.clearRect(\n",
       "        0, 0, fig.canvas.width, fig.canvas.height);\n",
       "\n",
       "    fig.rubberband_context.strokeRect(min_x, min_y, width, height);\n",
       "}\n",
       "\n",
       "mpl.figure.prototype.handle_figure_label = function(fig, msg) {\n",
       "    // Updates the figure title.\n",
       "    fig.header.textContent = msg['label'];\n",
       "}\n",
       "\n",
       "mpl.figure.prototype.handle_cursor = function(fig, msg) {\n",
       "    var cursor = msg['cursor'];\n",
       "    switch(cursor)\n",
       "    {\n",
       "    case 0:\n",
       "        cursor = 'pointer';\n",
       "        break;\n",
       "    case 1:\n",
       "        cursor = 'default';\n",
       "        break;\n",
       "    case 2:\n",
       "        cursor = 'crosshair';\n",
       "        break;\n",
       "    case 3:\n",
       "        cursor = 'move';\n",
       "        break;\n",
       "    }\n",
       "    fig.rubberband_canvas.style.cursor = cursor;\n",
       "}\n",
       "\n",
       "mpl.figure.prototype.handle_message = function(fig, msg) {\n",
       "    fig.message.textContent = msg['message'];\n",
       "}\n",
       "\n",
       "mpl.figure.prototype.handle_draw = function(fig, msg) {\n",
       "    // Request the server to send over a new figure.\n",
       "    fig.send_draw_message();\n",
       "}\n",
       "\n",
       "mpl.figure.prototype.handle_image_mode = function(fig, msg) {\n",
       "    fig.image_mode = msg['mode'];\n",
       "}\n",
       "\n",
       "mpl.figure.prototype.updated_canvas_event = function() {\n",
       "    // Called whenever the canvas gets updated.\n",
       "    this.send_message(\"ack\", {});\n",
       "}\n",
       "\n",
       "// A function to construct a web socket function for onmessage handling.\n",
       "// Called in the figure constructor.\n",
       "mpl.figure.prototype._make_on_message_function = function(fig) {\n",
       "    return function socket_on_message(evt) {\n",
       "        if (evt.data instanceof Blob) {\n",
       "            /* FIXME: We get \"Resource interpreted as Image but\n",
       "             * transferred with MIME type text/plain:\" errors on\n",
       "             * Chrome.  But how to set the MIME type?  It doesn't seem\n",
       "             * to be part of the websocket stream */\n",
       "            evt.data.type = \"image/png\";\n",
       "\n",
       "            /* Free the memory for the previous frames */\n",
       "            if (fig.imageObj.src) {\n",
       "                (window.URL || window.webkitURL).revokeObjectURL(\n",
       "                    fig.imageObj.src);\n",
       "            }\n",
       "\n",
       "            fig.imageObj.src = (window.URL || window.webkitURL).createObjectURL(\n",
       "                evt.data);\n",
       "            fig.updated_canvas_event();\n",
       "            fig.waiting = false;\n",
       "            return;\n",
       "        }\n",
       "        else if (typeof evt.data === 'string' && evt.data.slice(0, 21) == \"data:image/png;base64\") {\n",
       "            fig.imageObj.src = evt.data;\n",
       "            fig.updated_canvas_event();\n",
       "            fig.waiting = false;\n",
       "            return;\n",
       "        }\n",
       "\n",
       "        var msg = JSON.parse(evt.data);\n",
       "        var msg_type = msg['type'];\n",
       "\n",
       "        // Call the  \"handle_{type}\" callback, which takes\n",
       "        // the figure and JSON message as its only arguments.\n",
       "        try {\n",
       "            var callback = fig[\"handle_\" + msg_type];\n",
       "        } catch (e) {\n",
       "            console.log(\"No handler for the '\" + msg_type + \"' message type: \", msg);\n",
       "            return;\n",
       "        }\n",
       "\n",
       "        if (callback) {\n",
       "            try {\n",
       "                // console.log(\"Handling '\" + msg_type + \"' message: \", msg);\n",
       "                callback(fig, msg);\n",
       "            } catch (e) {\n",
       "                console.log(\"Exception inside the 'handler_\" + msg_type + \"' callback:\", e, e.stack, msg);\n",
       "            }\n",
       "        }\n",
       "    };\n",
       "}\n",
       "\n",
       "// from http://stackoverflow.com/questions/1114465/getting-mouse-location-in-canvas\n",
       "mpl.findpos = function(e) {\n",
       "    //this section is from http://www.quirksmode.org/js/events_properties.html\n",
       "    var targ;\n",
       "    if (!e)\n",
       "        e = window.event;\n",
       "    if (e.target)\n",
       "        targ = e.target;\n",
       "    else if (e.srcElement)\n",
       "        targ = e.srcElement;\n",
       "    if (targ.nodeType == 3) // defeat Safari bug\n",
       "        targ = targ.parentNode;\n",
       "\n",
       "    // jQuery normalizes the pageX and pageY\n",
       "    // pageX,Y are the mouse positions relative to the document\n",
       "    // offset() returns the position of the element relative to the document\n",
       "    var x = e.pageX - $(targ).offset().left;\n",
       "    var y = e.pageY - $(targ).offset().top;\n",
       "\n",
       "    return {\"x\": x, \"y\": y};\n",
       "};\n",
       "\n",
       "/*\n",
       " * return a copy of an object with only non-object keys\n",
       " * we need this to avoid circular references\n",
       " * http://stackoverflow.com/a/24161582/3208463\n",
       " */\n",
       "function simpleKeys (original) {\n",
       "  return Object.keys(original).reduce(function (obj, key) {\n",
       "    if (typeof original[key] !== 'object')\n",
       "        obj[key] = original[key]\n",
       "    return obj;\n",
       "  }, {});\n",
       "}\n",
       "\n",
       "mpl.figure.prototype.mouse_event = function(event, name) {\n",
       "    var canvas_pos = mpl.findpos(event)\n",
       "\n",
       "    if (name === 'button_press')\n",
       "    {\n",
       "        this.canvas.focus();\n",
       "        this.canvas_div.focus();\n",
       "    }\n",
       "\n",
       "    var x = canvas_pos.x * mpl.ratio;\n",
       "    var y = canvas_pos.y * mpl.ratio;\n",
       "\n",
       "    this.send_message(name, {x: x, y: y, button: event.button,\n",
       "                             step: event.step,\n",
       "                             guiEvent: simpleKeys(event)});\n",
       "\n",
       "    /* This prevents the web browser from automatically changing to\n",
       "     * the text insertion cursor when the button is pressed.  We want\n",
       "     * to control all of the cursor setting manually through the\n",
       "     * 'cursor' event from matplotlib */\n",
       "    event.preventDefault();\n",
       "    return false;\n",
       "}\n",
       "\n",
       "mpl.figure.prototype._key_event_extra = function(event, name) {\n",
       "    // Handle any extra behaviour associated with a key event\n",
       "}\n",
       "\n",
       "mpl.figure.prototype.key_event = function(event, name) {\n",
       "\n",
       "    // Prevent repeat events\n",
       "    if (name == 'key_press')\n",
       "    {\n",
       "        if (event.which === this._key)\n",
       "            return;\n",
       "        else\n",
       "            this._key = event.which;\n",
       "    }\n",
       "    if (name == 'key_release')\n",
       "        this._key = null;\n",
       "\n",
       "    var value = '';\n",
       "    if (event.ctrlKey && event.which != 17)\n",
       "        value += \"ctrl+\";\n",
       "    if (event.altKey && event.which != 18)\n",
       "        value += \"alt+\";\n",
       "    if (event.shiftKey && event.which != 16)\n",
       "        value += \"shift+\";\n",
       "\n",
       "    value += 'k';\n",
       "    value += event.which.toString();\n",
       "\n",
       "    this._key_event_extra(event, name);\n",
       "\n",
       "    this.send_message(name, {key: value,\n",
       "                             guiEvent: simpleKeys(event)});\n",
       "    return false;\n",
       "}\n",
       "\n",
       "mpl.figure.prototype.toolbar_button_onclick = function(name) {\n",
       "    if (name == 'download') {\n",
       "        this.handle_save(this, null);\n",
       "    } else {\n",
       "        this.send_message(\"toolbar_button\", {name: name});\n",
       "    }\n",
       "};\n",
       "\n",
       "mpl.figure.prototype.toolbar_button_onmouseover = function(tooltip) {\n",
       "    this.message.textContent = tooltip;\n",
       "};\n",
       "mpl.toolbar_items = [[\"Home\", \"Reset original view\", \"fa fa-home icon-home\", \"home\"], [\"Back\", \"Back to  previous view\", \"fa fa-arrow-left icon-arrow-left\", \"back\"], [\"Forward\", \"Forward to next view\", \"fa fa-arrow-right icon-arrow-right\", \"forward\"], [\"\", \"\", \"\", \"\"], [\"Pan\", \"Pan axes with left mouse, zoom with right\", \"fa fa-arrows icon-move\", \"pan\"], [\"Zoom\", \"Zoom to rectangle\", \"fa fa-square-o icon-check-empty\", \"zoom\"], [\"\", \"\", \"\", \"\"], [\"Download\", \"Download plot\", \"fa fa-floppy-o icon-save\", \"download\"]];\n",
       "\n",
       "mpl.extensions = [\"eps\", \"jpeg\", \"pdf\", \"png\", \"ps\", \"raw\", \"svg\", \"tif\"];\n",
       "\n",
       "mpl.default_extension = \"png\";var comm_websocket_adapter = function(comm) {\n",
       "    // Create a \"websocket\"-like object which calls the given IPython comm\n",
       "    // object with the appropriate methods. Currently this is a non binary\n",
       "    // socket, so there is still some room for performance tuning.\n",
       "    var ws = {};\n",
       "\n",
       "    ws.close = function() {\n",
       "        comm.close()\n",
       "    };\n",
       "    ws.send = function(m) {\n",
       "        //console.log('sending', m);\n",
       "        comm.send(m);\n",
       "    };\n",
       "    // Register the callback with on_msg.\n",
       "    comm.on_msg(function(msg) {\n",
       "        //console.log('receiving', msg['content']['data'], msg);\n",
       "        // Pass the mpl event to the overridden (by mpl) onmessage function.\n",
       "        ws.onmessage(msg['content']['data'])\n",
       "    });\n",
       "    return ws;\n",
       "}\n",
       "\n",
       "mpl.mpl_figure_comm = function(comm, msg) {\n",
       "    // This is the function which gets called when the mpl process\n",
       "    // starts-up an IPython Comm through the \"matplotlib\" channel.\n",
       "\n",
       "    var id = msg.content.data.id;\n",
       "    // Get hold of the div created by the display call when the Comm\n",
       "    // socket was opened in Python.\n",
       "    var element = $(\"#\" + id);\n",
       "    var ws_proxy = comm_websocket_adapter(comm)\n",
       "\n",
       "    function ondownload(figure, format) {\n",
       "        window.open(figure.imageObj.src);\n",
       "    }\n",
       "\n",
       "    var fig = new mpl.figure(id, ws_proxy,\n",
       "                           ondownload,\n",
       "                           element.get(0));\n",
       "\n",
       "    // Call onopen now - mpl needs it, as it is assuming we've passed it a real\n",
       "    // web socket which is closed, not our websocket->open comm proxy.\n",
       "    ws_proxy.onopen();\n",
       "\n",
       "    fig.parent_element = element.get(0);\n",
       "    fig.cell_info = mpl.find_output_cell(\"<div id='\" + id + \"'></div>\");\n",
       "    if (!fig.cell_info) {\n",
       "        console.error(\"Failed to find cell for figure\", id, fig);\n",
       "        return;\n",
       "    }\n",
       "\n",
       "    var output_index = fig.cell_info[2]\n",
       "    var cell = fig.cell_info[0];\n",
       "\n",
       "};\n",
       "\n",
       "mpl.figure.prototype.handle_close = function(fig, msg) {\n",
       "    var width = fig.canvas.width/mpl.ratio\n",
       "    fig.root.unbind('remove')\n",
       "\n",
       "    // Update the output cell to use the data from the current canvas.\n",
       "    fig.push_to_output();\n",
       "    var dataURL = fig.canvas.toDataURL();\n",
       "    // Re-enable the keyboard manager in IPython - without this line, in FF,\n",
       "    // the notebook keyboard shortcuts fail.\n",
       "    IPython.keyboard_manager.enable()\n",
       "    $(fig.parent_element).html('<img src=\"' + dataURL + '\" width=\"' + width + '\">');\n",
       "    fig.close_ws(fig, msg);\n",
       "}\n",
       "\n",
       "mpl.figure.prototype.close_ws = function(fig, msg){\n",
       "    fig.send_message('closing', msg);\n",
       "    // fig.ws.close()\n",
       "}\n",
       "\n",
       "mpl.figure.prototype.push_to_output = function(remove_interactive) {\n",
       "    // Turn the data on the canvas into data in the output cell.\n",
       "    var width = this.canvas.width/mpl.ratio\n",
       "    var dataURL = this.canvas.toDataURL();\n",
       "    this.cell_info[1]['text/html'] = '<img src=\"' + dataURL + '\" width=\"' + width + '\">';\n",
       "}\n",
       "\n",
       "mpl.figure.prototype.updated_canvas_event = function() {\n",
       "    // Tell IPython that the notebook contents must change.\n",
       "    IPython.notebook.set_dirty(true);\n",
       "    this.send_message(\"ack\", {});\n",
       "    var fig = this;\n",
       "    // Wait a second, then push the new image to the DOM so\n",
       "    // that it is saved nicely (might be nice to debounce this).\n",
       "    setTimeout(function () { fig.push_to_output() }, 1000);\n",
       "}\n",
       "\n",
       "mpl.figure.prototype._init_toolbar = function() {\n",
       "    var fig = this;\n",
       "\n",
       "    var nav_element = $('<div/>')\n",
       "    nav_element.attr('style', 'width: 100%');\n",
       "    this.root.append(nav_element);\n",
       "\n",
       "    // Define a callback function for later on.\n",
       "    function toolbar_event(event) {\n",
       "        return fig.toolbar_button_onclick(event['data']);\n",
       "    }\n",
       "    function toolbar_mouse_event(event) {\n",
       "        return fig.toolbar_button_onmouseover(event['data']);\n",
       "    }\n",
       "\n",
       "    for(var toolbar_ind in mpl.toolbar_items){\n",
       "        var name = mpl.toolbar_items[toolbar_ind][0];\n",
       "        var tooltip = mpl.toolbar_items[toolbar_ind][1];\n",
       "        var image = mpl.toolbar_items[toolbar_ind][2];\n",
       "        var method_name = mpl.toolbar_items[toolbar_ind][3];\n",
       "\n",
       "        if (!name) { continue; };\n",
       "\n",
       "        var button = $('<button class=\"btn btn-default\" href=\"#\" title=\"' + name + '\"><i class=\"fa ' + image + ' fa-lg\"></i></button>');\n",
       "        button.click(method_name, toolbar_event);\n",
       "        button.mouseover(tooltip, toolbar_mouse_event);\n",
       "        nav_element.append(button);\n",
       "    }\n",
       "\n",
       "    // Add the status bar.\n",
       "    var status_bar = $('<span class=\"mpl-message\" style=\"text-align:right; float: right;\"/>');\n",
       "    nav_element.append(status_bar);\n",
       "    this.message = status_bar[0];\n",
       "\n",
       "    // Add the close button to the window.\n",
       "    var buttongrp = $('<div class=\"btn-group inline pull-right\"></div>');\n",
       "    var button = $('<button class=\"btn btn-mini btn-primary\" href=\"#\" title=\"Stop Interaction\"><i class=\"fa fa-power-off icon-remove icon-large\"></i></button>');\n",
       "    button.click(function (evt) { fig.handle_close(fig, {}); } );\n",
       "    button.mouseover('Stop Interaction', toolbar_mouse_event);\n",
       "    buttongrp.append(button);\n",
       "    var titlebar = this.root.find($('.ui-dialog-titlebar'));\n",
       "    titlebar.prepend(buttongrp);\n",
       "}\n",
       "\n",
       "mpl.figure.prototype._root_extra_style = function(el){\n",
       "    var fig = this\n",
       "    el.on(\"remove\", function(){\n",
       "\tfig.close_ws(fig, {});\n",
       "    });\n",
       "}\n",
       "\n",
       "mpl.figure.prototype._canvas_extra_style = function(el){\n",
       "    // this is important to make the div 'focusable\n",
       "    el.attr('tabindex', 0)\n",
       "    // reach out to IPython and tell the keyboard manager to turn it's self\n",
       "    // off when our div gets focus\n",
       "\n",
       "    // location in version 3\n",
       "    if (IPython.notebook.keyboard_manager) {\n",
       "        IPython.notebook.keyboard_manager.register_events(el);\n",
       "    }\n",
       "    else {\n",
       "        // location in version 2\n",
       "        IPython.keyboard_manager.register_events(el);\n",
       "    }\n",
       "\n",
       "}\n",
       "\n",
       "mpl.figure.prototype._key_event_extra = function(event, name) {\n",
       "    var manager = IPython.notebook.keyboard_manager;\n",
       "    if (!manager)\n",
       "        manager = IPython.keyboard_manager;\n",
       "\n",
       "    // Check for shift+enter\n",
       "    if (event.shiftKey && event.which == 13) {\n",
       "        this.canvas_div.blur();\n",
       "        event.shiftKey = false;\n",
       "        // Send a \"J\" for go to next cell\n",
       "        event.which = 74;\n",
       "        event.keyCode = 74;\n",
       "        manager.command_mode();\n",
       "        manager.handle_keydown(event);\n",
       "    }\n",
       "}\n",
       "\n",
       "mpl.figure.prototype.handle_save = function(fig, msg) {\n",
       "    fig.ondownload(fig, null);\n",
       "}\n",
       "\n",
       "\n",
       "mpl.find_output_cell = function(html_output) {\n",
       "    // Return the cell and output element which can be found *uniquely* in the notebook.\n",
       "    // Note - this is a bit hacky, but it is done because the \"notebook_saving.Notebook\"\n",
       "    // IPython event is triggered only after the cells have been serialised, which for\n",
       "    // our purposes (turning an active figure into a static one), is too late.\n",
       "    var cells = IPython.notebook.get_cells();\n",
       "    var ncells = cells.length;\n",
       "    for (var i=0; i<ncells; i++) {\n",
       "        var cell = cells[i];\n",
       "        if (cell.cell_type === 'code'){\n",
       "            for (var j=0; j<cell.output_area.outputs.length; j++) {\n",
       "                var data = cell.output_area.outputs[j];\n",
       "                if (data.data) {\n",
       "                    // IPython >= 3 moved mimebundle to data attribute of output\n",
       "                    data = data.data;\n",
       "                }\n",
       "                if (data['text/html'] == html_output) {\n",
       "                    return [cell, data, j];\n",
       "                }\n",
       "            }\n",
       "        }\n",
       "    }\n",
       "}\n",
       "\n",
       "// Register the function which deals with the matplotlib target/channel.\n",
       "// The kernel may be null if the page has been refreshed.\n",
       "if (IPython.notebook.kernel != null) {\n",
       "    IPython.notebook.kernel.comm_manager.register_target('matplotlib', mpl.mpl_figure_comm);\n",
       "}\n"
      ],
      "text/plain": [
       "<IPython.core.display.Javascript object>"
      ]
     },
     "metadata": {},
     "output_type": "display_data"
    },
    {
     "data": {
      "text/html": [
       "<img src=\"data:image/png;base64,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\" width=\"599.999976158143\">"
      ],
      "text/plain": [
       "<IPython.core.display.HTML object>"
      ]
     },
     "metadata": {},
     "output_type": "display_data"
    }
   ],
   "source": [
    "from backstage import eigenvectors_plot_3d\n",
    "\n",
    "if pdfshowOption['mini'] is True:\n",
    "    # STILL IMAGE:\n",
    "    %matplotlib inline\n",
    "else:\n",
    "    # INTERACTIVE VERSION:\n",
    "    %matplotlib notebook\n",
    "    %matplotlib notebook\n",
    "    %matplotlib notebook\n",
    "    # Why repeat three times?\n",
    "    # This is a bug of ipynb:\n",
    "    # ... see: <stackoverflow.com/a/41251483>\n",
    "    # ... and: <github.com/jupyter/notebook/issues/473>\n",
    "    # If still, nothing shows up,\n",
    "    # ... just use `%matplotlib inline` (less fun).\n",
    "\n",
    "eigenvectors_plot_3d(f'csv/lattice_length{length_N}.csv')"
   ]
  },
  {
   "cell_type": "markdown",
   "metadata": {},
   "source": [
    "可见本征矢量落在 $\\lambda_{\\max}$ 对应的二维子空间中，且其方向的确基本上是任意的。\n",
    "\n",
    "综上，幂次法在 $\\abs{\\lambda}_{\\max}$ 严格最大的情况下是很好用的；若 $\\abs{\\lambda}_{\\max}$ 并非严格最大，则幂次法的收敛性没有保障。然而，通过重取迭代起点、多次实验，往往也能得到丰富的信息（只是此时应恰当设计程序以避免卡死）。"
   ]
  },
  {
   "cell_type": "code",
   "execution_count": 25,
   "metadata": {
    "scrolled": true
   },
   "outputs": [
    {
     "data": {
      "application/javascript": [
       "IPython.notebook.save_notebook()"
      ],
      "text/plain": [
       "<IPython.core.display.Javascript object>"
      ]
     },
     "metadata": {},
     "output_type": "display_data"
    },
    {
     "name": "stderr",
     "output_type": "stream",
     "text": [
      "[NbConvertApp] Converting notebook ex3.ipynb to script\n"
     ]
    }
   ],
   "source": [
    "goodbye('ex3')"
   ]
  }
 ],
 "metadata": {
  "kernelspec": {
   "display_name": "Python 3",
   "language": "python",
   "name": "python3"
  },
  "language_info": {
   "codemirror_mode": {
    "name": "ipython",
    "version": 3
   },
   "file_extension": ".py",
   "mimetype": "text/x-python",
   "name": "python",
   "nbconvert_exporter": "python",
   "pygments_lexer": "ipython3",
   "version": "3.7.0"
  }
 },
 "nbformat": 4,
 "nbformat_minor": 2
}
