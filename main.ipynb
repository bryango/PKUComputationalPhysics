{
 "cells": [
  {
   "cell_type": "code",
   "execution_count": 1,
   "metadata": {
    "scrolled": true
   },
   "outputs": [
    {
     "data": {
      "application/javascript": [
       "\n",
       "//// full url\n",
       "function full_url(relative_url) {\n",
       "    var link = document.createElement(\"a\");\n",
       "    link.href = relative_url;\n",
       "    return (link.protocol+\"//\"+link.host+link.pathname+link.search+link.hash);\n",
       "}\n",
       "var root_url = full_url('/')\n",
       "\n",
       "//// `files` url\n",
       "function files_url(relative_url) {\n",
       "    var relative_to_root = full_url(relative_url).replace(\n",
       "        root_url, ''\n",
       "    ).replace(\n",
       "        'notebooks', 'files'\n",
       "    );\n",
       "    return (root_url + relative_to_root);\n",
       "}\n",
       "\n",
       "//// Get notebook `/files/` url\n",
       "var command = ('pdfshowOption[\"notebook_url\"] = notebook_files = \"'\n",
       "    + files_url('./') + '\"');\n",
       "IPython.notebook.kernel.execute(command);\n",
       "\n",
       "//// Always expand output area (legacy but powerful hack)\n",
       "require(\n",
       "    [\"notebook/js/outputarea\"],\n",
       "    function (oa) {\n",
       "        oa.OutputArea.prototype._should_scroll = function(lines) {\n",
       "            return false;\n",
       "        }\n",
       "    }\n",
       ");\n",
       "\n",
       "//// Setting auto_scroll_threshold to -1 (latest but not as good)\n",
       "require(\n",
       "    [\"notebook/js/outputarea\"],\n",
       "    function (oa) {\n",
       "        oa.OutputArea.auto_scroll_threshold = -1;\n",
       "    }\n",
       ");\n",
       "\n",
       "//// Bonus: inline highlighting with code-prettify\n",
       "$([IPython.events]).on(\"rendered.MarkdownCell\", function () {\n",
       "    PR.prettyPrint();\n",
       "});\n",
       "\n",
       "//// Auto-save whenever output is generated\n",
       "$([IPython.events]).on(\"output_appended.OutputArea\", function () {\n",
       "    IPython.notebook.save_notebook();\n",
       "});\n"
      ],
      "text/plain": [
       "<IPython.core.display.Javascript object>"
      ]
     },
     "metadata": {},
     "output_type": "display_data"
    },
    {
     "data": {
      "text/markdown": [
       "$\\newcommand{\\mbb}[1]{\\mathbb{#1}}\n",
       "\\newcommand{\\mrm}[1]{\\mathrm{#1}}\n",
       "\\newcommand{\\mcal}[1]{\\mathcal{#1}}\n",
       "\\newcommand{\\tup}[1]{\\textup{#1}}\n",
       "\\newcommand{\\idty}{\\mathds{1}}\n",
       "%Specials\n",
       "\\newcommand{\\hodgedual}{\\operatorname{\\star}}\n",
       "\\newcommand{\\dual}{\\ \\xlongleftrightarrow{\\ \\textrm{dual}\\ }\\ }\n",
       "\\newcommand{\\pdd}[1]{\\operatorname{\\partial_{\\mathnormal{#1}}}}\n",
       "\\newcommand{\\abs}[1]{\\left|#1\\right|}\n",
       "\\newcommand{\\norm}[1]{\\left\\|#1\\right\\|}\n",
       "\\newcommand{\\pqty}[1]{\\left(#1\\right)}\n",
       "\\renewcommand{\\idty}{\\mathbf{1}}\n",
       "\\newcommand{\\dd}[1]{\\operatorname{d} #1}\n",
       "\\newcommand{\\dv}[2]{\\frac{\\dd{#1}}{\\dd{#2}}}\n",
       "\\newcommand{\\pdv}[2]{\\frac{\\partial{#1}}{\\partial{#2}}}\n",
       "$`< Utilities initialized >`\n",
       "```python\n",
       "matplotlib_notebook, display_whitespace, clear_output, InlinePager, show_docstring, get_methods, goodbye```"
      ],
      "text/plain": [
       "<IPython.core.display.Markdown object>"
      ]
     },
     "metadata": {},
     "output_type": "display_data"
    },
    {
     "data": {
      "text/html": [
       "<link rel=\"stylesheet\" type=\"text/css\" href=\"assets/code-prettify/codestyle.css\">\n",
       "<script type=\"text/javascript\" src=\"assets/code-prettify/google-code-prettify/run_prettify.js\"></script>\n",
       "\n",
       "<style>\n",
       "    img.inline_img {\n",
       "        display: unset;\n",
       "        margin-top: unset;\n",
       "    }\n",
       "    .MathJax_Display {\n",
       "        margin: 6px;\n",
       "    }\n",
       "    .dataframe td {\n",
       "        white-space: nowrap;\n",
       "    }\n",
       "</style>\n",
       "<script src=\"assets/web/listener_parent.js\"></script>\n",
       "<script src=\"assets/web/frame_loaded.js\"></script>"
      ],
      "text/plain": [
       "<IPython.core.display.HTML object>"
      ]
     },
     "metadata": {},
     "output_type": "display_data"
    }
   ],
   "source": [
    "from assets.specs import startupOption, pdfshowOption\n",
    "from assets.pdfshow import pdfGet\n",
    "from assets.startup import initialize\n",
    "pdfshowOption['mini'] = False\n",
    "startupOption['debug'] = True\n",
    "initialize()"
   ]
  },
  {
   "cell_type": "markdown",
   "metadata": {},
   "source": [
    "### README <img class=\"inline_img\" src=\"https://bryango.github.io/assets/coolemoji/d_erha.png\" width=\"24px\" />\n",
    "> 若 PDF.js 不能正常调用，可以尝试 mini 模式；只需将上面初始化单元中的 `mini` 选项改为 `True` 即可：\n",
    "```python\n",
    "pdfshow_option['mini'] = True\n",
    "```\n",
    "此时 PDF 将由浏览器的内置阅读器打开。这样显示的 PDF 将被限制在一定高度的输出框内，无法展开。\n",
    "另有一选项：\n",
    "```python\n",
    "startupOption['debug'] = True\n",
    "```\n",
    "将启用 `%autoreload 2` 功能，即在运行时动态重载外部模块，以随时反映其变动。\n",
    ">\n",
    "> ----------------\n",
    "> 另外，辅助代码隐于 module 当中；它们位于目录 `pycode/` 之下，可通过 pager `some_function??` 显示；这里采用了[一个 hack](http://nbviewer.jupyter.org/gist/minrk/7715212), 使 pager 显示在行内。在前面的初始化单元之 `assets.startup` 中，已通过命令：\n",
    "```python\n",
    "sys.path.append('pycode')\n",
    "```\n",
    "将引用目录加入到了 `sys.path` 当中，因此下文引用无需 `pycode` 前缀。初始化选项置于 `assets.specs` 中，通过 magic `%run` 直接在本文档 namespace 中运行。"
   ]
  },
  {
   "cell_type": "code",
   "execution_count": null,
   "metadata": {
    "scrolled": false
   },
   "outputs": [],
   "source": [
    "pdfGet('latex/sections/0.title.pdf').show()"
   ]
  },
  {
   "cell_type": "code",
   "execution_count": null,
   "metadata": {},
   "outputs": [],
   "source": [
    "import numpy as np\n",
    "import pandas as pd\n",
    "import matplotlib.pyplot as plt\n",
    "from numba import jit\n",
    "from IPython.display import display, HTML, Markdown, Image\n",
    "\n",
    "# If u DON'T HAVE LaTeX, change this to `False`!\n",
    "# But it would look much better if LaTeX is deployed...\n",
    "tex_status = True\n",
    "plt.rc('text', usetex=tex_status)\n",
    "pager = InlinePager()"
   ]
  },
  {
   "cell_type": "code",
   "execution_count": null,
   "metadata": {},
   "outputs": [],
   "source": [
    "# pager.extract('OBJECT_NAME', tag='MARKUP_TAG')"
   ]
  },
  {
   "cell_type": "code",
   "execution_count": null,
   "metadata": {
    "scrolled": true
   },
   "outputs": [],
   "source": [
    "goodbye('main')"
   ]
  }
 ],
 "metadata": {
  "@webio": {
   "lastCommId": null,
   "lastKernelId": null
  },
  "kernelspec": {
   "display_name": "Python 3",
   "language": "python",
   "name": "python3"
  },
  "language_info": {
   "codemirror_mode": {
    "name": "ipython",
    "version": 3
   },
   "file_extension": ".py",
   "mimetype": "text/x-python",
   "name": "python",
   "nbconvert_exporter": "python",
   "pygments_lexer": "ipython3",
   "version": "3.7.3"
  },
  "toc": {
   "base_numbering": 1,
   "nav_menu": {},
   "number_sections": true,
   "sideBar": true,
   "skip_h1_title": false,
   "title_cell": "Table of Contents",
   "title_sidebar": "Contents",
   "toc_cell": false,
   "toc_position": {},
   "toc_section_display": true,
   "toc_window_display": false
  },
  "varInspector": {
   "cols": {
    "lenName": 16,
    "lenType": 16,
    "lenVar": 40
   },
   "kernels_config": {
    "python": {
     "delete_cmd_postfix": "",
     "delete_cmd_prefix": "del ",
     "library": "var_list.py",
     "varRefreshCmd": "print(var_dic_list())"
    },
    "r": {
     "delete_cmd_postfix": ") ",
     "delete_cmd_prefix": "rm(",
     "library": "var_list.r",
     "varRefreshCmd": "cat(var_dic_list()) "
    }
   },
   "types_to_exclude": [
    "module",
    "function",
    "builtin_function_or_method",
    "instance",
    "_Feature"
   ],
   "window_display": false
  }
 },
 "nbformat": 4,
 "nbformat_minor": 2
}
