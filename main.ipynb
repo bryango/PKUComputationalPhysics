{
 "cells": [
  {
   "cell_type": "code",
   "execution_count": 1,
   "metadata": {
    "scrolled": false
   },
   "outputs": [
    {
     "data": {
      "application/javascript": [
       "\n",
       "//// full url\n",
       "function full_url(relative_url) {\n",
       "    var link = document.createElement(\"a\");\n",
       "    link.href = relative_url;\n",
       "    return (link.protocol+\"//\"+link.host+link.pathname+link.search+link.hash);\n",
       "}\n",
       "var root_url = full_url('/')\n",
       "\n",
       "//// `files` url\n",
       "function files_url(relative_url) {\n",
       "    var relative_to_root = full_url(relative_url).replace(\n",
       "        root_url, ''\n",
       "    ).replace(\n",
       "        'notebooks', 'files'\n",
       "    );\n",
       "    return (root_url + relative_to_root);\n",
       "}\n",
       "\n",
       "//// Get notebook `/files/` url\n",
       "var command = ('pdfshowOption[\"notebook_url\"] = notebook_files = \"'\n",
       "    + files_url('./') + '\"');\n",
       "IPython.notebook.kernel.execute(command);\n",
       "\n",
       "//// Always expand output area (legacy but powerful hack)\n",
       "require(\n",
       "    [\"notebook/js/outputarea\"],\n",
       "    function (oa) {\n",
       "        oa.OutputArea.prototype._should_scroll = function(lines) {\n",
       "            return false;\n",
       "        }\n",
       "    }\n",
       ");\n",
       "\n",
       "//// Setting auto_scroll_threshold to -1 (latest but not as good)\n",
       "require(\n",
       "    [\"notebook/js/outputarea\"],\n",
       "    function (oa) {\n",
       "        oa.OutputArea.auto_scroll_threshold = -1;\n",
       "    }\n",
       ");\n",
       "\n",
       "//// Bonus: inline highlighting with code-prettify\n",
       "$([IPython.events]).on(\"rendered.MarkdownCell\", function () {\n",
       "    PR.prettyPrint();\n",
       "});\n",
       "\n",
       "//// Auto-save whenever output is generated\n",
       "$([IPython.events]).on(\"output_appended.OutputArea\", function () {\n",
       "    IPython.notebook.save_notebook();\n",
       "});\n"
      ],
      "text/plain": [
       "<IPython.core.display.Javascript object>"
      ]
     },
     "metadata": {},
     "output_type": "display_data"
    },
    {
     "data": {
      "text/markdown": [
       "$% Simple macros / shorthands for LaTeX,\n",
       "% ... compatible with MathJax\n",
       "% ... loaded before 'mathjax.tex'\n",
       "%\n",
       "% Generics\n",
       "\\newcommand{\\mbb}[1]{\\mathbb{#1}}\n",
       "\\newcommand{\\mrm}[1]{\\mathrm{#1}}\n",
       "\\newcommand{\\mcal}[1]{\\mathcal{#1}}\n",
       "\\newcommand{\\mscr}[1]{\\mathscr{#1}}\n",
       "\\newcommand{\\tup}[1]{\\textup{#1}}\n",
       "\\newcommand{\\mop}[1]{\\operatorname{#1}}\n",
       "%\n",
       "% Utils\n",
       "\\newcommand{\\idty}{\\mathds{1}}\n",
       "\\newcommand{\\proj}[1]{\\mop{proj_{\\mathit{#1}}}}\n",
       "\\newcommand{\\textbox}[1]{\\fbox{#1}}\n",
       "\\newcommand{\\rvec}[1]{\\overrightarrow{#1}}\n",
       "\\newcommand{\\lvec}[1]{\\overleftarrow{#1}}\n",
       "%\n",
       "% Differential Geometry\n",
       "\\newcommand{\\hodgedual}{\\mop{\\star}}\n",
       "\\newcommand{\\cdd}{\\mop{D}\\\\!}\n",
       "\\newcommand{\\pdd}[1]{\\mop{\\partial_{\\mathnormal{#1}}}}\n",
       "\\newcommand{\\cdv}[1]{\\mop{\\nabla_{\\\\!\\mathnormal{#1}\\\\!}}}\n",
       "\\newcommand{\\ldv}[1]{\\mop{\\mcal{L}_{\\\\!\\mathnormal{#1}\\\\!}}}\n",
       "\\newcommand{\\ric}[1]{\\mop{Ric}\\pqty{#1}}\n",
       "\\newcommand{\\ad}{\\mop{ad}}\n",
       "%\n",
       "% Algebra\n",
       "\\newcommand{\\subsetnormal}{\\mathrel{\\triangleleft}}\n",
       "% MathJax supplementary macros,\n",
       "% ... as substitutes for LaTeX pkgs,\n",
       "% ... loaded after 'macros.tex'\n",
       "%\n",
       "% mathtools\n",
       "\\newcommand{\\abs}[1]{\\left|#1\\right|}\n",
       "\\newcommand{\\norm}[1]{\\left\\|#1\\right\\|}\n",
       "%\n",
       "% physics\n",
       "\\newcommand{\\pqty}[1]{\\left(#1\\right)}\n",
       "\\newcommand{\\dd}[1]{\\operatorname{d} #1}\n",
       "\\newcommand{\\dv}[2]{\\frac{\\dd{#1}}{\\dd{#2}}}\n",
       "\\newcommand{\\pdv}[2]{\\frac{\\partial{#1}}{\\partial{#2}}}\n",
       "%\n",
       "% more & hacks\n",
       "\\newcommand{\\mathds}[1]{\\mathbf{#1}} % when without dsfont\n",
       "\\newcommand{\\mathnormal}[1]{\\mathit{#1}} % when without mathnormal\n",
       "$`< Utilities initialized >`\n",
       "```python\n",
       "matplotlib_notebook, display_whitespace, clear_output, InlinePager, show_docstring, get_methods, goodbye```"
      ],
      "text/plain": [
       "<IPython.core.display.Markdown object>"
      ]
     },
     "metadata": {},
     "output_type": "display_data"
    },
    {
     "data": {
      "text/html": [
       "<link rel=\"stylesheet\" type=\"text/css\" href=\"assets/code-prettify/codestyle.css\">\n",
       "<script type=\"text/javascript\" src=\"assets/code-prettify/google-code-prettify/run_prettify.js\"></script>\n",
       "\n",
       "<style>\n",
       "    img.inline_img {\n",
       "        display: unset;\n",
       "        margin-top: unset;\n",
       "    }\n",
       "    .MathJax_Display {\n",
       "        margin: 6px;\n",
       "    }\n",
       "    .dataframe td {\n",
       "        white-space: nowrap;\n",
       "    }\n",
       "    /* Fix page right padding bug, */\n",
       "    /* ... see: <https://github.com/sweetalert2/sweetalert2/issues/678> */\n",
       "    body {\n",
       "        padding-right: 0 !important;\n",
       "    }\n",
       "    html {\n",
       "        overflow-y: hidden;\n",
       "    }\n",
       "</style>\n",
       "<script src=\"assets/web/listener_parent.js\"></script>\n",
       "<script src=\"assets/web/frame_loaded.js\"></script>"
      ],
      "text/plain": [
       "<IPython.core.display.HTML object>"
      ]
     },
     "metadata": {},
     "output_type": "display_data"
    }
   ],
   "source": [
    "from assets.specs import startupOption, pdfshowOption\n",
    "from assets.pdfshow import pdfGet\n",
    "from assets.startup import initialize\n",
    "pdfshowOption['mini'] = False\n",
    "startupOption['debug'] = True\n",
    "initialize()"
   ]
  },
  {
   "cell_type": "markdown",
   "metadata": {},
   "source": [
    "### README <img class=\"inline_img\" src=\"https://bryango.github.io/assets/coolemoji/d_erha.png\" width=\"24px\" />\n",
    "> 若 PDF.js 不能正常调用，可以尝试 mini 模式；只需将上面初始化单元中的 `mini` 选项改为 `True` 即可：\n",
    "```python\n",
    "pdfshow_option['mini'] = True\n",
    "```\n",
    "此时 PDF 将由浏览器的内置阅读器打开。这样显示的 PDF 将被限制在一定高度的输出框内，无法展开。\n",
    "另有一选项：\n",
    "```python\n",
    "startupOption['debug'] = True\n",
    "```\n",
    "将启用 `%autoreload 2` 功能，即在运行时动态重载外部模块，以随时反映其变动。\n",
    ">\n",
    "> ----------------\n",
    "> 另外，辅助代码隐于 module 当中；它们位于目录 `pycode/` 之下，可通过 pager `some_function??` 显示；这里采用了[一个 hack](http://nbviewer.jupyter.org/gist/minrk/7715212), 使 pager 显示在行内。在前面的初始化单元之 `assets.startup` 中，已通过命令：\n",
    "```python\n",
    "sys.path.append('pycode')\n",
    "```\n",
    "将引用目录加入到了 `sys.path` 当中，因此下文引用无需 `pycode` 前缀。初始化选项置于 `assets.specs` 中，通过 magic `%run` 直接在本文档 namespace 中运行。"
   ]
  },
  {
   "cell_type": "code",
   "execution_count": 2,
   "metadata": {
    "scrolled": false
   },
   "outputs": [
    {
     "data": {
      "application/javascript": [
       "\n",
       "addListenerParent(\"latex/sections/0.title.pdf\", \"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\");\n"
      ],
      "text/plain": [
       "<IPython.core.display.Javascript object>"
      ]
     },
     "metadata": {},
     "output_type": "display_data"
    },
    {
     "data": {
      "text/html": [
       "\n",
       "<p style=\"font-size: 12px; font-style: italic;\">See no PDF below? Go to <a href=\"latex/sections/0.title.pdf\">latex/sections/0.title.pdf</a> directly! \n",
       "Still nothing? <a href=\"https://github.com/jupyter/notebook/issues/3652\">\n",
       "Blame jupyter! </a></p>\n",
       "<iframe class=\"PDFframe\"\n",
       "    src='http://127.0.0.1:39555/assets/embed.html?file=latex/sections/0.title.pdf'\n",
       "    width=\"100%\" frameborder=\"0\" name=\"latex/sections/0.title.pdf\" onload=\"PDFframeLoaded()\" >\n",
       "</iframe>\n"
      ],
      "text/plain": [
       "<IPython.core.display.HTML object>"
      ]
     },
     "metadata": {},
     "output_type": "display_data"
    }
   ],
   "source": [
    "pdfGet('latex/sections/0.title.pdf').show()"
   ]
  },
  {
   "cell_type": "code",
   "execution_count": 3,
   "metadata": {},
   "outputs": [],
   "source": [
    "import numpy as np\n",
    "import pandas as pd\n",
    "import matplotlib.pyplot as plt\n",
    "from numba import jit\n",
    "from IPython.display import display, HTML, Markdown, Image\n",
    "\n",
    "# If u DON'T HAVE LaTeX, change this to `False`!\n",
    "# But it would look much better if LaTeX is deployed...\n",
    "tex_status = True\n",
    "plt.rc('text', usetex=tex_status)\n",
    "pager = InlinePager()"
   ]
  },
  {
   "cell_type": "code",
   "execution_count": 4,
   "metadata": {},
   "outputs": [],
   "source": [
    "# pager.extract('OBJECT_NAME', tag='MARKUP_TAG')"
   ]
  },
  {
   "cell_type": "code",
   "execution_count": 5,
   "metadata": {
    "scrolled": true
   },
   "outputs": [
    {
     "data": {
      "application/javascript": [
       "IPython.notebook.save_notebook()"
      ],
      "text/plain": [
       "<IPython.core.display.Javascript object>"
      ]
     },
     "metadata": {},
     "output_type": "display_data"
    },
    {
     "name": "stderr",
     "output_type": "stream",
     "text": [
      "[NbConvertApp] Converting notebook main.ipynb to script\n"
     ]
    }
   ],
   "source": [
    "goodbye('main')"
   ]
  }
 ],
 "metadata": {
  "@webio": {
   "lastCommId": "e5e9bce7979a4d589846f750d32f5669",
   "lastKernelId": "0bbb55f4-22ff-473e-9451-c719e3d20862"
  },
  "kernelspec": {
   "display_name": "Python 3",
   "language": "python",
   "name": "python3"
  },
  "language_info": {
   "codemirror_mode": {
    "name": "ipython",
    "version": 3
   },
   "file_extension": ".py",
   "mimetype": "text/x-python",
   "name": "python",
   "nbconvert_exporter": "python",
   "pygments_lexer": "ipython3",
   "version": "3.7.3"
  },
  "toc": {
   "base_numbering": 1,
   "nav_menu": {},
   "number_sections": true,
   "sideBar": true,
   "skip_h1_title": false,
   "title_cell": "Table of Contents",
   "title_sidebar": "Contents",
   "toc_cell": false,
   "toc_position": {},
   "toc_section_display": true,
   "toc_window_display": false
  },
  "varInspector": {
   "cols": {
    "lenName": 16,
    "lenType": 16,
    "lenVar": 40
   },
   "kernels_config": {
    "python": {
     "delete_cmd_postfix": "",
     "delete_cmd_prefix": "del ",
     "library": "var_list.py",
     "varRefreshCmd": "print(var_dic_list())"
    },
    "r": {
     "delete_cmd_postfix": ") ",
     "delete_cmd_prefix": "rm(",
     "library": "var_list.r",
     "varRefreshCmd": "cat(var_dic_list()) "
    }
   },
   "types_to_exclude": [
    "module",
    "function",
    "builtin_function_or_method",
    "instance",
    "_Feature"
   ],
   "window_display": false
  }
 },
 "nbformat": 4,
 "nbformat_minor": 2
}
