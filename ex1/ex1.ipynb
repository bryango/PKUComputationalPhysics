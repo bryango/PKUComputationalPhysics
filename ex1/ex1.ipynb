{
 "cells": [
  {
   "cell_type": "code",
   "execution_count": 1,
   "metadata": {},
   "outputs": [
    {
     "data": {
      "text/html": [
       "\n",
       "    <style>\n",
       "        img.inline_img {\n",
       "            display: unset;\n",
       "            margin-top: unset;\n",
       "        }\n",
       "    </style>\n"
      ],
      "text/plain": [
       "<IPython.core.display.HTML object>"
      ]
     },
     "metadata": {},
     "output_type": "display_data"
    }
   ],
   "source": [
    "# Initialization\n",
    "from assets.pdfshow import *\n",
    "from assets.startup import *"
   ]
  },
  {
   "cell_type": "markdown",
   "metadata": {},
   "source": [
    "### README\n",
    "> **请首先阅读该目录下的 `README.md` 文档！**\n",
    ">\n",
    "> 助教老师好～ 本人不用 `\\usepackage` 无法生存 <img class=\"inline_img\" src=\"https://bryango.github.io/assets/coolemoji/d_erha.png\" width=\"24px\" />, 但又难以拒绝 jupyter 的交互式环境，于是捣鼓出了一个解决方案：先用 (Xe) $\\mathrm{\\LaTeX}$ 编译成 pdf, 再用 [pdf.js](https://github.com/mozilla/pdf.js/) 嵌入到此文档当中。读取本文档以前, 最好先 `restart kernel & run all` 一下。相应的实现过程置于 `assets/` 目录内，不属于作业的核心内容。\n",
    ">\n",
    "> 此外，本人刚入门 python 一周，js 和 css 也是现学的，上述系统（以及下面的作业）显然还有许多 bug. 已知的问题有：难以实现 $\\mathrm{\\LaTeX}$ 图片的正确编号和跨章节引用，以及无法导出完整的 html 文件；此处暂时搁置，就先将就着看吧... 万分感谢～"
   ]
  },
  {
   "cell_type": "code",
   "execution_count": 2,
   "metadata": {},
   "outputs": [
    {
     "data": {
      "text/html": [
       "\n",
       "            <iframe class=\"PDFframe\" src='assets/embed.html?file=latex/sections/0.title.pdf'\n",
       "                width=\"100%\" frameborder=\"0\" onload=\"PDFframeLoaded()\" />\n",
       "        "
      ],
      "text/plain": [
       "<IPython.core.display.HTML object>"
      ]
     },
     "metadata": {},
     "output_type": "display_data"
    }
   ],
   "source": [
    "pdfGet('latex/sections/0.title.pdf').show()"
   ]
  },
  {
   "cell_type": "code",
   "execution_count": 3,
   "metadata": {},
   "outputs": [
    {
     "data": {
      "text/html": [
       "\n",
       "            <iframe class=\"PDFframe\" src='assets/embed.html?file=latex/sections/1.1.error.pdf'\n",
       "                width=\"100%\" frameborder=\"0\" onload=\"PDFframeLoaded()\" />\n",
       "        "
      ],
      "text/plain": [
       "<IPython.core.display.HTML object>"
      ]
     },
     "metadata": {},
     "output_type": "display_data"
    }
   ],
   "source": [
    "pdfGet('latex/sections/1.1.error.pdf').show()"
   ]
  },
  {
   "cell_type": "code",
   "execution_count": 4,
   "metadata": {},
   "outputs": [
    {
     "data": {
      "text/html": [
       "\n",
       "            <iframe class=\"PDFframe\" src='assets/embed.html?file=latex/sections/2.1.matrix.pdf'\n",
       "                width=\"100%\" frameborder=\"0\" onload=\"PDFframeLoaded()\" />\n",
       "        "
      ],
      "text/plain": [
       "<IPython.core.display.HTML object>"
      ]
     },
     "metadata": {},
     "output_type": "display_data"
    }
   ],
   "source": [
    "pdfGet('latex/sections/2.1.matrix.pdf').show()"
   ]
  },
  {
   "cell_type": "code",
   "execution_count": 5,
   "metadata": {
    "scrolled": true
   },
   "outputs": [
    {
     "data": {
      "text/html": [
       "\n",
       "            <iframe class=\"PDFframe\" src='assets/embed.html?file=latex/sections/3.1.hilbert.pdf'\n",
       "                width=\"100%\" frameborder=\"0\" onload=\"PDFframeLoaded()\" />\n",
       "        "
      ],
      "text/plain": [
       "<IPython.core.display.HTML object>"
      ]
     },
     "metadata": {},
     "output_type": "display_data"
    }
   ],
   "source": [
    "pdfGet('latex/sections/3.1.hilbert.pdf').show()"
   ]
  },
  {
   "cell_type": "markdown",
   "metadata": {},
   "source": [
    "下面对 $n \\le 10$ 验证 $\\det H_n$ 的估计值。首先使用 `sympy` 构造精确的 Hilbert 矩阵："
   ]
  },
  {
   "cell_type": "code",
   "execution_count": 6,
   "metadata": {},
   "outputs": [],
   "source": [
    "import sympy as sym\n",
    "sym.init_printing(wrap_line=False, pretty_print=False)"
   ]
  },
  {
   "cell_type": "code",
   "execution_count": 7,
   "metadata": {},
   "outputs": [],
   "source": [
    "def mrange(a, b):\n",
    "    \"\"\" Sensible range \"\"\"\n",
    "    return range(a, b + 1)\n",
    "def hilbertMatrix(n: int):\n",
    "    \"\"\" Construct Hilbert matrix, using exact number \"\"\"\n",
    "    return sym.Matrix(\n",
    "        [[sym.Integer(1) / sym.Integer(i + j - 1)\n",
    "          for i in mrange(1, n)]\n",
    "         for j in mrange(1, n)])"
   ]
  },
  {
   "cell_type": "markdown",
   "metadata": {},
   "source": [
    "相应地，计算行列式的准确值如下："
   ]
  },
  {
   "cell_type": "code",
   "execution_count": 8,
   "metadata": {},
   "outputs": [
    {
     "data": {
      "text/plain": [
       "[1, 1/12, 1/2160, 1/6048000, 1/266716800000, 1/186313420339200000, 1/2067909047925770649600000, 1/365356847125734485878112256000000, 1/1028781784378569697887052962909388800000000, 1/46206893947914691316295628839036278726983680000000000]"
      ]
     },
     "execution_count": 8,
     "metadata": {},
     "output_type": "execute_result"
    }
   ],
   "source": [
    "hilbertDetExact = [hilbertMatrix(n).det() for n in mrange(1, 10)]\n",
    "hilbertDetExact"
   ]
  },
  {
   "cell_type": "markdown",
   "metadata": {},
   "source": [
    "上述操作是为了 *保证* 参考数据的有效性；由此得到参考数据列表（对数值）："
   ]
  },
  {
   "cell_type": "code",
   "execution_count": 9,
   "metadata": {},
   "outputs": [
    {
     "data": {
      "text/plain": [
       "[0.0, -2.4849066497880004, -7.67786350067821, -15.615238196841506, -26.309453258276445, -39.76620670609766, -55.98858020684256, -74.97842732916048, -96.73694927439705, -121.2649687493037]"
      ]
     },
     "execution_count": 9,
     "metadata": {},
     "output_type": "execute_result"
    }
   ],
   "source": [
    "from math import *\n",
    "hilbertDetLogRef = [log(item) for item in hilbertDetExact]\n",
    "hilbertDetLogRef"
   ]
  },
  {
   "cell_type": "markdown",
   "metadata": {},
   "source": [
    "相应地，由对数和阶乘表达的公式在理论上是精确的，但计算过程中 *可能* 存在舍入误差；结果如下："
   ]
  },
  {
   "cell_type": "code",
   "execution_count": 10,
   "metadata": {},
   "outputs": [
    {
     "data": {
      "text/plain": [
       "[0.0, -2.4849066497880004, -7.67786350067821, -15.615238196841508, -26.309453258276445, -39.76620670609766, -55.988580206842556, -74.97842732916047, -96.736949274397, -121.26496874930368]"
      ]
     },
     "execution_count": 10,
     "metadata": {},
     "output_type": "execute_result"
    }
   ],
   "source": [
    "def logC(n: int) -> float:\n",
    "    \"\"\" Calculate log c_n; log = ln, i.e. base e \"\"\"\n",
    "    return sum([log(factorial(m)) for m in mrange(1, n - 1)])\n",
    "\n",
    "hilbertDetLogTheoretical = [4 * logC(n) - logC(2 * n) for n in mrange(1, 10)]\n",
    "hilbertDetLogTheoretical"
   ]
  },
  {
   "cell_type": "markdown",
   "metadata": {},
   "source": [
    "可见还好，$n\\le 10$时的数值误差并不显著。相应地，还有渐进近似："
   ]
  },
  {
   "cell_type": "code",
   "execution_count": 11,
   "metadata": {},
   "outputs": [
    {
     "data": {
      "text/plain": [
       "[-1.3862943611198906, -5.545177444479562, -12.476649250079015, -22.18070977791825, -34.657359027997266, -49.90659700031606, -67.92842369487464, -88.722839111673, -112.28984325071114, -138.62943611198907]"
      ]
     },
     "execution_count": 11,
     "metadata": {},
     "output_type": "execute_result"
    }
   ],
   "source": [
    "# Rough asymptotic\n",
    "hilbertDetLogAsymptotic = [log(4 ** (- n ** 2)) for n in mrange(1, 10)]\n",
    "hilbertDetLogAsymptotic"
   ]
  },
  {
   "cell_type": "code",
   "execution_count": 12,
   "metadata": {
    "scrolled": true
   },
   "outputs": [
    {
     "data": {
      "text/plain": [
       "['N/A',\n",
       " -5.599065707183972,\n",
       " -10.780936043131339,\n",
       " -18.735491636544033,\n",
       " -29.448858142186378,\n",
       " -42.923424656009416,\n",
       " -59.16187737525633,\n",
       " -78.16620649373371,\n",
       " -99.93783436065031,\n",
       " -124.47779117064434]"
      ]
     },
     "execution_count": 12,
     "metadata": {},
     "output_type": "execute_result"
    }
   ],
   "source": [
    "def integralApprox(k: int) -> float:\n",
    "    \"\"\" Estimate the sum of m*log(m), by integration \"\"\"\n",
    "    return 1 / 8 * (4 - 9 * log(3) - 2 * k * (1 + k) * (1 + log(4))\n",
    "                    + log(256) + (1 + 2 * k)**2 * log(1 + 2 * k))\n",
    "def hilbertDetLogApproxFunction(n: int) -> float:\n",
    "    \"\"\" Better asymptotic: Stirling approximation of det(H_n) \"\"\"\n",
    "    return 4 * integralApprox(n - 1) - integralApprox(2 * n - 1) \\\n",
    "        + (2 * n - 1) * log(n - 1) - (n - 1 / 4) * log(2 * n - 1) \\\n",
    "        + (n - 9 / 4) * log(2 * pi) + 3 / 2\n",
    "# Nice asymptotic\n",
    "hilbertDetLogApprox = ['N/A'] + [hilbertDetLogApproxFunction(n) for n in mrange(2, 10)]\n",
    "hilbertDetLogApprox"
   ]
  },
  {
   "cell_type": "markdown",
   "metadata": {},
   "source": [
    "各种方法得到的 $\\ln\\det H_n$ 估计值与精确值综合如下："
   ]
  },
  {
   "cell_type": "code",
   "execution_count": 13,
   "metadata": {},
   "outputs": [
    {
     "data": {
      "text/html": [
       "<div>\n",
       "<style scoped>\n",
       "    .dataframe tbody tr th:only-of-type {\n",
       "        vertical-align: middle;\n",
       "    }\n",
       "\n",
       "    .dataframe tbody tr th {\n",
       "        vertical-align: top;\n",
       "    }\n",
       "\n",
       "    .dataframe thead th {\n",
       "        text-align: right;\n",
       "    }\n",
       "</style>\n",
       "<table border=\"1\" class=\"dataframe\">\n",
       "  <thead>\n",
       "    <tr style=\"text-align: right;\">\n",
       "      <th></th>\n",
       "      <th>Exact</th>\n",
       "      <th>Theoretical</th>\n",
       "      <th>Nice asymptotic</th>\n",
       "      <th>Rough asymptotic</th>\n",
       "    </tr>\n",
       "  </thead>\n",
       "  <tbody>\n",
       "    <tr>\n",
       "      <th>1</th>\n",
       "      <td>0.000000</td>\n",
       "      <td>0.000000</td>\n",
       "      <td>N/A</td>\n",
       "      <td>-1.386294</td>\n",
       "    </tr>\n",
       "    <tr>\n",
       "      <th>2</th>\n",
       "      <td>-2.484907</td>\n",
       "      <td>-2.484907</td>\n",
       "      <td>-5.59907</td>\n",
       "      <td>-5.545177</td>\n",
       "    </tr>\n",
       "    <tr>\n",
       "      <th>3</th>\n",
       "      <td>-7.677864</td>\n",
       "      <td>-7.677864</td>\n",
       "      <td>-10.7809</td>\n",
       "      <td>-12.476649</td>\n",
       "    </tr>\n",
       "    <tr>\n",
       "      <th>4</th>\n",
       "      <td>-15.615238</td>\n",
       "      <td>-15.615238</td>\n",
       "      <td>-18.7355</td>\n",
       "      <td>-22.180710</td>\n",
       "    </tr>\n",
       "    <tr>\n",
       "      <th>5</th>\n",
       "      <td>-26.309453</td>\n",
       "      <td>-26.309453</td>\n",
       "      <td>-29.4489</td>\n",
       "      <td>-34.657359</td>\n",
       "    </tr>\n",
       "    <tr>\n",
       "      <th>6</th>\n",
       "      <td>-39.766207</td>\n",
       "      <td>-39.766207</td>\n",
       "      <td>-42.9234</td>\n",
       "      <td>-49.906597</td>\n",
       "    </tr>\n",
       "    <tr>\n",
       "      <th>7</th>\n",
       "      <td>-55.988580</td>\n",
       "      <td>-55.988580</td>\n",
       "      <td>-59.1619</td>\n",
       "      <td>-67.928424</td>\n",
       "    </tr>\n",
       "    <tr>\n",
       "      <th>8</th>\n",
       "      <td>-74.978427</td>\n",
       "      <td>-74.978427</td>\n",
       "      <td>-78.1662</td>\n",
       "      <td>-88.722839</td>\n",
       "    </tr>\n",
       "    <tr>\n",
       "      <th>9</th>\n",
       "      <td>-96.736949</td>\n",
       "      <td>-96.736949</td>\n",
       "      <td>-99.9378</td>\n",
       "      <td>-112.289843</td>\n",
       "    </tr>\n",
       "    <tr>\n",
       "      <th>10</th>\n",
       "      <td>-121.264969</td>\n",
       "      <td>-121.264969</td>\n",
       "      <td>-124.478</td>\n",
       "      <td>-138.629436</td>\n",
       "    </tr>\n",
       "  </tbody>\n",
       "</table>\n",
       "</div>"
      ],
      "text/plain": [
       "         Exact  Theoretical Nice asymptotic  Rough asymptotic\n",
       "1     0.000000     0.000000             N/A         -1.386294\n",
       "2    -2.484907    -2.484907        -5.59907         -5.545177\n",
       "3    -7.677864    -7.677864        -10.7809        -12.476649\n",
       "4   -15.615238   -15.615238        -18.7355        -22.180710\n",
       "5   -26.309453   -26.309453        -29.4489        -34.657359\n",
       "6   -39.766207   -39.766207        -42.9234        -49.906597\n",
       "7   -55.988580   -55.988580        -59.1619        -67.928424\n",
       "8   -74.978427   -74.978427        -78.1662        -88.722839\n",
       "9   -96.736949   -96.736949        -99.9378       -112.289843\n",
       "10 -121.264969  -121.264969        -124.478       -138.629436"
      ]
     },
     "execution_count": 13,
     "metadata": {},
     "output_type": "execute_result"
    }
   ],
   "source": [
    "import pandas as pd\n",
    "def transpose(l: list) -> list:\n",
    "    return [[l[j][i] for j in range(len(l))] for i in range(len(l[0]))]\n",
    "hilbertDetLogData = pd.DataFrame(\n",
    "    transpose([hilbertDetLogRef, hilbertDetLogTheoretical,\n",
    "               hilbertDetLogApprox, hilbertDetLogAsymptotic]),\n",
    "    columns=['Exact', 'Theoretical', 'Nice asymptotic', 'Rough asymptotic'])\n",
    "hilbertDetLogData.index = list(mrange(1, 10))\n",
    "hilbertDetLogData"
   ]
  },
  {
   "cell_type": "markdown",
   "metadata": {},
   "source": [
    "相对精确值的偏差（从 $n = 2$ 起）："
   ]
  },
  {
   "cell_type": "code",
   "execution_count": 14,
   "metadata": {},
   "outputs": [
    {
     "data": {
      "text/html": [
       "<div>\n",
       "<style scoped>\n",
       "    .dataframe tbody tr th:only-of-type {\n",
       "        vertical-align: middle;\n",
       "    }\n",
       "\n",
       "    .dataframe tbody tr th {\n",
       "        vertical-align: top;\n",
       "    }\n",
       "\n",
       "    .dataframe thead th {\n",
       "        text-align: right;\n",
       "    }\n",
       "</style>\n",
       "<table border=\"1\" class=\"dataframe\">\n",
       "  <thead>\n",
       "    <tr style=\"text-align: right;\">\n",
       "      <th></th>\n",
       "      <th>Theoretical</th>\n",
       "      <th>Nice asymptotic</th>\n",
       "      <th>Rough asymptotic</th>\n",
       "    </tr>\n",
       "  </thead>\n",
       "  <tbody>\n",
       "    <tr>\n",
       "      <th>2</th>\n",
       "      <td>-0.000000e+00</td>\n",
       "      <td>1.253230</td>\n",
       "      <td>1.231544</td>\n",
       "    </tr>\n",
       "    <tr>\n",
       "      <th>3</th>\n",
       "      <td>-0.000000e+00</td>\n",
       "      <td>0.404158</td>\n",
       "      <td>0.625016</td>\n",
       "    </tr>\n",
       "    <tr>\n",
       "      <th>4</th>\n",
       "      <td>1.137579e-16</td>\n",
       "      <td>0.199821</td>\n",
       "      <td>0.420453</td>\n",
       "    </tr>\n",
       "    <tr>\n",
       "      <th>5</th>\n",
       "      <td>-0.000000e+00</td>\n",
       "      <td>0.119326</td>\n",
       "      <td>0.317297</td>\n",
       "    </tr>\n",
       "    <tr>\n",
       "      <th>6</th>\n",
       "      <td>-0.000000e+00</td>\n",
       "      <td>0.079394</td>\n",
       "      <td>0.255000</td>\n",
       "    </tr>\n",
       "    <tr>\n",
       "      <th>7</th>\n",
       "      <td>-1.269085e-16</td>\n",
       "      <td>0.056678</td>\n",
       "      <td>0.213255</td>\n",
       "    </tr>\n",
       "    <tr>\n",
       "      <th>8</th>\n",
       "      <td>-1.895326e-16</td>\n",
       "      <td>0.042516</td>\n",
       "      <td>0.183312</td>\n",
       "    </tr>\n",
       "    <tr>\n",
       "      <th>9</th>\n",
       "      <td>-4.407061e-16</td>\n",
       "      <td>0.033089</td>\n",
       "      <td>0.160775</td>\n",
       "    </tr>\n",
       "    <tr>\n",
       "      <th>10</th>\n",
       "      <td>-2.343769e-16</td>\n",
       "      <td>0.026494</td>\n",
       "      <td>0.143194</td>\n",
       "    </tr>\n",
       "  </tbody>\n",
       "</table>\n",
       "</div>"
      ],
      "text/plain": [
       "     Theoretical  Nice asymptotic  Rough asymptotic\n",
       "2  -0.000000e+00         1.253230          1.231544\n",
       "3  -0.000000e+00         0.404158          0.625016\n",
       "4   1.137579e-16         0.199821          0.420453\n",
       "5  -0.000000e+00         0.119326          0.317297\n",
       "6  -0.000000e+00         0.079394          0.255000\n",
       "7  -1.269085e-16         0.056678          0.213255\n",
       "8  -1.895326e-16         0.042516          0.183312\n",
       "9  -4.407061e-16         0.033089          0.160775\n",
       "10 -2.343769e-16         0.026494          0.143194"
      ]
     },
     "execution_count": 14,
     "metadata": {},
     "output_type": "execute_result"
    }
   ],
   "source": [
    "def relativeError(aPlus: float, a: float) -> float:\n",
    "    return (aPlus - a) / a\n",
    "\n",
    "hilbertDetLogError = pd.DataFrame(\n",
    "    [[relativeError(hilbertDetLogTheoretical[n], hilbertDetLogRef[n]),\n",
    "      relativeError(hilbertDetLogApprox[n], hilbertDetLogRef[n]),\n",
    "     relativeError(hilbertDetLogAsymptotic[n], hilbertDetLogRef[n])]\n",
    "     for n in range(0 + 1, 10)],\n",
    "    columns=['Theoretical', 'Nice asymptotic', 'Rough asymptotic'])\n",
    "hilbertDetLogError.index = list(mrange(2, 10))\n",
    "hilbertDetLogError"
   ]
  },
  {
   "cell_type": "code",
   "execution_count": 15,
   "metadata": {},
   "outputs": [
    {
     "data": {
      "text/html": [
       "\n",
       "            <iframe class=\"PDFframe\" src='assets/embed.html?file=latex/sections/3.2.asymptotic.pdf'\n",
       "                width=\"100%\" frameborder=\"0\" onload=\"PDFframeLoaded()\" />\n",
       "        "
      ],
      "text/plain": [
       "<IPython.core.display.HTML object>"
      ]
     },
     "metadata": {},
     "output_type": "display_data"
    }
   ],
   "source": [
    "pdfGet('latex/sections/3.2.asymptotic.pdf').show()"
   ]
  },
  {
   "cell_type": "markdown",
   "metadata": {},
   "source": [
    "可见，采用渐进表达式给出的 $\\ln\\det H_n$ 估计值在 $n$ 充分大时是比较有效的。事实上，不妨考察更大的 $n$ 值："
   ]
  },
  {
   "cell_type": "code",
   "execution_count": 16,
   "metadata": {},
   "outputs": [
    {
     "data": {
      "text/plain": [
       "{'100': -13680.745699832958,\n",
       " '1000': -1384458.6494934857,\n",
       " '10000': -138611060.08241153}"
      ]
     },
     "execution_count": 16,
     "metadata": {},
     "output_type": "execute_result"
    }
   ],
   "source": [
    "largeNs = [100, 1000, 10000]\n",
    "# WARNING: This will take a loooong time! Don't run unless prepared! \n",
    "# hilbertDetLogTheoretical_largeNs = {\n",
    "#     f'{n}': 4 * logC(n) - logC(2 * n) for n in largeNs\n",
    "# }\n",
    "hilbertDetLogTheoretical_largeNs = {\n",
    "    '100': -13680.745699832958,\n",
    "    '1000': -1384458.6494934857,\n",
    "    '10000': -138611060.08241153\n",
    "}\n",
    "hilbertDetLogTheoretical_largeNs"
   ]
  },
  {
   "cell_type": "markdown",
   "metadata": {},
   "source": [
    "此时对数 + 阶乘的精确公式需要巨大的计算量，不切实际；而渐进表达式的精度随 $n$ 增大进一步提高，如下所示："
   ]
  },
  {
   "cell_type": "code",
   "execution_count": 17,
   "metadata": {},
   "outputs": [
    {
     "data": {
      "text/html": [
       "<div>\n",
       "<style scoped>\n",
       "    .dataframe tbody tr th:only-of-type {\n",
       "        vertical-align: middle;\n",
       "    }\n",
       "\n",
       "    .dataframe tbody tr th {\n",
       "        vertical-align: top;\n",
       "    }\n",
       "\n",
       "    .dataframe thead th {\n",
       "        text-align: right;\n",
       "    }\n",
       "</style>\n",
       "<table border=\"1\" class=\"dataframe\">\n",
       "  <thead>\n",
       "    <tr style=\"text-align: right;\">\n",
       "      <th></th>\n",
       "      <th>Nice asymptotic</th>\n",
       "      <th>Rough asymptotic</th>\n",
       "    </tr>\n",
       "  </thead>\n",
       "  <tbody>\n",
       "    <tr>\n",
       "      <th>100</th>\n",
       "      <td>2.552795e-04</td>\n",
       "      <td>0.013318</td>\n",
       "    </tr>\n",
       "    <tr>\n",
       "      <th>1000</th>\n",
       "      <td>2.729996e-06</td>\n",
       "      <td>0.001326</td>\n",
       "    </tr>\n",
       "    <tr>\n",
       "      <th>10000</th>\n",
       "      <td>2.934343e-08</td>\n",
       "      <td>0.000133</td>\n",
       "    </tr>\n",
       "  </tbody>\n",
       "</table>\n",
       "</div>"
      ],
      "text/plain": [
       "       Nice asymptotic  Rough asymptotic\n",
       "100       2.552795e-04          0.013318\n",
       "1000      2.729996e-06          0.001326\n",
       "10000     2.934343e-08          0.000133"
      ]
     },
     "execution_count": 17,
     "metadata": {},
     "output_type": "execute_result"
    }
   ],
   "source": [
    "hilbertDetLogError_largeN = pd.DataFrame(\n",
    "    [[relativeError(hilbertDetLogApproxFunction(n),\n",
    "                    hilbertDetLogTheoretical_largeNs[f'{n}']),\n",
    "      relativeError(- n**2 * log(4),\n",
    "                    hilbertDetLogTheoretical_largeNs[f'{n}'])]\n",
    "     for n in largeNs],\n",
    "    columns=['Nice asymptotic', 'Rough asymptotic'])\n",
    "hilbertDetLogError_largeN.index = largeNs\n",
    "hilbertDetLogError_largeN"
   ]
  },
  {
   "cell_type": "markdown",
   "metadata": {},
   "source": [
    "即此时应当采用渐进展开来估计 $\\ln\\det H_n$. \n",
    "> 事实上，还有另一种办法，即直接给出 $\\ln\\det H_n$ 的 *解析* 表达式；这竟然是可以做到的！伟大的 Mathematica 告诉我们：\n",
    "> $$ \\ln\\det H_n = 4 \\ln G(x+1) - \\ln G(2x+1) $$\n",
    "> 其中 $G$ 为 Barnes G 函数（Mathematica `BarnesG`）。在此基础上便可给出 $\\ln\\det H_n$ 任意精度的值。"
   ]
  },
  {
   "cell_type": "markdown",
   "metadata": {},
   "source": [
    "### (d) $H_n \\cdot c = b$ 的求解\n",
    "\n",
    "对 $b = (1,1,\\cdots,1)$, 求解上述线性方程，由此探究 $H_n$ 的近奇异性。注意到 $n = 1$ 的情形是平凡的，因此我们只看 $n = 2,3,\\dots,11$. <br/>\n",
    "（为补偿去掉的 $n = 1$, 增加了一个数据点 $n = 11$. ）\n",
    "\n",
    "类似前文，首先构造精确的参考解："
   ]
  },
  {
   "cell_type": "code",
   "execution_count": 18,
   "metadata": {},
   "outputs": [
    {
     "data": {
      "text/plain": [
       "[[-2, 6], [3, -24, 30], [-4, 60, -180, 140], [5, -120, 630, -1120, 630], [-6, 210, -1680, 5040, -6300, 2772], [7, -336, 3780, -16800, 34650, -33264, 12012], [-8, 504, -7560, 46200, -138600, 216216, -168168, 51480], [9, -720, 13860, -110880, 450450, -1009008, 1261260, -823680, 218790], [-10, 990, -23760, 240240, -1261260, 3783780, -6726720, 7001280, -3938220, 923780], [11, -1320, 38610, -480480, 3153150, -12108096, 28588560, -42007680, 37413090, -18475600, 3879876]]"
      ]
     },
     "execution_count": 18,
     "metadata": {},
     "output_type": "execute_result"
    }
   ],
   "source": [
    "def hilbertSol(n: int):\n",
    "    \"\"\" Calculate H.inverse dot b, b: constant vector of 1 \"\"\"\n",
    "    return hilbertMatrix(n).inv().dot(\n",
    "        sym.Matrix(eval('[1] * n')))\n",
    "hilbertSolList = [hilbertSol(n) for n in mrange(2, 11)]\n",
    "hilbertSolList"
   ]
  },
  {
   "cell_type": "markdown",
   "metadata": {},
   "source": [
    "下面编写通用的方程求解代码；首先有适用范围最广的高斯消元法（Gaussian elimination, GEM, 虽说按道理来说应当叫九章算法）："
   ]
  },
  {
   "cell_type": "code",
   "execution_count": 19,
   "metadata": {},
   "outputs": [],
   "source": [
    "def gem(m: list, b: list) -> list:\n",
    "    \"\"\" Gaussian Elimination: m x = b;\n",
    "        :param m: real matrix as (column_dim) * (row_dim) list;\n",
    "        :param b: row_dim-vector as list;\n",
    "        :return:  solution as list; return blank list if fails.\n",
    "    \"\"\"\n",
    "\n",
    "    # Define dimension:\n",
    "    column_dim = len(b)  # Must have: len(m) == len(b).\n",
    "    row_dim = len(m[0])  # m: NOT necessarily a square.\n",
    "    try:\n",
    "        augmented_m = [ m[i][:] + [b[i]] for i in range(column_dim) ]\n",
    "    except IndexError:\n",
    "        print('GEM Error：dimension inconsistent!')  # When len(m) != len(b).\n",
    "\n",
    "    # Gaussian elimination -> upper triangular matrix\n",
    "    # Note: row has row_dim, but its element is labeled by column_index.\n",
    "    #       column has column_dim, but its element is labeled by row_index.\n",
    "    for column_index in range(row_dim - 1):      # -1: no need for last column.\n",
    "        pivot_row = column_index                 # Start from diagonal element\n",
    "        pivot_value = augmented_m[pivot_row][column_index]\n",
    "        for row in range(column_index + 1, column_dim):   # Partial pivoting\n",
    "            if abs(augmented_m[row][column_index]) > abs(pivot_value):\n",
    "                pivot_row = row\n",
    "                pivot_value = augmented_m[row][column_index]\n",
    "        if pivot_row != column_index:                     # Row switch\n",
    "            augmented_m[pivot_row], augmented_m[column_index] \\\n",
    "                = augmented_m[column_index], augmented_m[pivot_row]\n",
    "        for row in range(column_index + 1, column_dim):\n",
    "            try:                                          # Gaussian Elimination\n",
    "                resize_factor = augmented_m[row][column_index] / pivot_value\n",
    "            except ZeroDivisionError:\n",
    "                print(\"GEM Error：matrix is singular!\")\n",
    "                return []\n",
    "            for column in range(column_index, row_dim + 1):\n",
    "                augmented_m[row][column] \\\n",
    "                    -= augmented_m[column_index][column] * resize_factor\n",
    "\n",
    "    # Substitution:\n",
    "    x = []\n",
    "    for index in range(column_dim - 1, -1, -1):\n",
    "        partial_mx = sum(\n",
    "            [ x[j] * augmented_m[index][row_dim - j - 1]\n",
    "              for j in range(len(x)) ]   # Partial sum of m * solved_xComponent\n",
    "        )                                # x[] is reversed for convenience\n",
    "        new_xComponent = (augmented_m[index][row_dim] - partial_mx) \\\n",
    "            / augmented_m[index][index]\n",
    "        x.append(new_xComponent)\n",
    "    x.reverse()                          # Reverse back.\n",
    "    return x"
   ]
  },
  {
   "cell_type": "markdown",
   "metadata": {},
   "source": [
    "然后是 Cholesky 分解："
   ]
  },
  {
   "cell_type": "code",
   "execution_count": 20,
   "metadata": {},
   "outputs": [],
   "source": [
    "def cholesky(m: list, b: list) -> list:\n",
    "    \"\"\" Cholesky Decomposition: m x = b;\n",
    "        :param m: real *positive-definite* matrix, as dim * dim (square) list;\n",
    "        :param b: dim-vector as list;\n",
    "        :return:  solution as list; return blank list if fails.\n",
    "    \"\"\"\n",
    "\n",
    "    # Note: m must be a square matrix!\n",
    "    dim = len(m)\n",
    "    if dim != len(b):\n",
    "        print('Cholesky Error：dimension inconsistent!')\n",
    "        return []\n",
    "\n",
    "    # Cholesky decomposition\n",
    "    h = [[0. for column in range(dim)] for row in range(dim)]\n",
    "    h[0][0] = sqrt(m[0][0])\n",
    "    for i in range(1, dim):          # Hard to ensure positive-definiteness;\n",
    "        try:                         # therefore prepared for error!\n",
    "            for j in range(i):\n",
    "                h[i][j] = (\n",
    "                    m[i][j]\n",
    "                    - sum([ h[i][k] * h[j][k] for k in range(j) ])\n",
    "                ) / h[j][j]\n",
    "            hii_squared = m[i][i] - sum([ h[i][k] ** 2 for k in range(i) ])\n",
    "            h[i][i] = sqrt(hii_squared)\n",
    "        except (ValueError, ZeroDivisionError):\n",
    "            print(f'Cholesky Error: h[{i:d}][{i:d}]^2 = {hii_squared:g} <= 0, '\n",
    "                  'matrix ill-conditioned!')\n",
    "            return []\n",
    "\n",
    "    # Substitution:\n",
    "    h_t = transpose(h)     # Nice to have real matrix! adjoint == transpose\n",
    "    y = []\n",
    "    for index in range(dim):\n",
    "        new_yComponent = (\n",
    "            b[index]\n",
    "            - sum([ y[j] * h[index][j] for j in range(len(y)) ])\n",
    "        ) / h[index][index]\n",
    "        y.append(new_yComponent)\n",
    "    x = []\n",
    "    for index in range(dim - 1, -1, -1):\n",
    "        new_xComponent = (\n",
    "            y[index]\n",
    "            - sum([ x[j] * h_t[index][dim - j - 1] for j in range(len(x)) ])\n",
    "        ) / h_t[index][index]\n",
    "        x.append(new_xComponent)\n",
    "    x.reverse()\n",
    "    return x"
   ]
  },
  {
   "cell_type": "markdown",
   "metadata": {},
   "source": [
    "重定义 `float` 类型的 $H_n$: "
   ]
  },
  {
   "cell_type": "code",
   "execution_count": 21,
   "metadata": {},
   "outputs": [],
   "source": [
    "def hilbertMatrixNumerical(n):\n",
    "    return [ [ 1. / (i + j - 1)\n",
    "               for i in mrange(1, n)]\n",
    "             for j in mrange(1, n)]"
   ]
  },
  {
   "cell_type": "markdown",
   "metadata": {},
   "source": [
    "以偏离最大的分量为准，比较相对误差如下："
   ]
  },
  {
   "cell_type": "code",
   "execution_count": 22,
   "metadata": {},
   "outputs": [
    {
     "data": {
      "text/html": [
       "<div>\n",
       "<style scoped>\n",
       "    .dataframe tbody tr th:only-of-type {\n",
       "        vertical-align: middle;\n",
       "    }\n",
       "\n",
       "    .dataframe tbody tr th {\n",
       "        vertical-align: top;\n",
       "    }\n",
       "\n",
       "    .dataframe thead th {\n",
       "        text-align: right;\n",
       "    }\n",
       "</style>\n",
       "<table border=\"1\" class=\"dataframe\">\n",
       "  <thead>\n",
       "    <tr style=\"text-align: right;\">\n",
       "      <th></th>\n",
       "      <th>GEM</th>\n",
       "      <th>Cholesky</th>\n",
       "    </tr>\n",
       "  </thead>\n",
       "  <tbody>\n",
       "    <tr>\n",
       "      <th>2</th>\n",
       "      <td>4.44089209850063e-16</td>\n",
       "      <td>2.22044604925031e-16</td>\n",
       "    </tr>\n",
       "    <tr>\n",
       "      <th>3</th>\n",
       "      <td>6.51330841113425e-15</td>\n",
       "      <td>4.73695157173400e-15</td>\n",
       "    </tr>\n",
       "    <tr>\n",
       "      <th>4</th>\n",
       "      <td>-8.72952503933837e-14</td>\n",
       "      <td>-8.66862137627322e-14</td>\n",
       "    </tr>\n",
       "    <tr>\n",
       "      <th>5</th>\n",
       "      <td>3.66843063862429e-13</td>\n",
       "      <td>-2.51807322788481e-12</td>\n",
       "    </tr>\n",
       "    <tr>\n",
       "      <th>6</th>\n",
       "      <td>1.86702209248324e-10</td>\n",
       "      <td>-1.79028060614141e-12</td>\n",
       "    </tr>\n",
       "    <tr>\n",
       "      <th>7</th>\n",
       "      <td>6.14563029038046e-9</td>\n",
       "      <td>1.35239426007112e-9</td>\n",
       "    </tr>\n",
       "    <tr>\n",
       "      <th>8</th>\n",
       "      <td>-1.98951780863168e-8</td>\n",
       "      <td>-4.47140785234744e-8</td>\n",
       "    </tr>\n",
       "    <tr>\n",
       "      <th>9</th>\n",
       "      <td>-2.87910455529576e-6</td>\n",
       "      <td>-3.98234800962092e-6</td>\n",
       "    </tr>\n",
       "    <tr>\n",
       "      <th>10</th>\n",
       "      <td>-8.32347897425841e-5</td>\n",
       "      <td>-0.000157734346871478</td>\n",
       "    </tr>\n",
       "    <tr>\n",
       "      <th>11</th>\n",
       "      <td>-0.00201528738811147</td>\n",
       "      <td>-0.00378353196020243</td>\n",
       "    </tr>\n",
       "  </tbody>\n",
       "</table>\n",
       "</div>"
      ],
      "text/plain": [
       "                      GEM               Cholesky\n",
       "2    4.44089209850063e-16   2.22044604925031e-16\n",
       "3    6.51330841113425e-15   4.73695157173400e-15\n",
       "4   -8.72952503933837e-14  -8.66862137627322e-14\n",
       "5    3.66843063862429e-13  -2.51807322788481e-12\n",
       "6    1.86702209248324e-10  -1.79028060614141e-12\n",
       "7     6.14563029038046e-9    1.35239426007112e-9\n",
       "8    -1.98951780863168e-8   -4.47140785234744e-8\n",
       "9    -2.87910455529576e-6   -3.98234800962092e-6\n",
       "10   -8.32347897425841e-5  -0.000157734346871478\n",
       "11   -0.00201528738811147   -0.00378353196020243"
      ]
     },
     "execution_count": 22,
     "metadata": {},
     "output_type": "execute_result"
    }
   ],
   "source": [
    "# Create error list: index 0 for GEM, 1 for Cholesky.\n",
    "errorList = [[0. for n in mrange(2, 11)] for method in range(2)]\n",
    "for n in mrange(2, 11):\n",
    "    m = hilbertMatrixNumerical(n)\n",
    "    b = [1.] * n\n",
    "    x_gem = gem(m, b)\n",
    "    x_cholesky = cholesky(m, b)\n",
    "    # Index handling is terrifying! mrange(2, 11) -> 0, 1, ... , 8\n",
    "    errorList[0][n - 2] \\\n",
    "        = max([ relativeError(x_gem[i], hilbertSolList[n - 2][i])\n",
    "                for i in range(n)])\n",
    "    errorList[1][n - 2] \\\n",
    "        = max([ relativeError(x_cholesky[i], hilbertSolList[n - 2][i])\n",
    "                for i in range(n)])\n",
    "errorTable = pd.DataFrame(transpose(errorList), columns=['GEM', 'Cholesky'])\n",
    "errorTable.index = mrange(2, 11)\n",
    "errorTable.to_csv('methodsCompare.csv')\n",
    "errorTable"
   ]
  },
  {
   "cell_type": "markdown",
   "metadata": {},
   "source": [
    "图像如下，注意纵轴为对数标度！"
   ]
  },
  {
   "cell_type": "code",
   "execution_count": 23,
   "metadata": {},
   "outputs": [
    {
     "data": {
      "text/html": [
       "\n",
       "            <iframe class=\"PDFframe\" src='assets/embed.html?file=latex/sections/3.3.errorplot.pdf'\n",
       "                width=\"100%\" frameborder=\"0\" onload=\"PDFframeLoaded()\" />\n",
       "        "
      ],
      "text/plain": [
       "<IPython.core.display.HTML object>"
      ]
     },
     "metadata": {},
     "output_type": "display_data"
    }
   ],
   "source": [
    "pdfGet('latex/sections/3.3.errorplot.pdf').show()"
   ]
  },
  {
   "cell_type": "markdown",
   "metadata": {},
   "source": [
    "相对误差随阶数 $n$ 增大而近乎指数地增长，可见这一问题确实是非常地病态。\n",
    "\n",
    "$n$ 较小时，两种算法在精确程度方面各有胜负；但当 $8 \\le n \\le 11$ 时 Cholesky 分解给出的误差稍大。原因在于，Cholesky 分解过程中必须除以对角元 `h[j][j]`, 而 `h[j][j]` 将随 $n$ 增大而迅速趋于零（行为与 $\\det H_n$ 相近）；不得不除以一个近零的数，这显著地影响了 Cholesky 分解的精度。与之相比，GEM 通过支点遴选 *部分地* 避免了这一问题，因此在大 $n$ 时有相对较好的表现。"
   ]
  }
 ],
 "metadata": {
  "kernelspec": {
   "display_name": "Python 3",
   "language": "python",
   "name": "python3"
  },
  "language_info": {
   "codemirror_mode": {
    "name": "ipython",
    "version": 3
   },
   "file_extension": ".py",
   "mimetype": "text/x-python",
   "name": "python",
   "nbconvert_exporter": "python",
   "pygments_lexer": "ipython3",
   "version": "3.6.4"
  }
 },
 "nbformat": 4,
 "nbformat_minor": 2
}
